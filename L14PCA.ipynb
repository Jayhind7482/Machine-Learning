{
 "cells": [
  {
   "cell_type": "markdown",
   "id": "ef3877cd",
   "metadata": {},
   "source": [
    "# PCA"
   ]
  },
  {
   "cell_type": "code",
   "execution_count": 1,
   "id": "e0e23986",
   "metadata": {},
   "outputs": [],
   "source": [
    "import numpy as np\n",
    "import pandas as pd \n",
    "import matplotlib.pyplot as plt "
   ]
  },
  {
   "cell_type": "code",
   "execution_count": 2,
   "id": "76520685",
   "metadata": {},
   "outputs": [],
   "source": [
    "\n",
    "\n",
    "np.random.seed(23)\n",
    "\n",
    "# Class 1\n",
    "mu_vec1 = np.array([0,0,0])\n",
    "cov_mat1 = np.array([[1,0,0],[0,1,0],[0,0,1]])\n",
    "class1_sample = np.random.multivariate_normal(mu_vec1, cov_mat1, 20)\n",
    "df = pd.DataFrame(class1_sample, columns=['feature1','feature2','feature3'])\n",
    "df['target'] = 1\n",
    "\n",
    "# Class 2\n",
    "mu_vec2 = np.array([1,1,1])\n",
    "cov_mat2 = np.array([[1,0,0],[0,1,0],[0,0,1]])\n",
    "class2_sample = np.random.multivariate_normal(mu_vec2, cov_mat2, 20)\n",
    "df1 = pd.DataFrame(class2_sample, columns=['feature1','feature2','feature3'])\n",
    "df1['target'] = 0\n",
    "\n",
    "# Combine\n",
    "df = pd.concat([df, df1], ignore_index=True)\n",
    "\n",
    "# Shuffle\n",
    "df = df.sample(40, random_state=23)\n"
   ]
  },
  {
   "cell_type": "code",
   "execution_count": 3,
   "id": "64c74ce3",
   "metadata": {},
   "outputs": [
    {
     "data": {
      "text/html": [
       "<div>\n",
       "<style scoped>\n",
       "    .dataframe tbody tr th:only-of-type {\n",
       "        vertical-align: middle;\n",
       "    }\n",
       "\n",
       "    .dataframe tbody tr th {\n",
       "        vertical-align: top;\n",
       "    }\n",
       "\n",
       "    .dataframe thead th {\n",
       "        text-align: right;\n",
       "    }\n",
       "</style>\n",
       "<table border=\"1\" class=\"dataframe\">\n",
       "  <thead>\n",
       "    <tr style=\"text-align: right;\">\n",
       "      <th></th>\n",
       "      <th>feature1</th>\n",
       "      <th>feature2</th>\n",
       "      <th>feature3</th>\n",
       "      <th>target</th>\n",
       "    </tr>\n",
       "  </thead>\n",
       "  <tbody>\n",
       "    <tr>\n",
       "      <th>18</th>\n",
       "      <td>-0.331617</td>\n",
       "      <td>-1.632386</td>\n",
       "      <td>0.619114</td>\n",
       "      <td>1</td>\n",
       "    </tr>\n",
       "    <tr>\n",
       "      <th>23</th>\n",
       "      <td>1.010229</td>\n",
       "      <td>1.437830</td>\n",
       "      <td>2.327788</td>\n",
       "      <td>0</td>\n",
       "    </tr>\n",
       "    <tr>\n",
       "      <th>8</th>\n",
       "      <td>0.241106</td>\n",
       "      <td>-0.952510</td>\n",
       "      <td>-0.136267</td>\n",
       "      <td>1</td>\n",
       "    </tr>\n",
       "    <tr>\n",
       "      <th>22</th>\n",
       "      <td>1.676860</td>\n",
       "      <td>4.187503</td>\n",
       "      <td>-0.080565</td>\n",
       "      <td>0</td>\n",
       "    </tr>\n",
       "    <tr>\n",
       "      <th>33</th>\n",
       "      <td>2.823378</td>\n",
       "      <td>-0.332863</td>\n",
       "      <td>2.637391</td>\n",
       "      <td>0</td>\n",
       "    </tr>\n",
       "  </tbody>\n",
       "</table>\n",
       "</div>"
      ],
      "text/plain": [
       "    feature1  feature2  feature3  target\n",
       "18 -0.331617 -1.632386  0.619114       1\n",
       "23  1.010229  1.437830  2.327788       0\n",
       "8   0.241106 -0.952510 -0.136267       1\n",
       "22  1.676860  4.187503 -0.080565       0\n",
       "33  2.823378 -0.332863  2.637391       0"
      ]
     },
     "execution_count": 3,
     "metadata": {},
     "output_type": "execute_result"
    }
   ],
   "source": [
    "df.head()"
   ]
  },
  {
   "cell_type": "code",
   "execution_count": 31,
   "id": "bd82b489",
   "metadata": {},
   "outputs": [
    {
     "data": {
      "text/plain": [
       "(40, 4)"
      ]
     },
     "execution_count": 31,
     "metadata": {},
     "output_type": "execute_result"
    }
   ],
   "source": [
    "df.shape"
   ]
  },
  {
   "cell_type": "code",
   "execution_count": 35,
   "id": "b4d5bf78",
   "metadata": {},
   "outputs": [
    {
     "data": {
      "text/plain": [
       "array([-0.66938283,  0.50422715, -0.16846565,  1.08727791,  2.09004923,\n",
       "       -1.0119167 ,  0.85852885,  1.17071536, -0.01145648,  0.87827128,\n",
       "       -0.20036274,  0.71458037, -1.59495163, -0.09747667,  0.53496314,\n",
       "        0.2756231 ,  0.45035432, -0.41908357, -1.2783337 , -0.74742268,\n",
       "        0.86711774,  0.2040204 , -1.26266138,  0.26075704,  1.34229583,\n",
       "       -0.70080891, -0.21304077,  0.69985297, -0.39905584, -0.22448087,\n",
       "       -1.98695948, -0.04273094, -0.12504953,  0.40686216,  1.37957585,\n",
       "       -2.57134993,  1.56619581,  0.72902185, -1.04782923, -1.24747084])"
      ]
     },
     "execution_count": 35,
     "metadata": {},
     "output_type": "execute_result"
    }
   ],
   "source": [
    "df.feature1.values"
   ]
  },
  {
   "cell_type": "code",
   "execution_count": 4,
   "id": "4ccf4338",
   "metadata": {},
   "outputs": [
    {
     "data": {
      "application/vnd.plotly.v1+json": {
       "config": {
        "plotlyServerURL": "https://plot.ly"
       },
       "data": [
        {
         "hovertemplate": "color=1<br>feature1=%{x}<br>feature2=%{y}<br>feature3=%{z}<extra></extra>",
         "legendgroup": "1",
         "marker": {
          "color": "#636efa",
          "line": {
           "color": "DarkSlateGrey",
           "width": 2
          },
          "size": 12,
          "symbol": "circle"
         },
         "mode": "markers",
         "name": "1",
         "scene": "scene",
         "showlegend": true,
         "type": "scatter3d",
         "x": {
          "bdata": "XWrTBzc51b/rGwg+ktzOP9dqhJAmpfY/tVQWfytb/D9B9VhOe+vaPxdHFboYoNQ/kJ6GO9e58D8W2W9RNVvuPx8HAQqYQ6e/S8YDehvv2r9HixtW91flPwXkLNC4KPC/dReZarV+/z80f5uI6IXXv5FNU1ONVsg/PMapTm8Ul79IomW/uWj9v4HC/nrCDATAFZ26DqZG9D8gAM0WKsPvvw==",
          "dtype": "f8"
         },
         "y": {
          "bdata": "w/iaE0Ee+r8VKJlE9Xruv/jxS/4iS90/wfbIosQ81r8NGQXo+VfaP5YlneFE5a4/zvpjcZ844T+dLFFoGHTmP+S0zQx4p/A/VNg87OOp4b/MXvSLvm6aP8t0NaJoRdw/T/tXt3qH4b+Q6sLuCDPyv8nRL/ZtY+A/5cvj4yB9iz8QfiWDZAruvzL9tvuZz8I/kwOAlKA5xj8G31OX/6bEvw==",
          "dtype": "f8"
         },
         "z": {
          "bdata": "HpfeUMjP4z9r1PVmMHHBvyMGgm7zUuc/3SNsyMlx5T9TmEbkSEKyv5g2CKH4sfC/QJLkSuD86T++jebmOtHwv46XCA6pEri/EWgNuD8Av78dmIwbQuLovxA/7CzhD/I/rIkhY8u95b8bPiAphCf1v0oEQKJA1sA/0NyvtELz7T//12wF6dXJv5VhzxX0ZeM/JVQemXOS879pID6QFhTzPw==",
          "dtype": "f8"
         }
        },
        {
         "hovertemplate": "color=0<br>feature1=%{x}<br>feature2=%{y}<br>feature3=%{z}<extra></extra>",
         "legendgroup": "0",
         "marker": {
          "color": "#EF553B",
          "line": {
           "color": "DarkSlateGrey",
           "width": 2
          },
          "size": 12,
          "symbol": "circle"
         },
         "mode": "markers",
         "name": "0",
         "scene": "scene",
         "showlegend": true,
         "type": "scatter3d",
         "x": {
          "bdata": "fDUzM+Yp8D80XStGa9T6P6qo8FNHlgZAJPjdmuMk57+Wan6LmwH3PzxDN72JMco/boKqVAQD9D/qajXl4zz2v1LhPrKe9uc/niXQLh5y8L8RrEKwX832P751Ny1ha+c/p/fE0Qu+8z9wHhgF8qnGPwR8rOSgodg/DnBqhZWb0j9Ld2XL2MPsP+SsyAKmFgBAhPnPTqLLAUB0IVviQXXovw==",
          "dtype": "f8"
         },
         "y": {
          "bdata": "dBPrsVkB9z+420q0AMAQQISQgK6iTdW/q4tiVFFh9z/rSZNvd5jxPwAQxuXDn4e/iFzPPGzbxz9OWS/L0VXlP9S81MiwvgRAsb/G+0ca8j+/Yffh9A73P1jumWzfjuA/cH+Q0qgFqz8m9KG3tSPjv9vOHDE+LfU/XGl6NkO+6z9CSIFVxubbPyQNJSFmvP4/SITVQsd9zT97GHprZhD5Pw==",
          "dtype": "f8"
         },
         "z": {
          "bdata": "eMwFHk+fAkBAVntK5J+0v9+DjJFgGQVAUBJx45jatb9IVdQ75wvxP4BbuR3MNAlAIB8B2gpC+z+6MOhuC3/1P/gnGVmru/I/0gHUZ2zTBEDc2FLsJV7HPykn51b29AFAgJBgIqq90L/L0CjGyp/zP5CgEwzjarq/afkQ3M9x7z9c8cEkV0XqP/wNj833dgdASUWsFewS8z8i5u4A1sf4Pw==",
          "dtype": "f8"
         }
        }
       ],
       "layout": {
        "legend": {
         "title": {
          "text": "color"
         },
         "tracegroupgap": 0
        },
        "margin": {
         "t": 60
        },
        "scene": {
         "domain": {
          "x": [
           0,
           1
          ],
          "y": [
           0,
           1
          ]
         },
         "xaxis": {
          "title": {
           "text": "feature1"
          }
         },
         "yaxis": {
          "title": {
           "text": "feature2"
          }
         },
         "zaxis": {
          "title": {
           "text": "feature3"
          }
         }
        },
        "template": {
         "data": {
          "bar": [
           {
            "error_x": {
             "color": "#2a3f5f"
            },
            "error_y": {
             "color": "#2a3f5f"
            },
            "marker": {
             "line": {
              "color": "#E5ECF6",
              "width": 0.5
             },
             "pattern": {
              "fillmode": "overlay",
              "size": 10,
              "solidity": 0.2
             }
            },
            "type": "bar"
           }
          ],
          "barpolar": [
           {
            "marker": {
             "line": {
              "color": "#E5ECF6",
              "width": 0.5
             },
             "pattern": {
              "fillmode": "overlay",
              "size": 10,
              "solidity": 0.2
             }
            },
            "type": "barpolar"
           }
          ],
          "carpet": [
           {
            "aaxis": {
             "endlinecolor": "#2a3f5f",
             "gridcolor": "white",
             "linecolor": "white",
             "minorgridcolor": "white",
             "startlinecolor": "#2a3f5f"
            },
            "baxis": {
             "endlinecolor": "#2a3f5f",
             "gridcolor": "white",
             "linecolor": "white",
             "minorgridcolor": "white",
             "startlinecolor": "#2a3f5f"
            },
            "type": "carpet"
           }
          ],
          "choropleth": [
           {
            "colorbar": {
             "outlinewidth": 0,
             "ticks": ""
            },
            "type": "choropleth"
           }
          ],
          "contour": [
           {
            "colorbar": {
             "outlinewidth": 0,
             "ticks": ""
            },
            "colorscale": [
             [
              0,
              "#0d0887"
             ],
             [
              0.1111111111111111,
              "#46039f"
             ],
             [
              0.2222222222222222,
              "#7201a8"
             ],
             [
              0.3333333333333333,
              "#9c179e"
             ],
             [
              0.4444444444444444,
              "#bd3786"
             ],
             [
              0.5555555555555556,
              "#d8576b"
             ],
             [
              0.6666666666666666,
              "#ed7953"
             ],
             [
              0.7777777777777778,
              "#fb9f3a"
             ],
             [
              0.8888888888888888,
              "#fdca26"
             ],
             [
              1,
              "#f0f921"
             ]
            ],
            "type": "contour"
           }
          ],
          "contourcarpet": [
           {
            "colorbar": {
             "outlinewidth": 0,
             "ticks": ""
            },
            "type": "contourcarpet"
           }
          ],
          "heatmap": [
           {
            "colorbar": {
             "outlinewidth": 0,
             "ticks": ""
            },
            "colorscale": [
             [
              0,
              "#0d0887"
             ],
             [
              0.1111111111111111,
              "#46039f"
             ],
             [
              0.2222222222222222,
              "#7201a8"
             ],
             [
              0.3333333333333333,
              "#9c179e"
             ],
             [
              0.4444444444444444,
              "#bd3786"
             ],
             [
              0.5555555555555556,
              "#d8576b"
             ],
             [
              0.6666666666666666,
              "#ed7953"
             ],
             [
              0.7777777777777778,
              "#fb9f3a"
             ],
             [
              0.8888888888888888,
              "#fdca26"
             ],
             [
              1,
              "#f0f921"
             ]
            ],
            "type": "heatmap"
           }
          ],
          "histogram": [
           {
            "marker": {
             "pattern": {
              "fillmode": "overlay",
              "size": 10,
              "solidity": 0.2
             }
            },
            "type": "histogram"
           }
          ],
          "histogram2d": [
           {
            "colorbar": {
             "outlinewidth": 0,
             "ticks": ""
            },
            "colorscale": [
             [
              0,
              "#0d0887"
             ],
             [
              0.1111111111111111,
              "#46039f"
             ],
             [
              0.2222222222222222,
              "#7201a8"
             ],
             [
              0.3333333333333333,
              "#9c179e"
             ],
             [
              0.4444444444444444,
              "#bd3786"
             ],
             [
              0.5555555555555556,
              "#d8576b"
             ],
             [
              0.6666666666666666,
              "#ed7953"
             ],
             [
              0.7777777777777778,
              "#fb9f3a"
             ],
             [
              0.8888888888888888,
              "#fdca26"
             ],
             [
              1,
              "#f0f921"
             ]
            ],
            "type": "histogram2d"
           }
          ],
          "histogram2dcontour": [
           {
            "colorbar": {
             "outlinewidth": 0,
             "ticks": ""
            },
            "colorscale": [
             [
              0,
              "#0d0887"
             ],
             [
              0.1111111111111111,
              "#46039f"
             ],
             [
              0.2222222222222222,
              "#7201a8"
             ],
             [
              0.3333333333333333,
              "#9c179e"
             ],
             [
              0.4444444444444444,
              "#bd3786"
             ],
             [
              0.5555555555555556,
              "#d8576b"
             ],
             [
              0.6666666666666666,
              "#ed7953"
             ],
             [
              0.7777777777777778,
              "#fb9f3a"
             ],
             [
              0.8888888888888888,
              "#fdca26"
             ],
             [
              1,
              "#f0f921"
             ]
            ],
            "type": "histogram2dcontour"
           }
          ],
          "mesh3d": [
           {
            "colorbar": {
             "outlinewidth": 0,
             "ticks": ""
            },
            "type": "mesh3d"
           }
          ],
          "parcoords": [
           {
            "line": {
             "colorbar": {
              "outlinewidth": 0,
              "ticks": ""
             }
            },
            "type": "parcoords"
           }
          ],
          "pie": [
           {
            "automargin": true,
            "type": "pie"
           }
          ],
          "scatter": [
           {
            "fillpattern": {
             "fillmode": "overlay",
             "size": 10,
             "solidity": 0.2
            },
            "type": "scatter"
           }
          ],
          "scatter3d": [
           {
            "line": {
             "colorbar": {
              "outlinewidth": 0,
              "ticks": ""
             }
            },
            "marker": {
             "colorbar": {
              "outlinewidth": 0,
              "ticks": ""
             }
            },
            "type": "scatter3d"
           }
          ],
          "scattercarpet": [
           {
            "marker": {
             "colorbar": {
              "outlinewidth": 0,
              "ticks": ""
             }
            },
            "type": "scattercarpet"
           }
          ],
          "scattergeo": [
           {
            "marker": {
             "colorbar": {
              "outlinewidth": 0,
              "ticks": ""
             }
            },
            "type": "scattergeo"
           }
          ],
          "scattergl": [
           {
            "marker": {
             "colorbar": {
              "outlinewidth": 0,
              "ticks": ""
             }
            },
            "type": "scattergl"
           }
          ],
          "scattermap": [
           {
            "marker": {
             "colorbar": {
              "outlinewidth": 0,
              "ticks": ""
             }
            },
            "type": "scattermap"
           }
          ],
          "scattermapbox": [
           {
            "marker": {
             "colorbar": {
              "outlinewidth": 0,
              "ticks": ""
             }
            },
            "type": "scattermapbox"
           }
          ],
          "scatterpolar": [
           {
            "marker": {
             "colorbar": {
              "outlinewidth": 0,
              "ticks": ""
             }
            },
            "type": "scatterpolar"
           }
          ],
          "scatterpolargl": [
           {
            "marker": {
             "colorbar": {
              "outlinewidth": 0,
              "ticks": ""
             }
            },
            "type": "scatterpolargl"
           }
          ],
          "scatterternary": [
           {
            "marker": {
             "colorbar": {
              "outlinewidth": 0,
              "ticks": ""
             }
            },
            "type": "scatterternary"
           }
          ],
          "surface": [
           {
            "colorbar": {
             "outlinewidth": 0,
             "ticks": ""
            },
            "colorscale": [
             [
              0,
              "#0d0887"
             ],
             [
              0.1111111111111111,
              "#46039f"
             ],
             [
              0.2222222222222222,
              "#7201a8"
             ],
             [
              0.3333333333333333,
              "#9c179e"
             ],
             [
              0.4444444444444444,
              "#bd3786"
             ],
             [
              0.5555555555555556,
              "#d8576b"
             ],
             [
              0.6666666666666666,
              "#ed7953"
             ],
             [
              0.7777777777777778,
              "#fb9f3a"
             ],
             [
              0.8888888888888888,
              "#fdca26"
             ],
             [
              1,
              "#f0f921"
             ]
            ],
            "type": "surface"
           }
          ],
          "table": [
           {
            "cells": {
             "fill": {
              "color": "#EBF0F8"
             },
             "line": {
              "color": "white"
             }
            },
            "header": {
             "fill": {
              "color": "#C8D4E3"
             },
             "line": {
              "color": "white"
             }
            },
            "type": "table"
           }
          ]
         },
         "layout": {
          "annotationdefaults": {
           "arrowcolor": "#2a3f5f",
           "arrowhead": 0,
           "arrowwidth": 1
          },
          "autotypenumbers": "strict",
          "coloraxis": {
           "colorbar": {
            "outlinewidth": 0,
            "ticks": ""
           }
          },
          "colorscale": {
           "diverging": [
            [
             0,
             "#8e0152"
            ],
            [
             0.1,
             "#c51b7d"
            ],
            [
             0.2,
             "#de77ae"
            ],
            [
             0.3,
             "#f1b6da"
            ],
            [
             0.4,
             "#fde0ef"
            ],
            [
             0.5,
             "#f7f7f7"
            ],
            [
             0.6,
             "#e6f5d0"
            ],
            [
             0.7,
             "#b8e186"
            ],
            [
             0.8,
             "#7fbc41"
            ],
            [
             0.9,
             "#4d9221"
            ],
            [
             1,
             "#276419"
            ]
           ],
           "sequential": [
            [
             0,
             "#0d0887"
            ],
            [
             0.1111111111111111,
             "#46039f"
            ],
            [
             0.2222222222222222,
             "#7201a8"
            ],
            [
             0.3333333333333333,
             "#9c179e"
            ],
            [
             0.4444444444444444,
             "#bd3786"
            ],
            [
             0.5555555555555556,
             "#d8576b"
            ],
            [
             0.6666666666666666,
             "#ed7953"
            ],
            [
             0.7777777777777778,
             "#fb9f3a"
            ],
            [
             0.8888888888888888,
             "#fdca26"
            ],
            [
             1,
             "#f0f921"
            ]
           ],
           "sequentialminus": [
            [
             0,
             "#0d0887"
            ],
            [
             0.1111111111111111,
             "#46039f"
            ],
            [
             0.2222222222222222,
             "#7201a8"
            ],
            [
             0.3333333333333333,
             "#9c179e"
            ],
            [
             0.4444444444444444,
             "#bd3786"
            ],
            [
             0.5555555555555556,
             "#d8576b"
            ],
            [
             0.6666666666666666,
             "#ed7953"
            ],
            [
             0.7777777777777778,
             "#fb9f3a"
            ],
            [
             0.8888888888888888,
             "#fdca26"
            ],
            [
             1,
             "#f0f921"
            ]
           ]
          },
          "colorway": [
           "#636efa",
           "#EF553B",
           "#00cc96",
           "#ab63fa",
           "#FFA15A",
           "#19d3f3",
           "#FF6692",
           "#B6E880",
           "#FF97FF",
           "#FECB52"
          ],
          "font": {
           "color": "#2a3f5f"
          },
          "geo": {
           "bgcolor": "white",
           "lakecolor": "white",
           "landcolor": "#E5ECF6",
           "showlakes": true,
           "showland": true,
           "subunitcolor": "white"
          },
          "hoverlabel": {
           "align": "left"
          },
          "hovermode": "closest",
          "mapbox": {
           "style": "light"
          },
          "paper_bgcolor": "white",
          "plot_bgcolor": "#E5ECF6",
          "polar": {
           "angularaxis": {
            "gridcolor": "white",
            "linecolor": "white",
            "ticks": ""
           },
           "bgcolor": "#E5ECF6",
           "radialaxis": {
            "gridcolor": "white",
            "linecolor": "white",
            "ticks": ""
           }
          },
          "scene": {
           "xaxis": {
            "backgroundcolor": "#E5ECF6",
            "gridcolor": "white",
            "gridwidth": 2,
            "linecolor": "white",
            "showbackground": true,
            "ticks": "",
            "zerolinecolor": "white"
           },
           "yaxis": {
            "backgroundcolor": "#E5ECF6",
            "gridcolor": "white",
            "gridwidth": 2,
            "linecolor": "white",
            "showbackground": true,
            "ticks": "",
            "zerolinecolor": "white"
           },
           "zaxis": {
            "backgroundcolor": "#E5ECF6",
            "gridcolor": "white",
            "gridwidth": 2,
            "linecolor": "white",
            "showbackground": true,
            "ticks": "",
            "zerolinecolor": "white"
           }
          },
          "shapedefaults": {
           "line": {
            "color": "#2a3f5f"
           }
          },
          "ternary": {
           "aaxis": {
            "gridcolor": "white",
            "linecolor": "white",
            "ticks": ""
           },
           "baxis": {
            "gridcolor": "white",
            "linecolor": "white",
            "ticks": ""
           },
           "bgcolor": "#E5ECF6",
           "caxis": {
            "gridcolor": "white",
            "linecolor": "white",
            "ticks": ""
           }
          },
          "title": {
           "x": 0.05
          },
          "xaxis": {
           "automargin": true,
           "gridcolor": "white",
           "linecolor": "white",
           "ticks": "",
           "title": {
            "standoff": 15
           },
           "zerolinecolor": "white",
           "zerolinewidth": 2
          },
          "yaxis": {
           "automargin": true,
           "gridcolor": "white",
           "linecolor": "white",
           "ticks": "",
           "title": {
            "standoff": 15
           },
           "zerolinecolor": "white",
           "zerolinewidth": 2
          }
         }
        }
       }
      }
     },
     "metadata": {},
     "output_type": "display_data"
    }
   ],
   "source": [
    "import plotly.express as px \n",
    "\n",
    "fig = px.scatter_3d(\n",
    "    df, \n",
    "    x=df['feature1'], \n",
    "    y=df['feature2'], \n",
    "    z=df['feature3'], \n",
    "    color=df['target'].astype('str')  # color points based on target labels\n",
    ")\n",
    "\n",
    "fig.update_traces(\n",
    "    marker=dict(\n",
    "        size=12,  # size of points\n",
    "        line=dict(\n",
    "            width=2,  # border thickness around points\n",
    "            color='DarkSlateGrey'  # border color\n",
    "        )\n",
    "    ),\n",
    "    selector=dict(mode='markers')  # apply these settings only to scatter markers\n",
    ")\n",
    "\n",
    "fig.show()\n"
   ]
  },
  {
   "cell_type": "code",
   "execution_count": 5,
   "id": "ca667fb5",
   "metadata": {},
   "outputs": [],
   "source": [
    "from sklearn.preprocessing import StandardScaler\n",
    "scaler = StandardScaler()\n",
    "df.iloc[:,0:3]= scaler.fit_transform(df.iloc[:,0:3])"
   ]
  },
  {
   "cell_type": "code",
   "execution_count": 7,
   "id": "3cf175ba",
   "metadata": {},
   "outputs": [
    {
     "name": "stdout",
     "output_type": "stream",
     "text": [
      "covariance matrix: [[1.02564103 0.20478114 0.080118  ]\n",
      " [0.20478114 1.02564103 0.19838882]\n",
      " [0.080118   0.19838882 1.02564103]]\n"
     ]
    }
   ],
   "source": [
    "cov_matrix = np.cov([df.iloc[:,0] , df.iloc[:,1] , df.iloc[:,2]])\n",
    "print(\"covariance matrix:\" , cov_matrix)"
   ]
  },
  {
   "cell_type": "code",
   "execution_count": 8,
   "id": "27a52601",
   "metadata": {},
   "outputs": [],
   "source": [
    "eigen_values , eigen_vector = np.linalg.eig(cov_matrix)"
   ]
  },
  {
   "cell_type": "code",
   "execution_count": 9,
   "id": "e873191c",
   "metadata": {},
   "outputs": [
    {
     "data": {
      "text/plain": [
       "array([1.3536065 , 0.94557084, 0.77774573])"
      ]
     },
     "execution_count": 9,
     "metadata": {},
     "output_type": "execute_result"
    }
   ],
   "source": [
    "eigen_values"
   ]
  },
  {
   "cell_type": "code",
   "execution_count": 10,
   "id": "18c6ab14",
   "metadata": {},
   "outputs": [
    {
     "data": {
      "text/plain": [
       "array([[-0.53875915, -0.69363291,  0.47813384],\n",
       "       [-0.65608325, -0.01057596, -0.75461442],\n",
       "       [-0.52848211,  0.72025103,  0.44938304]])"
      ]
     },
     "execution_count": 10,
     "metadata": {},
     "output_type": "execute_result"
    }
   ],
   "source": [
    "eigen_vector"
   ]
  },
  {
   "cell_type": "code",
   "execution_count": 11,
   "id": "2573c0ed",
   "metadata": {},
   "outputs": [],
   "source": [
    "pc = eigen_vector[0:2]"
   ]
  },
  {
   "cell_type": "code",
   "execution_count": 12,
   "id": "3bb561eb",
   "metadata": {},
   "outputs": [
    {
     "data": {
      "text/plain": [
       "array([[-0.53875915, -0.69363291,  0.47813384],\n",
       "       [-0.65608325, -0.01057596, -0.75461442]])"
      ]
     },
     "execution_count": 12,
     "metadata": {},
     "output_type": "execute_result"
    }
   ],
   "source": [
    "pc"
   ]
  },
  {
   "cell_type": "code",
   "execution_count": 14,
   "id": "4f5c0625",
   "metadata": {},
   "outputs": [
    {
     "data": {
      "text/html": [
       "<div>\n",
       "<style scoped>\n",
       "    .dataframe tbody tr th:only-of-type {\n",
       "        vertical-align: middle;\n",
       "    }\n",
       "\n",
       "    .dataframe tbody tr th {\n",
       "        vertical-align: top;\n",
       "    }\n",
       "\n",
       "    .dataframe thead th {\n",
       "        text-align: right;\n",
       "    }\n",
       "</style>\n",
       "<table border=\"1\" class=\"dataframe\">\n",
       "  <thead>\n",
       "    <tr style=\"text-align: right;\">\n",
       "      <th></th>\n",
       "      <th>PC1</th>\n",
       "      <th>PC2</th>\n",
       "      <th>target</th>\n",
       "    </tr>\n",
       "  </thead>\n",
       "  <tbody>\n",
       "    <tr>\n",
       "      <th>0</th>\n",
       "      <td>1.726114</td>\n",
       "      <td>0.492511</td>\n",
       "      <td>1</td>\n",
       "    </tr>\n",
       "    <tr>\n",
       "      <th>1</th>\n",
       "      <td>-0.220797</td>\n",
       "      <td>-1.441911</td>\n",
       "      <td>0</td>\n",
       "    </tr>\n",
       "    <tr>\n",
       "      <th>2</th>\n",
       "      <td>0.688605</td>\n",
       "      <td>0.658084</td>\n",
       "      <td>1</td>\n",
       "    </tr>\n",
       "    <tr>\n",
       "      <th>3</th>\n",
       "      <td>-3.367715</td>\n",
       "      <td>-0.254627</td>\n",
       "      <td>0</td>\n",
       "    </tr>\n",
       "    <tr>\n",
       "      <th>4</th>\n",
       "      <td>0.227326</td>\n",
       "      <td>-2.669841</td>\n",
       "      <td>0</td>\n",
       "    </tr>\n",
       "  </tbody>\n",
       "</table>\n",
       "</div>"
      ],
      "text/plain": [
       "        PC1       PC2  target\n",
       "0  1.726114  0.492511       1\n",
       "1 -0.220797 -1.441911       0\n",
       "2  0.688605  0.658084       1\n",
       "3 -3.367715 -0.254627       0\n",
       "4  0.227326 -2.669841       0"
      ]
     },
     "execution_count": 14,
     "metadata": {},
     "output_type": "execute_result"
    }
   ],
   "source": [
    "transformed_df = np.dot(df.iloc[:,0:3] , pc.T)\n",
    "\n",
    "new_df = pd.DataFrame(transformed_df,columns=['PC1','PC2'])\n",
    "new_df['target'] = df['target'].values\n",
    "new_df.head()\n",
    "     "
   ]
  },
  {
   "cell_type": "code",
   "execution_count": 25,
   "id": "47e5d4e5",
   "metadata": {},
   "outputs": [
    {
     "data": {
      "application/vnd.plotly.v1+json": {
       "config": {
        "plotlyServerURL": "https://plot.ly"
       },
       "data": [
        {
         "hovertemplate": "color=1<br>x=%{x}<br>y=%{y}<extra></extra>",
         "legendgroup": "1",
         "marker": {
          "color": "#3366CC",
          "line": {
           "color": "DarkSlateGrey",
           "width": 2
          },
          "size": 12,
          "symbol": "circle"
         },
         "mode": "markers",
         "name": "1",
         "orientation": "v",
         "showlegend": true,
         "type": "scatter",
         "x": {
          "bdata": "5jUNyime+z+4Tw/NDQnmP/VDe7Ji09u/v8FaE9Y0uL/k/0iwaGbRv8ycKJHbstm/BzyKlL7W0b+vo0gNCf7xv4CDZNrSnt6/hEjm8CG85z9Yeec7Bnvbv1ud3scdYOw/M/GrAQjk47/qokWMji7jP3orC2nlgMK/e3hjKGz34z9CZkPsWBv6P3Yo3wOaE/k/cifEX8Pq778aDtkub9/0Pw==",
          "dtype": "f8"
         },
         "xaxis": "x",
         "y": {
          "bdata": "Ke4IsE6F3z88lz6wBQ/lP1sxhT+fUuO/zDS06L5e6L90iAuk3uLfP5m6zNO8P/M/gH0PUCml3L/4NDyFhPPqP2qd2Kenx+g/4nznNJNh8D+/McvgVYnqPz6DjUGpueA/8bIpRD2qlz+O65jh2bv8P4uAcnJdrN8/B+xSoX6ftj9NrtoH+0/+P9qUsWUKsvs/2g2O9A/t6D8OsRfAWYHePw==",
          "dtype": "f8"
         },
         "yaxis": "y"
        },
        {
         "hovertemplate": "color=0<br>x=%{x}<br>y=%{y}<extra></extra>",
         "legendgroup": "0",
         "marker": {
          "color": "#DC3912",
          "line": {
           "color": "DarkSlateGrey",
           "width": 2
          },
          "size": 12,
          "symbol": "circle"
         },
         "mode": "markers",
         "name": "0",
         "orientation": "v",
         "showlegend": true,
         "type": "scatter",
         "x": {
          "bdata": "pa6fHxJDzL/+FXOxFPEKwKtxCkwIGc0/qBf48U3C27+bp9dJUVTnv/oMBbzrbfc/N8YG5uK1zT/7nQjqshzwPwqN58fHlPW/LYbvZHnu8D8RKUTLXB/1v7+43tEAB98/PiB496PW37+UqwYYJOnwPysIu1sa6eu/b8TSFay1sb/U5I4V1bTBv83Iq1OjQOi/5mYNMiQi3r8m/LaMivTJPw==",
          "dtype": "f8"
         },
         "xaxis": "x",
         "y": {
          "bdata": "r5OPWRES97/CIgmT0EvQv7YV6tLVWwXAjBCPOAZ08j+7QmsYkxbrv0WROEjOLPi/3PAiH7Zz8r+Erpx1nBLjP5vLx17iJ+G/YgoXGP7t3L8uziGUunLQv/pw8RO7e/O/aiyrwcGnxD/WVTJ8+zrLv+oZnZNK++A/wnLWgmXEwL+LAzdKZ5PXv0MjQimEYQPA/nYmP0349b8svfiiKoG3Pw==",
          "dtype": "f8"
         },
         "yaxis": "y"
        }
       ],
       "layout": {
        "legend": {
         "title": {
          "text": "color"
         },
         "tracegroupgap": 0
        },
        "margin": {
         "t": 60
        },
        "template": {
         "data": {
          "bar": [
           {
            "error_x": {
             "color": "#2a3f5f"
            },
            "error_y": {
             "color": "#2a3f5f"
            },
            "marker": {
             "line": {
              "color": "#E5ECF6",
              "width": 0.5
             },
             "pattern": {
              "fillmode": "overlay",
              "size": 10,
              "solidity": 0.2
             }
            },
            "type": "bar"
           }
          ],
          "barpolar": [
           {
            "marker": {
             "line": {
              "color": "#E5ECF6",
              "width": 0.5
             },
             "pattern": {
              "fillmode": "overlay",
              "size": 10,
              "solidity": 0.2
             }
            },
            "type": "barpolar"
           }
          ],
          "carpet": [
           {
            "aaxis": {
             "endlinecolor": "#2a3f5f",
             "gridcolor": "white",
             "linecolor": "white",
             "minorgridcolor": "white",
             "startlinecolor": "#2a3f5f"
            },
            "baxis": {
             "endlinecolor": "#2a3f5f",
             "gridcolor": "white",
             "linecolor": "white",
             "minorgridcolor": "white",
             "startlinecolor": "#2a3f5f"
            },
            "type": "carpet"
           }
          ],
          "choropleth": [
           {
            "colorbar": {
             "outlinewidth": 0,
             "ticks": ""
            },
            "type": "choropleth"
           }
          ],
          "contour": [
           {
            "colorbar": {
             "outlinewidth": 0,
             "ticks": ""
            },
            "colorscale": [
             [
              0,
              "#0d0887"
             ],
             [
              0.1111111111111111,
              "#46039f"
             ],
             [
              0.2222222222222222,
              "#7201a8"
             ],
             [
              0.3333333333333333,
              "#9c179e"
             ],
             [
              0.4444444444444444,
              "#bd3786"
             ],
             [
              0.5555555555555556,
              "#d8576b"
             ],
             [
              0.6666666666666666,
              "#ed7953"
             ],
             [
              0.7777777777777778,
              "#fb9f3a"
             ],
             [
              0.8888888888888888,
              "#fdca26"
             ],
             [
              1,
              "#f0f921"
             ]
            ],
            "type": "contour"
           }
          ],
          "contourcarpet": [
           {
            "colorbar": {
             "outlinewidth": 0,
             "ticks": ""
            },
            "type": "contourcarpet"
           }
          ],
          "heatmap": [
           {
            "colorbar": {
             "outlinewidth": 0,
             "ticks": ""
            },
            "colorscale": [
             [
              0,
              "#0d0887"
             ],
             [
              0.1111111111111111,
              "#46039f"
             ],
             [
              0.2222222222222222,
              "#7201a8"
             ],
             [
              0.3333333333333333,
              "#9c179e"
             ],
             [
              0.4444444444444444,
              "#bd3786"
             ],
             [
              0.5555555555555556,
              "#d8576b"
             ],
             [
              0.6666666666666666,
              "#ed7953"
             ],
             [
              0.7777777777777778,
              "#fb9f3a"
             ],
             [
              0.8888888888888888,
              "#fdca26"
             ],
             [
              1,
              "#f0f921"
             ]
            ],
            "type": "heatmap"
           }
          ],
          "histogram": [
           {
            "marker": {
             "pattern": {
              "fillmode": "overlay",
              "size": 10,
              "solidity": 0.2
             }
            },
            "type": "histogram"
           }
          ],
          "histogram2d": [
           {
            "colorbar": {
             "outlinewidth": 0,
             "ticks": ""
            },
            "colorscale": [
             [
              0,
              "#0d0887"
             ],
             [
              0.1111111111111111,
              "#46039f"
             ],
             [
              0.2222222222222222,
              "#7201a8"
             ],
             [
              0.3333333333333333,
              "#9c179e"
             ],
             [
              0.4444444444444444,
              "#bd3786"
             ],
             [
              0.5555555555555556,
              "#d8576b"
             ],
             [
              0.6666666666666666,
              "#ed7953"
             ],
             [
              0.7777777777777778,
              "#fb9f3a"
             ],
             [
              0.8888888888888888,
              "#fdca26"
             ],
             [
              1,
              "#f0f921"
             ]
            ],
            "type": "histogram2d"
           }
          ],
          "histogram2dcontour": [
           {
            "colorbar": {
             "outlinewidth": 0,
             "ticks": ""
            },
            "colorscale": [
             [
              0,
              "#0d0887"
             ],
             [
              0.1111111111111111,
              "#46039f"
             ],
             [
              0.2222222222222222,
              "#7201a8"
             ],
             [
              0.3333333333333333,
              "#9c179e"
             ],
             [
              0.4444444444444444,
              "#bd3786"
             ],
             [
              0.5555555555555556,
              "#d8576b"
             ],
             [
              0.6666666666666666,
              "#ed7953"
             ],
             [
              0.7777777777777778,
              "#fb9f3a"
             ],
             [
              0.8888888888888888,
              "#fdca26"
             ],
             [
              1,
              "#f0f921"
             ]
            ],
            "type": "histogram2dcontour"
           }
          ],
          "mesh3d": [
           {
            "colorbar": {
             "outlinewidth": 0,
             "ticks": ""
            },
            "type": "mesh3d"
           }
          ],
          "parcoords": [
           {
            "line": {
             "colorbar": {
              "outlinewidth": 0,
              "ticks": ""
             }
            },
            "type": "parcoords"
           }
          ],
          "pie": [
           {
            "automargin": true,
            "type": "pie"
           }
          ],
          "scatter": [
           {
            "fillpattern": {
             "fillmode": "overlay",
             "size": 10,
             "solidity": 0.2
            },
            "type": "scatter"
           }
          ],
          "scatter3d": [
           {
            "line": {
             "colorbar": {
              "outlinewidth": 0,
              "ticks": ""
             }
            },
            "marker": {
             "colorbar": {
              "outlinewidth": 0,
              "ticks": ""
             }
            },
            "type": "scatter3d"
           }
          ],
          "scattercarpet": [
           {
            "marker": {
             "colorbar": {
              "outlinewidth": 0,
              "ticks": ""
             }
            },
            "type": "scattercarpet"
           }
          ],
          "scattergeo": [
           {
            "marker": {
             "colorbar": {
              "outlinewidth": 0,
              "ticks": ""
             }
            },
            "type": "scattergeo"
           }
          ],
          "scattergl": [
           {
            "marker": {
             "colorbar": {
              "outlinewidth": 0,
              "ticks": ""
             }
            },
            "type": "scattergl"
           }
          ],
          "scattermap": [
           {
            "marker": {
             "colorbar": {
              "outlinewidth": 0,
              "ticks": ""
             }
            },
            "type": "scattermap"
           }
          ],
          "scattermapbox": [
           {
            "marker": {
             "colorbar": {
              "outlinewidth": 0,
              "ticks": ""
             }
            },
            "type": "scattermapbox"
           }
          ],
          "scatterpolar": [
           {
            "marker": {
             "colorbar": {
              "outlinewidth": 0,
              "ticks": ""
             }
            },
            "type": "scatterpolar"
           }
          ],
          "scatterpolargl": [
           {
            "marker": {
             "colorbar": {
              "outlinewidth": 0,
              "ticks": ""
             }
            },
            "type": "scatterpolargl"
           }
          ],
          "scatterternary": [
           {
            "marker": {
             "colorbar": {
              "outlinewidth": 0,
              "ticks": ""
             }
            },
            "type": "scatterternary"
           }
          ],
          "surface": [
           {
            "colorbar": {
             "outlinewidth": 0,
             "ticks": ""
            },
            "colorscale": [
             [
              0,
              "#0d0887"
             ],
             [
              0.1111111111111111,
              "#46039f"
             ],
             [
              0.2222222222222222,
              "#7201a8"
             ],
             [
              0.3333333333333333,
              "#9c179e"
             ],
             [
              0.4444444444444444,
              "#bd3786"
             ],
             [
              0.5555555555555556,
              "#d8576b"
             ],
             [
              0.6666666666666666,
              "#ed7953"
             ],
             [
              0.7777777777777778,
              "#fb9f3a"
             ],
             [
              0.8888888888888888,
              "#fdca26"
             ],
             [
              1,
              "#f0f921"
             ]
            ],
            "type": "surface"
           }
          ],
          "table": [
           {
            "cells": {
             "fill": {
              "color": "#EBF0F8"
             },
             "line": {
              "color": "white"
             }
            },
            "header": {
             "fill": {
              "color": "#C8D4E3"
             },
             "line": {
              "color": "white"
             }
            },
            "type": "table"
           }
          ]
         },
         "layout": {
          "annotationdefaults": {
           "arrowcolor": "#2a3f5f",
           "arrowhead": 0,
           "arrowwidth": 1
          },
          "autotypenumbers": "strict",
          "coloraxis": {
           "colorbar": {
            "outlinewidth": 0,
            "ticks": ""
           }
          },
          "colorscale": {
           "diverging": [
            [
             0,
             "#8e0152"
            ],
            [
             0.1,
             "#c51b7d"
            ],
            [
             0.2,
             "#de77ae"
            ],
            [
             0.3,
             "#f1b6da"
            ],
            [
             0.4,
             "#fde0ef"
            ],
            [
             0.5,
             "#f7f7f7"
            ],
            [
             0.6,
             "#e6f5d0"
            ],
            [
             0.7,
             "#b8e186"
            ],
            [
             0.8,
             "#7fbc41"
            ],
            [
             0.9,
             "#4d9221"
            ],
            [
             1,
             "#276419"
            ]
           ],
           "sequential": [
            [
             0,
             "#0d0887"
            ],
            [
             0.1111111111111111,
             "#46039f"
            ],
            [
             0.2222222222222222,
             "#7201a8"
            ],
            [
             0.3333333333333333,
             "#9c179e"
            ],
            [
             0.4444444444444444,
             "#bd3786"
            ],
            [
             0.5555555555555556,
             "#d8576b"
            ],
            [
             0.6666666666666666,
             "#ed7953"
            ],
            [
             0.7777777777777778,
             "#fb9f3a"
            ],
            [
             0.8888888888888888,
             "#fdca26"
            ],
            [
             1,
             "#f0f921"
            ]
           ],
           "sequentialminus": [
            [
             0,
             "#0d0887"
            ],
            [
             0.1111111111111111,
             "#46039f"
            ],
            [
             0.2222222222222222,
             "#7201a8"
            ],
            [
             0.3333333333333333,
             "#9c179e"
            ],
            [
             0.4444444444444444,
             "#bd3786"
            ],
            [
             0.5555555555555556,
             "#d8576b"
            ],
            [
             0.6666666666666666,
             "#ed7953"
            ],
            [
             0.7777777777777778,
             "#fb9f3a"
            ],
            [
             0.8888888888888888,
             "#fdca26"
            ],
            [
             1,
             "#f0f921"
            ]
           ]
          },
          "colorway": [
           "#636efa",
           "#EF553B",
           "#00cc96",
           "#ab63fa",
           "#FFA15A",
           "#19d3f3",
           "#FF6692",
           "#B6E880",
           "#FF97FF",
           "#FECB52"
          ],
          "font": {
           "color": "#2a3f5f"
          },
          "geo": {
           "bgcolor": "white",
           "lakecolor": "white",
           "landcolor": "#E5ECF6",
           "showlakes": true,
           "showland": true,
           "subunitcolor": "white"
          },
          "hoverlabel": {
           "align": "left"
          },
          "hovermode": "closest",
          "mapbox": {
           "style": "light"
          },
          "paper_bgcolor": "white",
          "plot_bgcolor": "#E5ECF6",
          "polar": {
           "angularaxis": {
            "gridcolor": "white",
            "linecolor": "white",
            "ticks": ""
           },
           "bgcolor": "#E5ECF6",
           "radialaxis": {
            "gridcolor": "white",
            "linecolor": "white",
            "ticks": ""
           }
          },
          "scene": {
           "xaxis": {
            "backgroundcolor": "#E5ECF6",
            "gridcolor": "white",
            "gridwidth": 2,
            "linecolor": "white",
            "showbackground": true,
            "ticks": "",
            "zerolinecolor": "white"
           },
           "yaxis": {
            "backgroundcolor": "#E5ECF6",
            "gridcolor": "white",
            "gridwidth": 2,
            "linecolor": "white",
            "showbackground": true,
            "ticks": "",
            "zerolinecolor": "white"
           },
           "zaxis": {
            "backgroundcolor": "#E5ECF6",
            "gridcolor": "white",
            "gridwidth": 2,
            "linecolor": "white",
            "showbackground": true,
            "ticks": "",
            "zerolinecolor": "white"
           }
          },
          "shapedefaults": {
           "line": {
            "color": "#2a3f5f"
           }
          },
          "ternary": {
           "aaxis": {
            "gridcolor": "white",
            "linecolor": "white",
            "ticks": ""
           },
           "baxis": {
            "gridcolor": "white",
            "linecolor": "white",
            "ticks": ""
           },
           "bgcolor": "#E5ECF6",
           "caxis": {
            "gridcolor": "white",
            "linecolor": "white",
            "ticks": ""
           }
          },
          "title": {
           "x": 0.05
          },
          "xaxis": {
           "automargin": true,
           "gridcolor": "white",
           "linecolor": "white",
           "ticks": "",
           "title": {
            "standoff": 15
           },
           "zerolinecolor": "white",
           "zerolinewidth": 2
          },
          "yaxis": {
           "automargin": true,
           "gridcolor": "white",
           "linecolor": "white",
           "ticks": "",
           "title": {
            "standoff": 15
           },
           "zerolinecolor": "white",
           "zerolinewidth": 2
          }
         }
        },
        "xaxis": {
         "anchor": "y",
         "domain": [
          0,
          1
         ],
         "title": {
          "text": "x"
         }
        },
        "yaxis": {
         "anchor": "x",
         "domain": [
          0,
          1
         ],
         "title": {
          "text": "y"
         }
        }
       }
      }
     },
     "metadata": {},
     "output_type": "display_data"
    }
   ],
   "source": [
    "new_df['target'] = new_df['target'].astype('str')\n",
    "fig = px.scatter(x=new_df['PC1'],\n",
    "                 y=new_df['PC2'],\n",
    "                 color=new_df['target'],\n",
    "                 color_discrete_sequence=px.colors.qualitative.G10\n",
    "                )\n",
    "\n",
    "fig.update_traces(marker=dict(size=12,\n",
    "                              line=dict(width=2,\n",
    "                                        color='DarkSlateGrey')),\n",
    "                  selector=dict(mode='markers'))\n",
    "fig.show()"
   ]
  },
  {
   "cell_type": "markdown",
   "id": "968c2c33",
   "metadata": {},
   "source": [
    "PCA Using Scikit-Learn"
   ]
  },
  {
   "cell_type": "code",
   "execution_count": 71,
   "id": "9fb3f10d",
   "metadata": {},
   "outputs": [],
   "source": [
    "# Data Loading\n",
    "import pandas as pd\n",
    "wine_data_path = \"https://docs.google.com/spreadsheets/d/e/2PACX-1vQDVwxneOKOaJL13QMhkAhYrgWlH1tICY7RacUnj_lL8m9uUWaaUf3p7bScNyh_D2Rvt7nc1q11adSy/pub?gid=647503637&single=true&output=csv\"\n",
    "wine = pd.read_csv(wine_data_path)"
   ]
  },
  {
   "cell_type": "code",
   "execution_count": 72,
   "id": "528a7381",
   "metadata": {},
   "outputs": [
    {
     "data": {
      "text/plain": [
       "(6497, 13)"
      ]
     },
     "execution_count": 72,
     "metadata": {},
     "output_type": "execute_result"
    }
   ],
   "source": [
    "wine.shape"
   ]
  },
  {
   "cell_type": "code",
   "execution_count": 73,
   "id": "34fd5656",
   "metadata": {},
   "outputs": [
    {
     "data": {
      "text/html": [
       "<div>\n",
       "<style scoped>\n",
       "    .dataframe tbody tr th:only-of-type {\n",
       "        vertical-align: middle;\n",
       "    }\n",
       "\n",
       "    .dataframe tbody tr th {\n",
       "        vertical-align: top;\n",
       "    }\n",
       "\n",
       "    .dataframe thead th {\n",
       "        text-align: right;\n",
       "    }\n",
       "</style>\n",
       "<table border=\"1\" class=\"dataframe\">\n",
       "  <thead>\n",
       "    <tr style=\"text-align: right;\">\n",
       "      <th></th>\n",
       "      <th>type</th>\n",
       "      <th>fixed acidity</th>\n",
       "      <th>volatile acidity</th>\n",
       "      <th>citric acid</th>\n",
       "      <th>residual sugar</th>\n",
       "      <th>chlorides</th>\n",
       "      <th>free sulfur dioxide</th>\n",
       "      <th>total sulfur dioxide</th>\n",
       "      <th>density</th>\n",
       "      <th>pH</th>\n",
       "      <th>sulphates</th>\n",
       "      <th>alcohol</th>\n",
       "      <th>quality</th>\n",
       "    </tr>\n",
       "  </thead>\n",
       "  <tbody>\n",
       "    <tr>\n",
       "      <th>0</th>\n",
       "      <td>white</td>\n",
       "      <td>7.0</td>\n",
       "      <td>0.27</td>\n",
       "      <td>0.36</td>\n",
       "      <td>20.7</td>\n",
       "      <td>0.045</td>\n",
       "      <td>45.0</td>\n",
       "      <td>170.0</td>\n",
       "      <td>1.0010</td>\n",
       "      <td>3.00</td>\n",
       "      <td>0.45</td>\n",
       "      <td>8.8</td>\n",
       "      <td>6</td>\n",
       "    </tr>\n",
       "    <tr>\n",
       "      <th>1</th>\n",
       "      <td>white</td>\n",
       "      <td>6.3</td>\n",
       "      <td>0.30</td>\n",
       "      <td>0.34</td>\n",
       "      <td>1.6</td>\n",
       "      <td>0.049</td>\n",
       "      <td>14.0</td>\n",
       "      <td>132.0</td>\n",
       "      <td>0.9940</td>\n",
       "      <td>3.30</td>\n",
       "      <td>0.49</td>\n",
       "      <td>9.5</td>\n",
       "      <td>6</td>\n",
       "    </tr>\n",
       "    <tr>\n",
       "      <th>2</th>\n",
       "      <td>white</td>\n",
       "      <td>8.1</td>\n",
       "      <td>0.28</td>\n",
       "      <td>0.40</td>\n",
       "      <td>6.9</td>\n",
       "      <td>0.050</td>\n",
       "      <td>30.0</td>\n",
       "      <td>97.0</td>\n",
       "      <td>0.9951</td>\n",
       "      <td>3.26</td>\n",
       "      <td>0.44</td>\n",
       "      <td>10.1</td>\n",
       "      <td>6</td>\n",
       "    </tr>\n",
       "    <tr>\n",
       "      <th>3</th>\n",
       "      <td>white</td>\n",
       "      <td>7.2</td>\n",
       "      <td>0.23</td>\n",
       "      <td>0.32</td>\n",
       "      <td>8.5</td>\n",
       "      <td>0.058</td>\n",
       "      <td>47.0</td>\n",
       "      <td>186.0</td>\n",
       "      <td>0.9956</td>\n",
       "      <td>3.19</td>\n",
       "      <td>0.40</td>\n",
       "      <td>9.9</td>\n",
       "      <td>6</td>\n",
       "    </tr>\n",
       "    <tr>\n",
       "      <th>4</th>\n",
       "      <td>white</td>\n",
       "      <td>7.2</td>\n",
       "      <td>0.23</td>\n",
       "      <td>0.32</td>\n",
       "      <td>8.5</td>\n",
       "      <td>0.058</td>\n",
       "      <td>47.0</td>\n",
       "      <td>186.0</td>\n",
       "      <td>0.9956</td>\n",
       "      <td>3.19</td>\n",
       "      <td>0.40</td>\n",
       "      <td>9.9</td>\n",
       "      <td>6</td>\n",
       "    </tr>\n",
       "  </tbody>\n",
       "</table>\n",
       "</div>"
      ],
      "text/plain": [
       "    type  fixed acidity  volatile acidity  citric acid  residual sugar  \\\n",
       "0  white            7.0              0.27         0.36            20.7   \n",
       "1  white            6.3              0.30         0.34             1.6   \n",
       "2  white            8.1              0.28         0.40             6.9   \n",
       "3  white            7.2              0.23         0.32             8.5   \n",
       "4  white            7.2              0.23         0.32             8.5   \n",
       "\n",
       "   chlorides  free sulfur dioxide  total sulfur dioxide  density    pH  \\\n",
       "0      0.045                 45.0                 170.0   1.0010  3.00   \n",
       "1      0.049                 14.0                 132.0   0.9940  3.30   \n",
       "2      0.050                 30.0                  97.0   0.9951  3.26   \n",
       "3      0.058                 47.0                 186.0   0.9956  3.19   \n",
       "4      0.058                 47.0                 186.0   0.9956  3.19   \n",
       "\n",
       "   sulphates  alcohol  quality  \n",
       "0       0.45      8.8        6  \n",
       "1       0.49      9.5        6  \n",
       "2       0.44     10.1        6  \n",
       "3       0.40      9.9        6  \n",
       "4       0.40      9.9        6  "
      ]
     },
     "execution_count": 73,
     "metadata": {},
     "output_type": "execute_result"
    }
   ],
   "source": [
    "wine.head()"
   ]
  },
  {
   "cell_type": "code",
   "execution_count": 82,
   "id": "ef765be1",
   "metadata": {},
   "outputs": [],
   "source": [
    "wine = wine.dropna()"
   ]
  },
  {
   "cell_type": "code",
   "execution_count": 83,
   "id": "b027c6af",
   "metadata": {},
   "outputs": [
    {
     "data": {
      "text/plain": [
       "array(['white', 'red'], dtype=object)"
      ]
     },
     "execution_count": 83,
     "metadata": {},
     "output_type": "execute_result"
    }
   ],
   "source": [
    "wine.type.unique()"
   ]
  },
  {
   "cell_type": "code",
   "execution_count": 84,
   "id": "9be4101f",
   "metadata": {},
   "outputs": [
    {
     "data": {
      "text/plain": [
       "(6463, 13)"
      ]
     },
     "execution_count": 84,
     "metadata": {},
     "output_type": "execute_result"
    }
   ],
   "source": [
    "wine.shape"
   ]
  },
  {
   "cell_type": "code",
   "execution_count": 93,
   "id": "21131fde",
   "metadata": {},
   "outputs": [],
   "source": [
    "from sklearn.model_selection import train_test_split\n",
    "from sklearn.preprocessing import LabelEncoder , StandardScaler\n",
    "from sklearn.neighbors import KNeighborsClassifier\n",
    "from sklearn.metrics import accuracy_score\n",
    "import numpy as np "
   ]
  },
  {
   "cell_type": "code",
   "execution_count": 86,
   "id": "675b1d3d",
   "metadata": {},
   "outputs": [],
   "source": [
    "x = wine.iloc[:,1:]\n",
    "y= wine.iloc[:,0]"
   ]
  },
  {
   "cell_type": "code",
   "execution_count": 87,
   "id": "8eba7212",
   "metadata": {},
   "outputs": [
    {
     "data": {
      "text/html": [
       "<div>\n",
       "<style scoped>\n",
       "    .dataframe tbody tr th:only-of-type {\n",
       "        vertical-align: middle;\n",
       "    }\n",
       "\n",
       "    .dataframe tbody tr th {\n",
       "        vertical-align: top;\n",
       "    }\n",
       "\n",
       "    .dataframe thead th {\n",
       "        text-align: right;\n",
       "    }\n",
       "</style>\n",
       "<table border=\"1\" class=\"dataframe\">\n",
       "  <thead>\n",
       "    <tr style=\"text-align: right;\">\n",
       "      <th></th>\n",
       "      <th>fixed acidity</th>\n",
       "      <th>volatile acidity</th>\n",
       "      <th>citric acid</th>\n",
       "      <th>residual sugar</th>\n",
       "      <th>chlorides</th>\n",
       "      <th>free sulfur dioxide</th>\n",
       "      <th>total sulfur dioxide</th>\n",
       "      <th>density</th>\n",
       "      <th>pH</th>\n",
       "      <th>sulphates</th>\n",
       "      <th>alcohol</th>\n",
       "      <th>quality</th>\n",
       "    </tr>\n",
       "  </thead>\n",
       "  <tbody>\n",
       "    <tr>\n",
       "      <th>0</th>\n",
       "      <td>7.0</td>\n",
       "      <td>0.27</td>\n",
       "      <td>0.36</td>\n",
       "      <td>20.7</td>\n",
       "      <td>0.045</td>\n",
       "      <td>45.0</td>\n",
       "      <td>170.0</td>\n",
       "      <td>1.0010</td>\n",
       "      <td>3.00</td>\n",
       "      <td>0.45</td>\n",
       "      <td>8.8</td>\n",
       "      <td>6</td>\n",
       "    </tr>\n",
       "    <tr>\n",
       "      <th>1</th>\n",
       "      <td>6.3</td>\n",
       "      <td>0.30</td>\n",
       "      <td>0.34</td>\n",
       "      <td>1.6</td>\n",
       "      <td>0.049</td>\n",
       "      <td>14.0</td>\n",
       "      <td>132.0</td>\n",
       "      <td>0.9940</td>\n",
       "      <td>3.30</td>\n",
       "      <td>0.49</td>\n",
       "      <td>9.5</td>\n",
       "      <td>6</td>\n",
       "    </tr>\n",
       "    <tr>\n",
       "      <th>2</th>\n",
       "      <td>8.1</td>\n",
       "      <td>0.28</td>\n",
       "      <td>0.40</td>\n",
       "      <td>6.9</td>\n",
       "      <td>0.050</td>\n",
       "      <td>30.0</td>\n",
       "      <td>97.0</td>\n",
       "      <td>0.9951</td>\n",
       "      <td>3.26</td>\n",
       "      <td>0.44</td>\n",
       "      <td>10.1</td>\n",
       "      <td>6</td>\n",
       "    </tr>\n",
       "    <tr>\n",
       "      <th>3</th>\n",
       "      <td>7.2</td>\n",
       "      <td>0.23</td>\n",
       "      <td>0.32</td>\n",
       "      <td>8.5</td>\n",
       "      <td>0.058</td>\n",
       "      <td>47.0</td>\n",
       "      <td>186.0</td>\n",
       "      <td>0.9956</td>\n",
       "      <td>3.19</td>\n",
       "      <td>0.40</td>\n",
       "      <td>9.9</td>\n",
       "      <td>6</td>\n",
       "    </tr>\n",
       "    <tr>\n",
       "      <th>4</th>\n",
       "      <td>7.2</td>\n",
       "      <td>0.23</td>\n",
       "      <td>0.32</td>\n",
       "      <td>8.5</td>\n",
       "      <td>0.058</td>\n",
       "      <td>47.0</td>\n",
       "      <td>186.0</td>\n",
       "      <td>0.9956</td>\n",
       "      <td>3.19</td>\n",
       "      <td>0.40</td>\n",
       "      <td>9.9</td>\n",
       "      <td>6</td>\n",
       "    </tr>\n",
       "  </tbody>\n",
       "</table>\n",
       "</div>"
      ],
      "text/plain": [
       "   fixed acidity  volatile acidity  citric acid  residual sugar  chlorides  \\\n",
       "0            7.0              0.27         0.36            20.7      0.045   \n",
       "1            6.3              0.30         0.34             1.6      0.049   \n",
       "2            8.1              0.28         0.40             6.9      0.050   \n",
       "3            7.2              0.23         0.32             8.5      0.058   \n",
       "4            7.2              0.23         0.32             8.5      0.058   \n",
       "\n",
       "   free sulfur dioxide  total sulfur dioxide  density    pH  sulphates  \\\n",
       "0                 45.0                 170.0   1.0010  3.00       0.45   \n",
       "1                 14.0                 132.0   0.9940  3.30       0.49   \n",
       "2                 30.0                  97.0   0.9951  3.26       0.44   \n",
       "3                 47.0                 186.0   0.9956  3.19       0.40   \n",
       "4                 47.0                 186.0   0.9956  3.19       0.40   \n",
       "\n",
       "   alcohol  quality  \n",
       "0      8.8        6  \n",
       "1      9.5        6  \n",
       "2     10.1        6  \n",
       "3      9.9        6  \n",
       "4      9.9        6  "
      ]
     },
     "execution_count": 87,
     "metadata": {},
     "output_type": "execute_result"
    }
   ],
   "source": [
    "x.head()"
   ]
  },
  {
   "cell_type": "code",
   "execution_count": 88,
   "id": "d9195d2f",
   "metadata": {},
   "outputs": [],
   "source": [
    "le = LabelEncoder()\n",
    "y_encoded = le.fit_transform(y)"
   ]
  },
  {
   "cell_type": "code",
   "execution_count": 89,
   "id": "11d3e233",
   "metadata": {},
   "outputs": [
    {
     "data": {
      "text/plain": [
       "(6463,)"
      ]
     },
     "execution_count": 89,
     "metadata": {},
     "output_type": "execute_result"
    }
   ],
   "source": [
    "y_encoded.shape"
   ]
  },
  {
   "cell_type": "code",
   "execution_count": 90,
   "id": "981195ea",
   "metadata": {},
   "outputs": [],
   "source": [
    "x_train , x_test , y_train , y_test =train_test_split(x,y_encoded , random_state=42 , test_size=0.2)"
   ]
  },
  {
   "cell_type": "code",
   "execution_count": 95,
   "id": "27d5d575",
   "metadata": {},
   "outputs": [],
   "source": [
    "scaler = StandardScaler()\n",
    "X_train_scaled = scaler.fit_transform(x_train)\n",
    "x_test_scaled = scaler.transform(x_test)"
   ]
  },
  {
   "cell_type": "code",
   "execution_count": 92,
   "id": "bc7032aa",
   "metadata": {},
   "outputs": [
    {
     "data": {
      "text/html": [
       "<style>#sk-container-id-1 {\n",
       "  /* Definition of color scheme common for light and dark mode */\n",
       "  --sklearn-color-text: #000;\n",
       "  --sklearn-color-text-muted: #666;\n",
       "  --sklearn-color-line: gray;\n",
       "  /* Definition of color scheme for unfitted estimators */\n",
       "  --sklearn-color-unfitted-level-0: #fff5e6;\n",
       "  --sklearn-color-unfitted-level-1: #f6e4d2;\n",
       "  --sklearn-color-unfitted-level-2: #ffe0b3;\n",
       "  --sklearn-color-unfitted-level-3: chocolate;\n",
       "  /* Definition of color scheme for fitted estimators */\n",
       "  --sklearn-color-fitted-level-0: #f0f8ff;\n",
       "  --sklearn-color-fitted-level-1: #d4ebff;\n",
       "  --sklearn-color-fitted-level-2: #b3dbfd;\n",
       "  --sklearn-color-fitted-level-3: cornflowerblue;\n",
       "\n",
       "  /* Specific color for light theme */\n",
       "  --sklearn-color-text-on-default-background: var(--sg-text-color, var(--theme-code-foreground, var(--jp-content-font-color1, black)));\n",
       "  --sklearn-color-background: var(--sg-background-color, var(--theme-background, var(--jp-layout-color0, white)));\n",
       "  --sklearn-color-border-box: var(--sg-text-color, var(--theme-code-foreground, var(--jp-content-font-color1, black)));\n",
       "  --sklearn-color-icon: #696969;\n",
       "\n",
       "  @media (prefers-color-scheme: dark) {\n",
       "    /* Redefinition of color scheme for dark theme */\n",
       "    --sklearn-color-text-on-default-background: var(--sg-text-color, var(--theme-code-foreground, var(--jp-content-font-color1, white)));\n",
       "    --sklearn-color-background: var(--sg-background-color, var(--theme-background, var(--jp-layout-color0, #111)));\n",
       "    --sklearn-color-border-box: var(--sg-text-color, var(--theme-code-foreground, var(--jp-content-font-color1, white)));\n",
       "    --sklearn-color-icon: #878787;\n",
       "  }\n",
       "}\n",
       "\n",
       "#sk-container-id-1 {\n",
       "  color: var(--sklearn-color-text);\n",
       "}\n",
       "\n",
       "#sk-container-id-1 pre {\n",
       "  padding: 0;\n",
       "}\n",
       "\n",
       "#sk-container-id-1 input.sk-hidden--visually {\n",
       "  border: 0;\n",
       "  clip: rect(1px 1px 1px 1px);\n",
       "  clip: rect(1px, 1px, 1px, 1px);\n",
       "  height: 1px;\n",
       "  margin: -1px;\n",
       "  overflow: hidden;\n",
       "  padding: 0;\n",
       "  position: absolute;\n",
       "  width: 1px;\n",
       "}\n",
       "\n",
       "#sk-container-id-1 div.sk-dashed-wrapped {\n",
       "  border: 1px dashed var(--sklearn-color-line);\n",
       "  margin: 0 0.4em 0.5em 0.4em;\n",
       "  box-sizing: border-box;\n",
       "  padding-bottom: 0.4em;\n",
       "  background-color: var(--sklearn-color-background);\n",
       "}\n",
       "\n",
       "#sk-container-id-1 div.sk-container {\n",
       "  /* jupyter's `normalize.less` sets `[hidden] { display: none; }`\n",
       "     but bootstrap.min.css set `[hidden] { display: none !important; }`\n",
       "     so we also need the `!important` here to be able to override the\n",
       "     default hidden behavior on the sphinx rendered scikit-learn.org.\n",
       "     See: https://github.com/scikit-learn/scikit-learn/issues/21755 */\n",
       "  display: inline-block !important;\n",
       "  position: relative;\n",
       "}\n",
       "\n",
       "#sk-container-id-1 div.sk-text-repr-fallback {\n",
       "  display: none;\n",
       "}\n",
       "\n",
       "div.sk-parallel-item,\n",
       "div.sk-serial,\n",
       "div.sk-item {\n",
       "  /* draw centered vertical line to link estimators */\n",
       "  background-image: linear-gradient(var(--sklearn-color-text-on-default-background), var(--sklearn-color-text-on-default-background));\n",
       "  background-size: 2px 100%;\n",
       "  background-repeat: no-repeat;\n",
       "  background-position: center center;\n",
       "}\n",
       "\n",
       "/* Parallel-specific style estimator block */\n",
       "\n",
       "#sk-container-id-1 div.sk-parallel-item::after {\n",
       "  content: \"\";\n",
       "  width: 100%;\n",
       "  border-bottom: 2px solid var(--sklearn-color-text-on-default-background);\n",
       "  flex-grow: 1;\n",
       "}\n",
       "\n",
       "#sk-container-id-1 div.sk-parallel {\n",
       "  display: flex;\n",
       "  align-items: stretch;\n",
       "  justify-content: center;\n",
       "  background-color: var(--sklearn-color-background);\n",
       "  position: relative;\n",
       "}\n",
       "\n",
       "#sk-container-id-1 div.sk-parallel-item {\n",
       "  display: flex;\n",
       "  flex-direction: column;\n",
       "}\n",
       "\n",
       "#sk-container-id-1 div.sk-parallel-item:first-child::after {\n",
       "  align-self: flex-end;\n",
       "  width: 50%;\n",
       "}\n",
       "\n",
       "#sk-container-id-1 div.sk-parallel-item:last-child::after {\n",
       "  align-self: flex-start;\n",
       "  width: 50%;\n",
       "}\n",
       "\n",
       "#sk-container-id-1 div.sk-parallel-item:only-child::after {\n",
       "  width: 0;\n",
       "}\n",
       "\n",
       "/* Serial-specific style estimator block */\n",
       "\n",
       "#sk-container-id-1 div.sk-serial {\n",
       "  display: flex;\n",
       "  flex-direction: column;\n",
       "  align-items: center;\n",
       "  background-color: var(--sklearn-color-background);\n",
       "  padding-right: 1em;\n",
       "  padding-left: 1em;\n",
       "}\n",
       "\n",
       "\n",
       "/* Toggleable style: style used for estimator/Pipeline/ColumnTransformer box that is\n",
       "clickable and can be expanded/collapsed.\n",
       "- Pipeline and ColumnTransformer use this feature and define the default style\n",
       "- Estimators will overwrite some part of the style using the `sk-estimator` class\n",
       "*/\n",
       "\n",
       "/* Pipeline and ColumnTransformer style (default) */\n",
       "\n",
       "#sk-container-id-1 div.sk-toggleable {\n",
       "  /* Default theme specific background. It is overwritten whether we have a\n",
       "  specific estimator or a Pipeline/ColumnTransformer */\n",
       "  background-color: var(--sklearn-color-background);\n",
       "}\n",
       "\n",
       "/* Toggleable label */\n",
       "#sk-container-id-1 label.sk-toggleable__label {\n",
       "  cursor: pointer;\n",
       "  display: flex;\n",
       "  width: 100%;\n",
       "  margin-bottom: 0;\n",
       "  padding: 0.5em;\n",
       "  box-sizing: border-box;\n",
       "  text-align: center;\n",
       "  align-items: start;\n",
       "  justify-content: space-between;\n",
       "  gap: 0.5em;\n",
       "}\n",
       "\n",
       "#sk-container-id-1 label.sk-toggleable__label .caption {\n",
       "  font-size: 0.6rem;\n",
       "  font-weight: lighter;\n",
       "  color: var(--sklearn-color-text-muted);\n",
       "}\n",
       "\n",
       "#sk-container-id-1 label.sk-toggleable__label-arrow:before {\n",
       "  /* Arrow on the left of the label */\n",
       "  content: \"▸\";\n",
       "  float: left;\n",
       "  margin-right: 0.25em;\n",
       "  color: var(--sklearn-color-icon);\n",
       "}\n",
       "\n",
       "#sk-container-id-1 label.sk-toggleable__label-arrow:hover:before {\n",
       "  color: var(--sklearn-color-text);\n",
       "}\n",
       "\n",
       "/* Toggleable content - dropdown */\n",
       "\n",
       "#sk-container-id-1 div.sk-toggleable__content {\n",
       "  display: none;\n",
       "  text-align: left;\n",
       "  /* unfitted */\n",
       "  background-color: var(--sklearn-color-unfitted-level-0);\n",
       "}\n",
       "\n",
       "#sk-container-id-1 div.sk-toggleable__content.fitted {\n",
       "  /* fitted */\n",
       "  background-color: var(--sklearn-color-fitted-level-0);\n",
       "}\n",
       "\n",
       "#sk-container-id-1 div.sk-toggleable__content pre {\n",
       "  margin: 0.2em;\n",
       "  border-radius: 0.25em;\n",
       "  color: var(--sklearn-color-text);\n",
       "  /* unfitted */\n",
       "  background-color: var(--sklearn-color-unfitted-level-0);\n",
       "}\n",
       "\n",
       "#sk-container-id-1 div.sk-toggleable__content.fitted pre {\n",
       "  /* unfitted */\n",
       "  background-color: var(--sklearn-color-fitted-level-0);\n",
       "}\n",
       "\n",
       "#sk-container-id-1 input.sk-toggleable__control:checked~div.sk-toggleable__content {\n",
       "  /* Expand drop-down */\n",
       "  display: block;\n",
       "  width: 100%;\n",
       "  overflow: visible;\n",
       "}\n",
       "\n",
       "#sk-container-id-1 input.sk-toggleable__control:checked~label.sk-toggleable__label-arrow:before {\n",
       "  content: \"▾\";\n",
       "}\n",
       "\n",
       "/* Pipeline/ColumnTransformer-specific style */\n",
       "\n",
       "#sk-container-id-1 div.sk-label input.sk-toggleable__control:checked~label.sk-toggleable__label {\n",
       "  color: var(--sklearn-color-text);\n",
       "  background-color: var(--sklearn-color-unfitted-level-2);\n",
       "}\n",
       "\n",
       "#sk-container-id-1 div.sk-label.fitted input.sk-toggleable__control:checked~label.sk-toggleable__label {\n",
       "  background-color: var(--sklearn-color-fitted-level-2);\n",
       "}\n",
       "\n",
       "/* Estimator-specific style */\n",
       "\n",
       "/* Colorize estimator box */\n",
       "#sk-container-id-1 div.sk-estimator input.sk-toggleable__control:checked~label.sk-toggleable__label {\n",
       "  /* unfitted */\n",
       "  background-color: var(--sklearn-color-unfitted-level-2);\n",
       "}\n",
       "\n",
       "#sk-container-id-1 div.sk-estimator.fitted input.sk-toggleable__control:checked~label.sk-toggleable__label {\n",
       "  /* fitted */\n",
       "  background-color: var(--sklearn-color-fitted-level-2);\n",
       "}\n",
       "\n",
       "#sk-container-id-1 div.sk-label label.sk-toggleable__label,\n",
       "#sk-container-id-1 div.sk-label label {\n",
       "  /* The background is the default theme color */\n",
       "  color: var(--sklearn-color-text-on-default-background);\n",
       "}\n",
       "\n",
       "/* On hover, darken the color of the background */\n",
       "#sk-container-id-1 div.sk-label:hover label.sk-toggleable__label {\n",
       "  color: var(--sklearn-color-text);\n",
       "  background-color: var(--sklearn-color-unfitted-level-2);\n",
       "}\n",
       "\n",
       "/* Label box, darken color on hover, fitted */\n",
       "#sk-container-id-1 div.sk-label.fitted:hover label.sk-toggleable__label.fitted {\n",
       "  color: var(--sklearn-color-text);\n",
       "  background-color: var(--sklearn-color-fitted-level-2);\n",
       "}\n",
       "\n",
       "/* Estimator label */\n",
       "\n",
       "#sk-container-id-1 div.sk-label label {\n",
       "  font-family: monospace;\n",
       "  font-weight: bold;\n",
       "  display: inline-block;\n",
       "  line-height: 1.2em;\n",
       "}\n",
       "\n",
       "#sk-container-id-1 div.sk-label-container {\n",
       "  text-align: center;\n",
       "}\n",
       "\n",
       "/* Estimator-specific */\n",
       "#sk-container-id-1 div.sk-estimator {\n",
       "  font-family: monospace;\n",
       "  border: 1px dotted var(--sklearn-color-border-box);\n",
       "  border-radius: 0.25em;\n",
       "  box-sizing: border-box;\n",
       "  margin-bottom: 0.5em;\n",
       "  /* unfitted */\n",
       "  background-color: var(--sklearn-color-unfitted-level-0);\n",
       "}\n",
       "\n",
       "#sk-container-id-1 div.sk-estimator.fitted {\n",
       "  /* fitted */\n",
       "  background-color: var(--sklearn-color-fitted-level-0);\n",
       "}\n",
       "\n",
       "/* on hover */\n",
       "#sk-container-id-1 div.sk-estimator:hover {\n",
       "  /* unfitted */\n",
       "  background-color: var(--sklearn-color-unfitted-level-2);\n",
       "}\n",
       "\n",
       "#sk-container-id-1 div.sk-estimator.fitted:hover {\n",
       "  /* fitted */\n",
       "  background-color: var(--sklearn-color-fitted-level-2);\n",
       "}\n",
       "\n",
       "/* Specification for estimator info (e.g. \"i\" and \"?\") */\n",
       "\n",
       "/* Common style for \"i\" and \"?\" */\n",
       "\n",
       ".sk-estimator-doc-link,\n",
       "a:link.sk-estimator-doc-link,\n",
       "a:visited.sk-estimator-doc-link {\n",
       "  float: right;\n",
       "  font-size: smaller;\n",
       "  line-height: 1em;\n",
       "  font-family: monospace;\n",
       "  background-color: var(--sklearn-color-background);\n",
       "  border-radius: 1em;\n",
       "  height: 1em;\n",
       "  width: 1em;\n",
       "  text-decoration: none !important;\n",
       "  margin-left: 0.5em;\n",
       "  text-align: center;\n",
       "  /* unfitted */\n",
       "  border: var(--sklearn-color-unfitted-level-1) 1pt solid;\n",
       "  color: var(--sklearn-color-unfitted-level-1);\n",
       "}\n",
       "\n",
       ".sk-estimator-doc-link.fitted,\n",
       "a:link.sk-estimator-doc-link.fitted,\n",
       "a:visited.sk-estimator-doc-link.fitted {\n",
       "  /* fitted */\n",
       "  border: var(--sklearn-color-fitted-level-1) 1pt solid;\n",
       "  color: var(--sklearn-color-fitted-level-1);\n",
       "}\n",
       "\n",
       "/* On hover */\n",
       "div.sk-estimator:hover .sk-estimator-doc-link:hover,\n",
       ".sk-estimator-doc-link:hover,\n",
       "div.sk-label-container:hover .sk-estimator-doc-link:hover,\n",
       ".sk-estimator-doc-link:hover {\n",
       "  /* unfitted */\n",
       "  background-color: var(--sklearn-color-unfitted-level-3);\n",
       "  color: var(--sklearn-color-background);\n",
       "  text-decoration: none;\n",
       "}\n",
       "\n",
       "div.sk-estimator.fitted:hover .sk-estimator-doc-link.fitted:hover,\n",
       ".sk-estimator-doc-link.fitted:hover,\n",
       "div.sk-label-container:hover .sk-estimator-doc-link.fitted:hover,\n",
       ".sk-estimator-doc-link.fitted:hover {\n",
       "  /* fitted */\n",
       "  background-color: var(--sklearn-color-fitted-level-3);\n",
       "  color: var(--sklearn-color-background);\n",
       "  text-decoration: none;\n",
       "}\n",
       "\n",
       "/* Span, style for the box shown on hovering the info icon */\n",
       ".sk-estimator-doc-link span {\n",
       "  display: none;\n",
       "  z-index: 9999;\n",
       "  position: relative;\n",
       "  font-weight: normal;\n",
       "  right: .2ex;\n",
       "  padding: .5ex;\n",
       "  margin: .5ex;\n",
       "  width: min-content;\n",
       "  min-width: 20ex;\n",
       "  max-width: 50ex;\n",
       "  color: var(--sklearn-color-text);\n",
       "  box-shadow: 2pt 2pt 4pt #999;\n",
       "  /* unfitted */\n",
       "  background: var(--sklearn-color-unfitted-level-0);\n",
       "  border: .5pt solid var(--sklearn-color-unfitted-level-3);\n",
       "}\n",
       "\n",
       ".sk-estimator-doc-link.fitted span {\n",
       "  /* fitted */\n",
       "  background: var(--sklearn-color-fitted-level-0);\n",
       "  border: var(--sklearn-color-fitted-level-3);\n",
       "}\n",
       "\n",
       ".sk-estimator-doc-link:hover span {\n",
       "  display: block;\n",
       "}\n",
       "\n",
       "/* \"?\"-specific style due to the `<a>` HTML tag */\n",
       "\n",
       "#sk-container-id-1 a.estimator_doc_link {\n",
       "  float: right;\n",
       "  font-size: 1rem;\n",
       "  line-height: 1em;\n",
       "  font-family: monospace;\n",
       "  background-color: var(--sklearn-color-background);\n",
       "  border-radius: 1rem;\n",
       "  height: 1rem;\n",
       "  width: 1rem;\n",
       "  text-decoration: none;\n",
       "  /* unfitted */\n",
       "  color: var(--sklearn-color-unfitted-level-1);\n",
       "  border: var(--sklearn-color-unfitted-level-1) 1pt solid;\n",
       "}\n",
       "\n",
       "#sk-container-id-1 a.estimator_doc_link.fitted {\n",
       "  /* fitted */\n",
       "  border: var(--sklearn-color-fitted-level-1) 1pt solid;\n",
       "  color: var(--sklearn-color-fitted-level-1);\n",
       "}\n",
       "\n",
       "/* On hover */\n",
       "#sk-container-id-1 a.estimator_doc_link:hover {\n",
       "  /* unfitted */\n",
       "  background-color: var(--sklearn-color-unfitted-level-3);\n",
       "  color: var(--sklearn-color-background);\n",
       "  text-decoration: none;\n",
       "}\n",
       "\n",
       "#sk-container-id-1 a.estimator_doc_link.fitted:hover {\n",
       "  /* fitted */\n",
       "  background-color: var(--sklearn-color-fitted-level-3);\n",
       "}\n",
       "\n",
       ".estimator-table summary {\n",
       "    padding: .5rem;\n",
       "    font-family: monospace;\n",
       "    cursor: pointer;\n",
       "}\n",
       "\n",
       ".estimator-table details[open] {\n",
       "    padding-left: 0.1rem;\n",
       "    padding-right: 0.1rem;\n",
       "    padding-bottom: 0.3rem;\n",
       "}\n",
       "\n",
       ".estimator-table .parameters-table {\n",
       "    margin-left: auto !important;\n",
       "    margin-right: auto !important;\n",
       "}\n",
       "\n",
       ".estimator-table .parameters-table tr:nth-child(odd) {\n",
       "    background-color: #fff;\n",
       "}\n",
       "\n",
       ".estimator-table .parameters-table tr:nth-child(even) {\n",
       "    background-color: #f6f6f6;\n",
       "}\n",
       "\n",
       ".estimator-table .parameters-table tr:hover {\n",
       "    background-color: #e0e0e0;\n",
       "}\n",
       "\n",
       ".estimator-table table td {\n",
       "    border: 1px solid rgba(106, 105, 104, 0.232);\n",
       "}\n",
       "\n",
       ".user-set td {\n",
       "    color:rgb(255, 94, 0);\n",
       "    text-align: left;\n",
       "}\n",
       "\n",
       ".user-set td.value pre {\n",
       "    color:rgb(255, 94, 0) !important;\n",
       "    background-color: transparent !important;\n",
       "}\n",
       "\n",
       ".default td {\n",
       "    color: black;\n",
       "    text-align: left;\n",
       "}\n",
       "\n",
       ".user-set td i,\n",
       ".default td i {\n",
       "    color: black;\n",
       "}\n",
       "\n",
       ".copy-paste-icon {\n",
       "    background-image: url(data:image/svg+xml;base64,PHN2ZyB4bWxucz0iaHR0cDovL3d3dy53My5vcmcvMjAwMC9zdmciIHZpZXdCb3g9IjAgMCA0NDggNTEyIj48IS0tIUZvbnQgQXdlc29tZSBGcmVlIDYuNy4yIGJ5IEBmb250YXdlc29tZSAtIGh0dHBzOi8vZm9udGF3ZXNvbWUuY29tIExpY2Vuc2UgLSBodHRwczovL2ZvbnRhd2Vzb21lLmNvbS9saWNlbnNlL2ZyZWUgQ29weXJpZ2h0IDIwMjUgRm9udGljb25zLCBJbmMuLS0+PHBhdGggZD0iTTIwOCAwTDMzMi4xIDBjMTIuNyAwIDI0LjkgNS4xIDMzLjkgMTQuMWw2Ny45IDY3LjljOSA5IDE0LjEgMjEuMiAxNC4xIDMzLjlMNDQ4IDMzNmMwIDI2LjUtMjEuNSA0OC00OCA0OGwtMTkyIDBjLTI2LjUgMC00OC0yMS41LTQ4LTQ4bDAtMjg4YzAtMjYuNSAyMS41LTQ4IDQ4LTQ4ek00OCAxMjhsODAgMCAwIDY0LTY0IDAgMCAyNTYgMTkyIDAgMC0zMiA2NCAwIDAgNDhjMCAyNi41LTIxLjUgNDgtNDggNDhMNDggNTEyYy0yNi41IDAtNDgtMjEuNS00OC00OEwwIDE3NmMwLTI2LjUgMjEuNS00OCA0OC00OHoiLz48L3N2Zz4=);\n",
       "    background-repeat: no-repeat;\n",
       "    background-size: 14px 14px;\n",
       "    background-position: 0;\n",
       "    display: inline-block;\n",
       "    width: 14px;\n",
       "    height: 14px;\n",
       "    cursor: pointer;\n",
       "}\n",
       "</style><body><div id=\"sk-container-id-1\" class=\"sk-top-container\"><div class=\"sk-text-repr-fallback\"><pre>KNeighborsClassifier()</pre><b>In a Jupyter environment, please rerun this cell to show the HTML representation or trust the notebook. <br />On GitHub, the HTML representation is unable to render, please try loading this page with nbviewer.org.</b></div><div class=\"sk-container\" hidden><div class=\"sk-item\"><div class=\"sk-estimator fitted sk-toggleable\"><input class=\"sk-toggleable__control sk-hidden--visually\" id=\"sk-estimator-id-1\" type=\"checkbox\" checked><label for=\"sk-estimator-id-1\" class=\"sk-toggleable__label fitted sk-toggleable__label-arrow\"><div><div>KNeighborsClassifier</div></div><div><a class=\"sk-estimator-doc-link fitted\" rel=\"noreferrer\" target=\"_blank\" href=\"https://scikit-learn.org/1.7/modules/generated/sklearn.neighbors.KNeighborsClassifier.html\">?<span>Documentation for KNeighborsClassifier</span></a><span class=\"sk-estimator-doc-link fitted\">i<span>Fitted</span></span></div></label><div class=\"sk-toggleable__content fitted\" data-param-prefix=\"\">\n",
       "        <div class=\"estimator-table\">\n",
       "            <details>\n",
       "                <summary>Parameters</summary>\n",
       "                <table class=\"parameters-table\">\n",
       "                  <tbody>\n",
       "                    \n",
       "        <tr class=\"default\">\n",
       "            <td><i class=\"copy-paste-icon\"\n",
       "                 onclick=\"copyToClipboard('n_neighbors',\n",
       "                          this.parentElement.nextElementSibling)\"\n",
       "            ></i></td>\n",
       "            <td class=\"param\">n_neighbors&nbsp;</td>\n",
       "            <td class=\"value\">5</td>\n",
       "        </tr>\n",
       "    \n",
       "\n",
       "        <tr class=\"default\">\n",
       "            <td><i class=\"copy-paste-icon\"\n",
       "                 onclick=\"copyToClipboard('weights',\n",
       "                          this.parentElement.nextElementSibling)\"\n",
       "            ></i></td>\n",
       "            <td class=\"param\">weights&nbsp;</td>\n",
       "            <td class=\"value\">&#x27;uniform&#x27;</td>\n",
       "        </tr>\n",
       "    \n",
       "\n",
       "        <tr class=\"default\">\n",
       "            <td><i class=\"copy-paste-icon\"\n",
       "                 onclick=\"copyToClipboard('algorithm',\n",
       "                          this.parentElement.nextElementSibling)\"\n",
       "            ></i></td>\n",
       "            <td class=\"param\">algorithm&nbsp;</td>\n",
       "            <td class=\"value\">&#x27;auto&#x27;</td>\n",
       "        </tr>\n",
       "    \n",
       "\n",
       "        <tr class=\"default\">\n",
       "            <td><i class=\"copy-paste-icon\"\n",
       "                 onclick=\"copyToClipboard('leaf_size',\n",
       "                          this.parentElement.nextElementSibling)\"\n",
       "            ></i></td>\n",
       "            <td class=\"param\">leaf_size&nbsp;</td>\n",
       "            <td class=\"value\">30</td>\n",
       "        </tr>\n",
       "    \n",
       "\n",
       "        <tr class=\"default\">\n",
       "            <td><i class=\"copy-paste-icon\"\n",
       "                 onclick=\"copyToClipboard('p',\n",
       "                          this.parentElement.nextElementSibling)\"\n",
       "            ></i></td>\n",
       "            <td class=\"param\">p&nbsp;</td>\n",
       "            <td class=\"value\">2</td>\n",
       "        </tr>\n",
       "    \n",
       "\n",
       "        <tr class=\"default\">\n",
       "            <td><i class=\"copy-paste-icon\"\n",
       "                 onclick=\"copyToClipboard('metric',\n",
       "                          this.parentElement.nextElementSibling)\"\n",
       "            ></i></td>\n",
       "            <td class=\"param\">metric&nbsp;</td>\n",
       "            <td class=\"value\">&#x27;minkowski&#x27;</td>\n",
       "        </tr>\n",
       "    \n",
       "\n",
       "        <tr class=\"default\">\n",
       "            <td><i class=\"copy-paste-icon\"\n",
       "                 onclick=\"copyToClipboard('metric_params',\n",
       "                          this.parentElement.nextElementSibling)\"\n",
       "            ></i></td>\n",
       "            <td class=\"param\">metric_params&nbsp;</td>\n",
       "            <td class=\"value\">None</td>\n",
       "        </tr>\n",
       "    \n",
       "\n",
       "        <tr class=\"default\">\n",
       "            <td><i class=\"copy-paste-icon\"\n",
       "                 onclick=\"copyToClipboard('n_jobs',\n",
       "                          this.parentElement.nextElementSibling)\"\n",
       "            ></i></td>\n",
       "            <td class=\"param\">n_jobs&nbsp;</td>\n",
       "            <td class=\"value\">None</td>\n",
       "        </tr>\n",
       "    \n",
       "                  </tbody>\n",
       "                </table>\n",
       "            </details>\n",
       "        </div>\n",
       "    </div></div></div></div></div><script>function copyToClipboard(text, element) {\n",
       "    // Get the parameter prefix from the closest toggleable content\n",
       "    const toggleableContent = element.closest('.sk-toggleable__content');\n",
       "    const paramPrefix = toggleableContent ? toggleableContent.dataset.paramPrefix : '';\n",
       "    const fullParamName = paramPrefix ? `${paramPrefix}${text}` : text;\n",
       "\n",
       "    const originalStyle = element.style;\n",
       "    const computedStyle = window.getComputedStyle(element);\n",
       "    const originalWidth = computedStyle.width;\n",
       "    const originalHTML = element.innerHTML.replace('Copied!', '');\n",
       "\n",
       "    navigator.clipboard.writeText(fullParamName)\n",
       "        .then(() => {\n",
       "            element.style.width = originalWidth;\n",
       "            element.style.color = 'green';\n",
       "            element.innerHTML = \"Copied!\";\n",
       "\n",
       "            setTimeout(() => {\n",
       "                element.innerHTML = originalHTML;\n",
       "                element.style = originalStyle;\n",
       "            }, 2000);\n",
       "        })\n",
       "        .catch(err => {\n",
       "            console.error('Failed to copy:', err);\n",
       "            element.style.color = 'red';\n",
       "            element.innerHTML = \"Failed!\";\n",
       "            setTimeout(() => {\n",
       "                element.innerHTML = originalHTML;\n",
       "                element.style = originalStyle;\n",
       "            }, 2000);\n",
       "        });\n",
       "    return false;\n",
       "}\n",
       "\n",
       "document.querySelectorAll('.fa-regular.fa-copy').forEach(function(element) {\n",
       "    const toggleableContent = element.closest('.sk-toggleable__content');\n",
       "    const paramPrefix = toggleableContent ? toggleableContent.dataset.paramPrefix : '';\n",
       "    const paramName = element.parentElement.nextElementSibling.textContent.trim();\n",
       "    const fullParamName = paramPrefix ? `${paramPrefix}${paramName}` : paramName;\n",
       "\n",
       "    element.setAttribute('title', fullParamName);\n",
       "});\n",
       "</script></body>"
      ],
      "text/plain": [
       "KNeighborsClassifier()"
      ]
     },
     "execution_count": 92,
     "metadata": {},
     "output_type": "execute_result"
    }
   ],
   "source": [
    "knn = KNeighborsClassifier()\n",
    "knn.fit(X_train_scaled , y_train)"
   ]
  },
  {
   "cell_type": "code",
   "execution_count": 96,
   "id": "0912ec27",
   "metadata": {},
   "outputs": [
    {
     "name": "stdout",
     "output_type": "stream",
     "text": [
      "accuracy withouy performing pca : 0.9891724671307038\n"
     ]
    }
   ],
   "source": [
    "y_pred = knn.predict(x_test_scaled)\n",
    "accuracy = accuracy_score(y_pred , y_test)\n",
    "print(\"accuracy withouy performing pca :\" , accuracy)"
   ]
  },
  {
   "cell_type": "markdown",
   "id": "52ac4c40",
   "metadata": {},
   "source": [
    "Now lets perform PCA using Scikit-Learn "
   ]
  },
  {
   "cell_type": "code",
   "execution_count": 98,
   "id": "c9c1005b",
   "metadata": {},
   "outputs": [],
   "source": [
    "from sklearn.decomposition import PCA\n",
    "pca = PCA(n_components=5)\n",
    "X_train_pca = pca.fit_transform(X_train_scaled)\n",
    "X_test_pca = pca.transform(x_test_scaled)"
   ]
  },
  {
   "cell_type": "code",
   "execution_count": 100,
   "id": "13033d8b",
   "metadata": {},
   "outputs": [
    {
     "data": {
      "text/plain": [
       "((5170, 5), (1293, 5), (5170, 12))"
      ]
     },
     "execution_count": 100,
     "metadata": {},
     "output_type": "execute_result"
    }
   ],
   "source": [
    "X_train_pca.shape , X_test_pca.shape , x_train.shape"
   ]
  },
  {
   "cell_type": "code",
   "execution_count": 101,
   "id": "55ccb8a7",
   "metadata": {},
   "outputs": [
    {
     "data": {
      "text/html": [
       "<style>#sk-container-id-2 {\n",
       "  /* Definition of color scheme common for light and dark mode */\n",
       "  --sklearn-color-text: #000;\n",
       "  --sklearn-color-text-muted: #666;\n",
       "  --sklearn-color-line: gray;\n",
       "  /* Definition of color scheme for unfitted estimators */\n",
       "  --sklearn-color-unfitted-level-0: #fff5e6;\n",
       "  --sklearn-color-unfitted-level-1: #f6e4d2;\n",
       "  --sklearn-color-unfitted-level-2: #ffe0b3;\n",
       "  --sklearn-color-unfitted-level-3: chocolate;\n",
       "  /* Definition of color scheme for fitted estimators */\n",
       "  --sklearn-color-fitted-level-0: #f0f8ff;\n",
       "  --sklearn-color-fitted-level-1: #d4ebff;\n",
       "  --sklearn-color-fitted-level-2: #b3dbfd;\n",
       "  --sklearn-color-fitted-level-3: cornflowerblue;\n",
       "\n",
       "  /* Specific color for light theme */\n",
       "  --sklearn-color-text-on-default-background: var(--sg-text-color, var(--theme-code-foreground, var(--jp-content-font-color1, black)));\n",
       "  --sklearn-color-background: var(--sg-background-color, var(--theme-background, var(--jp-layout-color0, white)));\n",
       "  --sklearn-color-border-box: var(--sg-text-color, var(--theme-code-foreground, var(--jp-content-font-color1, black)));\n",
       "  --sklearn-color-icon: #696969;\n",
       "\n",
       "  @media (prefers-color-scheme: dark) {\n",
       "    /* Redefinition of color scheme for dark theme */\n",
       "    --sklearn-color-text-on-default-background: var(--sg-text-color, var(--theme-code-foreground, var(--jp-content-font-color1, white)));\n",
       "    --sklearn-color-background: var(--sg-background-color, var(--theme-background, var(--jp-layout-color0, #111)));\n",
       "    --sklearn-color-border-box: var(--sg-text-color, var(--theme-code-foreground, var(--jp-content-font-color1, white)));\n",
       "    --sklearn-color-icon: #878787;\n",
       "  }\n",
       "}\n",
       "\n",
       "#sk-container-id-2 {\n",
       "  color: var(--sklearn-color-text);\n",
       "}\n",
       "\n",
       "#sk-container-id-2 pre {\n",
       "  padding: 0;\n",
       "}\n",
       "\n",
       "#sk-container-id-2 input.sk-hidden--visually {\n",
       "  border: 0;\n",
       "  clip: rect(1px 1px 1px 1px);\n",
       "  clip: rect(1px, 1px, 1px, 1px);\n",
       "  height: 1px;\n",
       "  margin: -1px;\n",
       "  overflow: hidden;\n",
       "  padding: 0;\n",
       "  position: absolute;\n",
       "  width: 1px;\n",
       "}\n",
       "\n",
       "#sk-container-id-2 div.sk-dashed-wrapped {\n",
       "  border: 1px dashed var(--sklearn-color-line);\n",
       "  margin: 0 0.4em 0.5em 0.4em;\n",
       "  box-sizing: border-box;\n",
       "  padding-bottom: 0.4em;\n",
       "  background-color: var(--sklearn-color-background);\n",
       "}\n",
       "\n",
       "#sk-container-id-2 div.sk-container {\n",
       "  /* jupyter's `normalize.less` sets `[hidden] { display: none; }`\n",
       "     but bootstrap.min.css set `[hidden] { display: none !important; }`\n",
       "     so we also need the `!important` here to be able to override the\n",
       "     default hidden behavior on the sphinx rendered scikit-learn.org.\n",
       "     See: https://github.com/scikit-learn/scikit-learn/issues/21755 */\n",
       "  display: inline-block !important;\n",
       "  position: relative;\n",
       "}\n",
       "\n",
       "#sk-container-id-2 div.sk-text-repr-fallback {\n",
       "  display: none;\n",
       "}\n",
       "\n",
       "div.sk-parallel-item,\n",
       "div.sk-serial,\n",
       "div.sk-item {\n",
       "  /* draw centered vertical line to link estimators */\n",
       "  background-image: linear-gradient(var(--sklearn-color-text-on-default-background), var(--sklearn-color-text-on-default-background));\n",
       "  background-size: 2px 100%;\n",
       "  background-repeat: no-repeat;\n",
       "  background-position: center center;\n",
       "}\n",
       "\n",
       "/* Parallel-specific style estimator block */\n",
       "\n",
       "#sk-container-id-2 div.sk-parallel-item::after {\n",
       "  content: \"\";\n",
       "  width: 100%;\n",
       "  border-bottom: 2px solid var(--sklearn-color-text-on-default-background);\n",
       "  flex-grow: 1;\n",
       "}\n",
       "\n",
       "#sk-container-id-2 div.sk-parallel {\n",
       "  display: flex;\n",
       "  align-items: stretch;\n",
       "  justify-content: center;\n",
       "  background-color: var(--sklearn-color-background);\n",
       "  position: relative;\n",
       "}\n",
       "\n",
       "#sk-container-id-2 div.sk-parallel-item {\n",
       "  display: flex;\n",
       "  flex-direction: column;\n",
       "}\n",
       "\n",
       "#sk-container-id-2 div.sk-parallel-item:first-child::after {\n",
       "  align-self: flex-end;\n",
       "  width: 50%;\n",
       "}\n",
       "\n",
       "#sk-container-id-2 div.sk-parallel-item:last-child::after {\n",
       "  align-self: flex-start;\n",
       "  width: 50%;\n",
       "}\n",
       "\n",
       "#sk-container-id-2 div.sk-parallel-item:only-child::after {\n",
       "  width: 0;\n",
       "}\n",
       "\n",
       "/* Serial-specific style estimator block */\n",
       "\n",
       "#sk-container-id-2 div.sk-serial {\n",
       "  display: flex;\n",
       "  flex-direction: column;\n",
       "  align-items: center;\n",
       "  background-color: var(--sklearn-color-background);\n",
       "  padding-right: 1em;\n",
       "  padding-left: 1em;\n",
       "}\n",
       "\n",
       "\n",
       "/* Toggleable style: style used for estimator/Pipeline/ColumnTransformer box that is\n",
       "clickable and can be expanded/collapsed.\n",
       "- Pipeline and ColumnTransformer use this feature and define the default style\n",
       "- Estimators will overwrite some part of the style using the `sk-estimator` class\n",
       "*/\n",
       "\n",
       "/* Pipeline and ColumnTransformer style (default) */\n",
       "\n",
       "#sk-container-id-2 div.sk-toggleable {\n",
       "  /* Default theme specific background. It is overwritten whether we have a\n",
       "  specific estimator or a Pipeline/ColumnTransformer */\n",
       "  background-color: var(--sklearn-color-background);\n",
       "}\n",
       "\n",
       "/* Toggleable label */\n",
       "#sk-container-id-2 label.sk-toggleable__label {\n",
       "  cursor: pointer;\n",
       "  display: flex;\n",
       "  width: 100%;\n",
       "  margin-bottom: 0;\n",
       "  padding: 0.5em;\n",
       "  box-sizing: border-box;\n",
       "  text-align: center;\n",
       "  align-items: start;\n",
       "  justify-content: space-between;\n",
       "  gap: 0.5em;\n",
       "}\n",
       "\n",
       "#sk-container-id-2 label.sk-toggleable__label .caption {\n",
       "  font-size: 0.6rem;\n",
       "  font-weight: lighter;\n",
       "  color: var(--sklearn-color-text-muted);\n",
       "}\n",
       "\n",
       "#sk-container-id-2 label.sk-toggleable__label-arrow:before {\n",
       "  /* Arrow on the left of the label */\n",
       "  content: \"▸\";\n",
       "  float: left;\n",
       "  margin-right: 0.25em;\n",
       "  color: var(--sklearn-color-icon);\n",
       "}\n",
       "\n",
       "#sk-container-id-2 label.sk-toggleable__label-arrow:hover:before {\n",
       "  color: var(--sklearn-color-text);\n",
       "}\n",
       "\n",
       "/* Toggleable content - dropdown */\n",
       "\n",
       "#sk-container-id-2 div.sk-toggleable__content {\n",
       "  display: none;\n",
       "  text-align: left;\n",
       "  /* unfitted */\n",
       "  background-color: var(--sklearn-color-unfitted-level-0);\n",
       "}\n",
       "\n",
       "#sk-container-id-2 div.sk-toggleable__content.fitted {\n",
       "  /* fitted */\n",
       "  background-color: var(--sklearn-color-fitted-level-0);\n",
       "}\n",
       "\n",
       "#sk-container-id-2 div.sk-toggleable__content pre {\n",
       "  margin: 0.2em;\n",
       "  border-radius: 0.25em;\n",
       "  color: var(--sklearn-color-text);\n",
       "  /* unfitted */\n",
       "  background-color: var(--sklearn-color-unfitted-level-0);\n",
       "}\n",
       "\n",
       "#sk-container-id-2 div.sk-toggleable__content.fitted pre {\n",
       "  /* unfitted */\n",
       "  background-color: var(--sklearn-color-fitted-level-0);\n",
       "}\n",
       "\n",
       "#sk-container-id-2 input.sk-toggleable__control:checked~div.sk-toggleable__content {\n",
       "  /* Expand drop-down */\n",
       "  display: block;\n",
       "  width: 100%;\n",
       "  overflow: visible;\n",
       "}\n",
       "\n",
       "#sk-container-id-2 input.sk-toggleable__control:checked~label.sk-toggleable__label-arrow:before {\n",
       "  content: \"▾\";\n",
       "}\n",
       "\n",
       "/* Pipeline/ColumnTransformer-specific style */\n",
       "\n",
       "#sk-container-id-2 div.sk-label input.sk-toggleable__control:checked~label.sk-toggleable__label {\n",
       "  color: var(--sklearn-color-text);\n",
       "  background-color: var(--sklearn-color-unfitted-level-2);\n",
       "}\n",
       "\n",
       "#sk-container-id-2 div.sk-label.fitted input.sk-toggleable__control:checked~label.sk-toggleable__label {\n",
       "  background-color: var(--sklearn-color-fitted-level-2);\n",
       "}\n",
       "\n",
       "/* Estimator-specific style */\n",
       "\n",
       "/* Colorize estimator box */\n",
       "#sk-container-id-2 div.sk-estimator input.sk-toggleable__control:checked~label.sk-toggleable__label {\n",
       "  /* unfitted */\n",
       "  background-color: var(--sklearn-color-unfitted-level-2);\n",
       "}\n",
       "\n",
       "#sk-container-id-2 div.sk-estimator.fitted input.sk-toggleable__control:checked~label.sk-toggleable__label {\n",
       "  /* fitted */\n",
       "  background-color: var(--sklearn-color-fitted-level-2);\n",
       "}\n",
       "\n",
       "#sk-container-id-2 div.sk-label label.sk-toggleable__label,\n",
       "#sk-container-id-2 div.sk-label label {\n",
       "  /* The background is the default theme color */\n",
       "  color: var(--sklearn-color-text-on-default-background);\n",
       "}\n",
       "\n",
       "/* On hover, darken the color of the background */\n",
       "#sk-container-id-2 div.sk-label:hover label.sk-toggleable__label {\n",
       "  color: var(--sklearn-color-text);\n",
       "  background-color: var(--sklearn-color-unfitted-level-2);\n",
       "}\n",
       "\n",
       "/* Label box, darken color on hover, fitted */\n",
       "#sk-container-id-2 div.sk-label.fitted:hover label.sk-toggleable__label.fitted {\n",
       "  color: var(--sklearn-color-text);\n",
       "  background-color: var(--sklearn-color-fitted-level-2);\n",
       "}\n",
       "\n",
       "/* Estimator label */\n",
       "\n",
       "#sk-container-id-2 div.sk-label label {\n",
       "  font-family: monospace;\n",
       "  font-weight: bold;\n",
       "  display: inline-block;\n",
       "  line-height: 1.2em;\n",
       "}\n",
       "\n",
       "#sk-container-id-2 div.sk-label-container {\n",
       "  text-align: center;\n",
       "}\n",
       "\n",
       "/* Estimator-specific */\n",
       "#sk-container-id-2 div.sk-estimator {\n",
       "  font-family: monospace;\n",
       "  border: 1px dotted var(--sklearn-color-border-box);\n",
       "  border-radius: 0.25em;\n",
       "  box-sizing: border-box;\n",
       "  margin-bottom: 0.5em;\n",
       "  /* unfitted */\n",
       "  background-color: var(--sklearn-color-unfitted-level-0);\n",
       "}\n",
       "\n",
       "#sk-container-id-2 div.sk-estimator.fitted {\n",
       "  /* fitted */\n",
       "  background-color: var(--sklearn-color-fitted-level-0);\n",
       "}\n",
       "\n",
       "/* on hover */\n",
       "#sk-container-id-2 div.sk-estimator:hover {\n",
       "  /* unfitted */\n",
       "  background-color: var(--sklearn-color-unfitted-level-2);\n",
       "}\n",
       "\n",
       "#sk-container-id-2 div.sk-estimator.fitted:hover {\n",
       "  /* fitted */\n",
       "  background-color: var(--sklearn-color-fitted-level-2);\n",
       "}\n",
       "\n",
       "/* Specification for estimator info (e.g. \"i\" and \"?\") */\n",
       "\n",
       "/* Common style for \"i\" and \"?\" */\n",
       "\n",
       ".sk-estimator-doc-link,\n",
       "a:link.sk-estimator-doc-link,\n",
       "a:visited.sk-estimator-doc-link {\n",
       "  float: right;\n",
       "  font-size: smaller;\n",
       "  line-height: 1em;\n",
       "  font-family: monospace;\n",
       "  background-color: var(--sklearn-color-background);\n",
       "  border-radius: 1em;\n",
       "  height: 1em;\n",
       "  width: 1em;\n",
       "  text-decoration: none !important;\n",
       "  margin-left: 0.5em;\n",
       "  text-align: center;\n",
       "  /* unfitted */\n",
       "  border: var(--sklearn-color-unfitted-level-1) 1pt solid;\n",
       "  color: var(--sklearn-color-unfitted-level-1);\n",
       "}\n",
       "\n",
       ".sk-estimator-doc-link.fitted,\n",
       "a:link.sk-estimator-doc-link.fitted,\n",
       "a:visited.sk-estimator-doc-link.fitted {\n",
       "  /* fitted */\n",
       "  border: var(--sklearn-color-fitted-level-1) 1pt solid;\n",
       "  color: var(--sklearn-color-fitted-level-1);\n",
       "}\n",
       "\n",
       "/* On hover */\n",
       "div.sk-estimator:hover .sk-estimator-doc-link:hover,\n",
       ".sk-estimator-doc-link:hover,\n",
       "div.sk-label-container:hover .sk-estimator-doc-link:hover,\n",
       ".sk-estimator-doc-link:hover {\n",
       "  /* unfitted */\n",
       "  background-color: var(--sklearn-color-unfitted-level-3);\n",
       "  color: var(--sklearn-color-background);\n",
       "  text-decoration: none;\n",
       "}\n",
       "\n",
       "div.sk-estimator.fitted:hover .sk-estimator-doc-link.fitted:hover,\n",
       ".sk-estimator-doc-link.fitted:hover,\n",
       "div.sk-label-container:hover .sk-estimator-doc-link.fitted:hover,\n",
       ".sk-estimator-doc-link.fitted:hover {\n",
       "  /* fitted */\n",
       "  background-color: var(--sklearn-color-fitted-level-3);\n",
       "  color: var(--sklearn-color-background);\n",
       "  text-decoration: none;\n",
       "}\n",
       "\n",
       "/* Span, style for the box shown on hovering the info icon */\n",
       ".sk-estimator-doc-link span {\n",
       "  display: none;\n",
       "  z-index: 9999;\n",
       "  position: relative;\n",
       "  font-weight: normal;\n",
       "  right: .2ex;\n",
       "  padding: .5ex;\n",
       "  margin: .5ex;\n",
       "  width: min-content;\n",
       "  min-width: 20ex;\n",
       "  max-width: 50ex;\n",
       "  color: var(--sklearn-color-text);\n",
       "  box-shadow: 2pt 2pt 4pt #999;\n",
       "  /* unfitted */\n",
       "  background: var(--sklearn-color-unfitted-level-0);\n",
       "  border: .5pt solid var(--sklearn-color-unfitted-level-3);\n",
       "}\n",
       "\n",
       ".sk-estimator-doc-link.fitted span {\n",
       "  /* fitted */\n",
       "  background: var(--sklearn-color-fitted-level-0);\n",
       "  border: var(--sklearn-color-fitted-level-3);\n",
       "}\n",
       "\n",
       ".sk-estimator-doc-link:hover span {\n",
       "  display: block;\n",
       "}\n",
       "\n",
       "/* \"?\"-specific style due to the `<a>` HTML tag */\n",
       "\n",
       "#sk-container-id-2 a.estimator_doc_link {\n",
       "  float: right;\n",
       "  font-size: 1rem;\n",
       "  line-height: 1em;\n",
       "  font-family: monospace;\n",
       "  background-color: var(--sklearn-color-background);\n",
       "  border-radius: 1rem;\n",
       "  height: 1rem;\n",
       "  width: 1rem;\n",
       "  text-decoration: none;\n",
       "  /* unfitted */\n",
       "  color: var(--sklearn-color-unfitted-level-1);\n",
       "  border: var(--sklearn-color-unfitted-level-1) 1pt solid;\n",
       "}\n",
       "\n",
       "#sk-container-id-2 a.estimator_doc_link.fitted {\n",
       "  /* fitted */\n",
       "  border: var(--sklearn-color-fitted-level-1) 1pt solid;\n",
       "  color: var(--sklearn-color-fitted-level-1);\n",
       "}\n",
       "\n",
       "/* On hover */\n",
       "#sk-container-id-2 a.estimator_doc_link:hover {\n",
       "  /* unfitted */\n",
       "  background-color: var(--sklearn-color-unfitted-level-3);\n",
       "  color: var(--sklearn-color-background);\n",
       "  text-decoration: none;\n",
       "}\n",
       "\n",
       "#sk-container-id-2 a.estimator_doc_link.fitted:hover {\n",
       "  /* fitted */\n",
       "  background-color: var(--sklearn-color-fitted-level-3);\n",
       "}\n",
       "\n",
       ".estimator-table summary {\n",
       "    padding: .5rem;\n",
       "    font-family: monospace;\n",
       "    cursor: pointer;\n",
       "}\n",
       "\n",
       ".estimator-table details[open] {\n",
       "    padding-left: 0.1rem;\n",
       "    padding-right: 0.1rem;\n",
       "    padding-bottom: 0.3rem;\n",
       "}\n",
       "\n",
       ".estimator-table .parameters-table {\n",
       "    margin-left: auto !important;\n",
       "    margin-right: auto !important;\n",
       "}\n",
       "\n",
       ".estimator-table .parameters-table tr:nth-child(odd) {\n",
       "    background-color: #fff;\n",
       "}\n",
       "\n",
       ".estimator-table .parameters-table tr:nth-child(even) {\n",
       "    background-color: #f6f6f6;\n",
       "}\n",
       "\n",
       ".estimator-table .parameters-table tr:hover {\n",
       "    background-color: #e0e0e0;\n",
       "}\n",
       "\n",
       ".estimator-table table td {\n",
       "    border: 1px solid rgba(106, 105, 104, 0.232);\n",
       "}\n",
       "\n",
       ".user-set td {\n",
       "    color:rgb(255, 94, 0);\n",
       "    text-align: left;\n",
       "}\n",
       "\n",
       ".user-set td.value pre {\n",
       "    color:rgb(255, 94, 0) !important;\n",
       "    background-color: transparent !important;\n",
       "}\n",
       "\n",
       ".default td {\n",
       "    color: black;\n",
       "    text-align: left;\n",
       "}\n",
       "\n",
       ".user-set td i,\n",
       ".default td i {\n",
       "    color: black;\n",
       "}\n",
       "\n",
       ".copy-paste-icon {\n",
       "    background-image: url(data:image/svg+xml;base64,PHN2ZyB4bWxucz0iaHR0cDovL3d3dy53My5vcmcvMjAwMC9zdmciIHZpZXdCb3g9IjAgMCA0NDggNTEyIj48IS0tIUZvbnQgQXdlc29tZSBGcmVlIDYuNy4yIGJ5IEBmb250YXdlc29tZSAtIGh0dHBzOi8vZm9udGF3ZXNvbWUuY29tIExpY2Vuc2UgLSBodHRwczovL2ZvbnRhd2Vzb21lLmNvbS9saWNlbnNlL2ZyZWUgQ29weXJpZ2h0IDIwMjUgRm9udGljb25zLCBJbmMuLS0+PHBhdGggZD0iTTIwOCAwTDMzMi4xIDBjMTIuNyAwIDI0LjkgNS4xIDMzLjkgMTQuMWw2Ny45IDY3LjljOSA5IDE0LjEgMjEuMiAxNC4xIDMzLjlMNDQ4IDMzNmMwIDI2LjUtMjEuNSA0OC00OCA0OGwtMTkyIDBjLTI2LjUgMC00OC0yMS41LTQ4LTQ4bDAtMjg4YzAtMjYuNSAyMS41LTQ4IDQ4LTQ4ek00OCAxMjhsODAgMCAwIDY0LTY0IDAgMCAyNTYgMTkyIDAgMC0zMiA2NCAwIDAgNDhjMCAyNi41LTIxLjUgNDgtNDggNDhMNDggNTEyYy0yNi41IDAtNDgtMjEuNS00OC00OEwwIDE3NmMwLTI2LjUgMjEuNS00OCA0OC00OHoiLz48L3N2Zz4=);\n",
       "    background-repeat: no-repeat;\n",
       "    background-size: 14px 14px;\n",
       "    background-position: 0;\n",
       "    display: inline-block;\n",
       "    width: 14px;\n",
       "    height: 14px;\n",
       "    cursor: pointer;\n",
       "}\n",
       "</style><body><div id=\"sk-container-id-2\" class=\"sk-top-container\"><div class=\"sk-text-repr-fallback\"><pre>KNeighborsClassifier()</pre><b>In a Jupyter environment, please rerun this cell to show the HTML representation or trust the notebook. <br />On GitHub, the HTML representation is unable to render, please try loading this page with nbviewer.org.</b></div><div class=\"sk-container\" hidden><div class=\"sk-item\"><div class=\"sk-estimator fitted sk-toggleable\"><input class=\"sk-toggleable__control sk-hidden--visually\" id=\"sk-estimator-id-2\" type=\"checkbox\" checked><label for=\"sk-estimator-id-2\" class=\"sk-toggleable__label fitted sk-toggleable__label-arrow\"><div><div>KNeighborsClassifier</div></div><div><a class=\"sk-estimator-doc-link fitted\" rel=\"noreferrer\" target=\"_blank\" href=\"https://scikit-learn.org/1.7/modules/generated/sklearn.neighbors.KNeighborsClassifier.html\">?<span>Documentation for KNeighborsClassifier</span></a><span class=\"sk-estimator-doc-link fitted\">i<span>Fitted</span></span></div></label><div class=\"sk-toggleable__content fitted\" data-param-prefix=\"\">\n",
       "        <div class=\"estimator-table\">\n",
       "            <details>\n",
       "                <summary>Parameters</summary>\n",
       "                <table class=\"parameters-table\">\n",
       "                  <tbody>\n",
       "                    \n",
       "        <tr class=\"default\">\n",
       "            <td><i class=\"copy-paste-icon\"\n",
       "                 onclick=\"copyToClipboard('n_neighbors',\n",
       "                          this.parentElement.nextElementSibling)\"\n",
       "            ></i></td>\n",
       "            <td class=\"param\">n_neighbors&nbsp;</td>\n",
       "            <td class=\"value\">5</td>\n",
       "        </tr>\n",
       "    \n",
       "\n",
       "        <tr class=\"default\">\n",
       "            <td><i class=\"copy-paste-icon\"\n",
       "                 onclick=\"copyToClipboard('weights',\n",
       "                          this.parentElement.nextElementSibling)\"\n",
       "            ></i></td>\n",
       "            <td class=\"param\">weights&nbsp;</td>\n",
       "            <td class=\"value\">&#x27;uniform&#x27;</td>\n",
       "        </tr>\n",
       "    \n",
       "\n",
       "        <tr class=\"default\">\n",
       "            <td><i class=\"copy-paste-icon\"\n",
       "                 onclick=\"copyToClipboard('algorithm',\n",
       "                          this.parentElement.nextElementSibling)\"\n",
       "            ></i></td>\n",
       "            <td class=\"param\">algorithm&nbsp;</td>\n",
       "            <td class=\"value\">&#x27;auto&#x27;</td>\n",
       "        </tr>\n",
       "    \n",
       "\n",
       "        <tr class=\"default\">\n",
       "            <td><i class=\"copy-paste-icon\"\n",
       "                 onclick=\"copyToClipboard('leaf_size',\n",
       "                          this.parentElement.nextElementSibling)\"\n",
       "            ></i></td>\n",
       "            <td class=\"param\">leaf_size&nbsp;</td>\n",
       "            <td class=\"value\">30</td>\n",
       "        </tr>\n",
       "    \n",
       "\n",
       "        <tr class=\"default\">\n",
       "            <td><i class=\"copy-paste-icon\"\n",
       "                 onclick=\"copyToClipboard('p',\n",
       "                          this.parentElement.nextElementSibling)\"\n",
       "            ></i></td>\n",
       "            <td class=\"param\">p&nbsp;</td>\n",
       "            <td class=\"value\">2</td>\n",
       "        </tr>\n",
       "    \n",
       "\n",
       "        <tr class=\"default\">\n",
       "            <td><i class=\"copy-paste-icon\"\n",
       "                 onclick=\"copyToClipboard('metric',\n",
       "                          this.parentElement.nextElementSibling)\"\n",
       "            ></i></td>\n",
       "            <td class=\"param\">metric&nbsp;</td>\n",
       "            <td class=\"value\">&#x27;minkowski&#x27;</td>\n",
       "        </tr>\n",
       "    \n",
       "\n",
       "        <tr class=\"default\">\n",
       "            <td><i class=\"copy-paste-icon\"\n",
       "                 onclick=\"copyToClipboard('metric_params',\n",
       "                          this.parentElement.nextElementSibling)\"\n",
       "            ></i></td>\n",
       "            <td class=\"param\">metric_params&nbsp;</td>\n",
       "            <td class=\"value\">None</td>\n",
       "        </tr>\n",
       "    \n",
       "\n",
       "        <tr class=\"default\">\n",
       "            <td><i class=\"copy-paste-icon\"\n",
       "                 onclick=\"copyToClipboard('n_jobs',\n",
       "                          this.parentElement.nextElementSibling)\"\n",
       "            ></i></td>\n",
       "            <td class=\"param\">n_jobs&nbsp;</td>\n",
       "            <td class=\"value\">None</td>\n",
       "        </tr>\n",
       "    \n",
       "                  </tbody>\n",
       "                </table>\n",
       "            </details>\n",
       "        </div>\n",
       "    </div></div></div></div></div><script>function copyToClipboard(text, element) {\n",
       "    // Get the parameter prefix from the closest toggleable content\n",
       "    const toggleableContent = element.closest('.sk-toggleable__content');\n",
       "    const paramPrefix = toggleableContent ? toggleableContent.dataset.paramPrefix : '';\n",
       "    const fullParamName = paramPrefix ? `${paramPrefix}${text}` : text;\n",
       "\n",
       "    const originalStyle = element.style;\n",
       "    const computedStyle = window.getComputedStyle(element);\n",
       "    const originalWidth = computedStyle.width;\n",
       "    const originalHTML = element.innerHTML.replace('Copied!', '');\n",
       "\n",
       "    navigator.clipboard.writeText(fullParamName)\n",
       "        .then(() => {\n",
       "            element.style.width = originalWidth;\n",
       "            element.style.color = 'green';\n",
       "            element.innerHTML = \"Copied!\";\n",
       "\n",
       "            setTimeout(() => {\n",
       "                element.innerHTML = originalHTML;\n",
       "                element.style = originalStyle;\n",
       "            }, 2000);\n",
       "        })\n",
       "        .catch(err => {\n",
       "            console.error('Failed to copy:', err);\n",
       "            element.style.color = 'red';\n",
       "            element.innerHTML = \"Failed!\";\n",
       "            setTimeout(() => {\n",
       "                element.innerHTML = originalHTML;\n",
       "                element.style = originalStyle;\n",
       "            }, 2000);\n",
       "        });\n",
       "    return false;\n",
       "}\n",
       "\n",
       "document.querySelectorAll('.fa-regular.fa-copy').forEach(function(element) {\n",
       "    const toggleableContent = element.closest('.sk-toggleable__content');\n",
       "    const paramPrefix = toggleableContent ? toggleableContent.dataset.paramPrefix : '';\n",
       "    const paramName = element.parentElement.nextElementSibling.textContent.trim();\n",
       "    const fullParamName = paramPrefix ? `${paramPrefix}${paramName}` : paramName;\n",
       "\n",
       "    element.setAttribute('title', fullParamName);\n",
       "});\n",
       "</script></body>"
      ],
      "text/plain": [
       "KNeighborsClassifier()"
      ]
     },
     "execution_count": 101,
     "metadata": {},
     "output_type": "execute_result"
    }
   ],
   "source": [
    "knn = KNeighborsClassifier()\n",
    "knn.fit(X_train_pca,y_train)"
   ]
  },
  {
   "cell_type": "code",
   "execution_count": 102,
   "id": "20c6701c",
   "metadata": {},
   "outputs": [
    {
     "name": "stdout",
     "output_type": "stream",
     "text": [
      "accuracy after applying PCA: 0.9853054911059551\n"
     ]
    }
   ],
   "source": [
    "y_pred1 = knn.predict(X_test_pca)\n",
    "accuracy1 = accuracy_score(y_pred1 , y_test)\n",
    "print(\"accuracy after applying PCA:\" , accuracy1)"
   ]
  },
  {
   "cell_type": "code",
   "execution_count": 105,
   "id": "6c5e29e9",
   "metadata": {},
   "outputs": [],
   "source": [
    "# Now Lets Visualize the data in 3D \n",
    "\n",
    "pca2 = PCA(n_components=3)\n",
    "X_train_pca2 = pca2.fit_transform(X_train_scaled)\n"
   ]
  },
  {
   "cell_type": "code",
   "execution_count": 113,
   "id": "ee52fdf0",
   "metadata": {},
   "outputs": [
    {
     "name": "stdout",
     "output_type": "stream",
     "text": [
      "[[ 2.43383602  2.11408924 -2.127539  ]\n",
      " [ 0.7161054  -0.96782145  2.63444927]\n",
      " [ 1.87825671  0.3087484  -0.56653343]\n",
      " ...\n",
      " [-2.77715552  2.2892406   2.40960642]\n",
      " [-2.71987143  1.30399763  1.91923015]\n",
      " [-0.63993465  0.23964726  1.12933172]]\n"
     ]
    },
    {
     "data": {
      "text/plain": [
       "(5170, 3)"
      ]
     },
     "execution_count": 113,
     "metadata": {},
     "output_type": "execute_result"
    }
   ],
   "source": [
    "print(X_train_pca2)\n",
    "X_train_pca2.shape"
   ]
  },
  {
   "cell_type": "code",
   "execution_count": 106,
   "id": "ac1ccc9d",
   "metadata": {},
   "outputs": [
    {
     "data": {
      "text/plain": [
       "array([3.03863301, 2.62435106, 1.63495697])"
      ]
     },
     "execution_count": 106,
     "metadata": {},
     "output_type": "execute_result"
    }
   ],
   "source": [
    "pca2.explained_variance_     # these aare the eigen value of three PC and represents variance on each pc\n",
    "                            # Ideally we should choose no of PC so that it capture the 90% of variance\n",
    "                            # variance captered by pc1 = (lambda1/(lambda1+lambda2+...lambda13))*100"
   ]
  },
  {
   "cell_type": "code",
   "execution_count": null,
   "id": "8cceba22",
   "metadata": {},
   "outputs": [
    {
     "data": {
      "text/plain": [
       "array([[-0.2567824 , -0.39371667,  0.14270525,  0.32290197, -0.31255168,\n",
       "         0.42213838,  0.47597576, -0.08418281, -0.20423424, -0.30084496,\n",
       "        -0.0639752 ,  0.09261928],\n",
       "       [ 0.26799021,  0.10145197,  0.14735249,  0.34431656,  0.26811944,\n",
       "         0.10402168,  0.13578201,  0.55778609, -0.15889808,  0.12877575,\n",
       "        -0.49206252, -0.2852966 ],\n",
       "       [ 0.46012739, -0.28938153,  0.58824824, -0.0782155 ,  0.04104195,\n",
       "        -0.10019091, -0.10202703, -0.06208036, -0.40178559,  0.17170147,\n",
       "         0.21754099,  0.29692452]])"
      ]
     },
     "execution_count": 108,
     "metadata": {},
     "output_type": "execute_result"
    }
   ],
   "source": [
    "pca2.components_  # This will give 3 , 12 dimensional vector (PC1 , PC2 , PC3)"
   ]
  },
  {
   "cell_type": "code",
   "execution_count": 109,
   "id": "53543b2b",
   "metadata": {},
   "outputs": [
    {
     "data": {
      "text/plain": [
       "(3, 12)"
      ]
     },
     "execution_count": 109,
     "metadata": {},
     "output_type": "execute_result"
    }
   ],
   "source": [
    "pca2.components_.shape"
   ]
  },
  {
   "cell_type": "code",
   "execution_count": 118,
   "id": "e7976727",
   "metadata": {},
   "outputs": [
    {
     "data": {
      "text/plain": [
       "array([0.25317044, 0.21865362, 0.13622006])"
      ]
     },
     "execution_count": 118,
     "metadata": {},
     "output_type": "execute_result"
    }
   ],
   "source": [
    "pca2.explained_variance_ratio_    # This will tell how much variance is being captured by each PC"
   ]
  },
  {
   "cell_type": "code",
   "execution_count": 117,
   "id": "9029a2db",
   "metadata": {},
   "outputs": [
    {
     "data": {
      "application/vnd.plotly.v1+json": {
       "config": {
        "plotlyServerURL": "https://plot.ly"
       },
       "data": [
        {
         "hovertemplate": "PC1=%{x}<br>PC2=%{y}<br>PC3=%{z}<br>Target=%{marker.color}<extra></extra>",
         "legendgroup": "",
         "marker": {
          "color": {
           "bdata": "AQEBAQEBAQEBAAAAAQABAQEAAQABAQEBAAAAAQEBAQEBAQABAAEAAQEBAQEBAQEAAQEBAQEBAQEAAAEAAQEBAQEBAQEBAAEBAQEBAAEBAQEBAQEAAQEBAQEBAQEBAQABAQABAQEBAQABAQEAAAEAAAEBAQEAAAEBAQEBAQEBAAABAQEBAQEBAQEBAAEBAQEBAQABAQEBAQAAAQEBAQEBAQEBAQEAAQEAAAEAAQEBAAEAAQEBAAEBAQABAQEBAQEBAQEBAQABAAEBAAABAQABAQEBAQEAAAABAQEBAQEAAAABAQEBAQEBAQABAQABAQABAQABAQEBAQEBAAEBAAEBAQAAAQABAQEBAQEBAQABAQEAAQABAQEBAQEAAQEBAQEBAQEBAQEBAAABAAEBAQEAAQABAAABAQEBAQABAQEBAQEBAQABAQEBAQEAAQEBAQEAAQABAQEBAQABAQEBAQEBAAEBAQEAAQEBAQEAAQAAAQEAAAEBAQEBAQEBAAABAQEBAQEAAQEAAQAAAQEBAQEBAAEBAQEBAQABAAEBAQEBAAEBAQEBAAEBAQEBAQEBAAEAAQABAQEBAQEBAQABAAEBAQEBAQAAAQEBAQEBAQEAAAEBAQEBAQEBAQABAQEBAAEBAQEBAAEBAQEBAAEBAQEBAAEBAQABAQABAAEAAAABAQABAQEBAAEBAAEBAAEBAAEBAQEBAQEBAAEBAQABAQEBAAABAQEBAQEBAQEBAQEAAAEAAQABAQEBAAEBAQEAAQAAAQABAQEAAQEBAQEAAQEAAQAAAQEBAQEBAQAAAQAAAQEBAQEAAAEAAQEAAQEAAQEBAQEBAQEBAQEBAQEAAAAAAQEBAQABAAEBAQAAAQAAAAEBAQABAAEBAQEAAAEBAAEBAQEBAQABAAEBAAEBAQEBAQEBAQEAAAEAAQEAAAEBAQAAAQAAAQEBAAEBAAEBAQAAAAEBAQEBAQEBAQEBAQEBAAEBAQEBAAEBAQEAAQEBAQEBAQEBAAEBAQEBAQEBAQEBAAABAAEAAQEAAAABAAEBAQEBAAEBAQEBAQEAAAEBAQEBAQEBAAAAAQEBAAEBAQEBAAEBAAAAAQEBAQEBAQEAAQEAAQEBAQEBAQAAAQEBAAEBAQEBAAEBAQEBAQEBAQEBAQEAAQABAQABAAEBAQEBAAABAQEBAQEBAQAAAAEBAQEBAQEBAQEBAQEBAQEAAQABAQEBAQEBAQEBAQABAAEBAAEBAAEBAQABAQABAAEBAQEBAAEBAAEBAQEBAQEBAQABAQEBAQEBAQEBAQEBAQEBAAABAQABAQEBAQABAQEBAAEBAAEBAQABAQEBAAEBAQEBAQEAAAEAAQEBAQABAQEBAQABAQEBAAEBAQEAAQEAAAEBAQEBAAEBAQEBAAEAAQEBAQEBAQEBAQEBAAEBAQEBAAEBAQEAAQEBAQEAAAAAAQAAAQAAAQEAAQEBAQEAAQEBAQEBAQEBAAABAQEBAQEBAQEBAQEBAAEBAQABAAEBAQEBAQEBAQEBAQEAAAEBAQABAQEBAQEBAQEBAQEBAAABAQEBAQEBAAEBAQABAQABAQEBAQEBAQEBAAEBAQABAAEBAQEBAAABAAEAAAABAAABAQEBAQEBAAEBAQEBAAEBAQEBAQABAQAAAAEBAAABAQEBAQEBAAEBAAABAQEBAQEBAQEBAAABAAEBAQEBAQAAAQEBAQEBAQEAAAAAAQABAQEBAAEBAQEBAQEBAQEBAAAAAAEBAAEBAQEBAQEBAAEBAQAAAAEAAQEBAAEAAAEBAAEAAQEAAQEAAQEBAQEAAQEBAAEBAQABAQEBAQEBAQABAQEAAQEBAQEBAQEBAAEBAAAAAQEBAQAAAAEBAQEBAQEBAQEAAQEBAQEAAQEAAAABAAEBAQEBAQEBAQEAAQEBAQEBAQEBAQAAAQABAQEBAQEBAQEAAQEBAQEBAQEBAQEBAQEAAQEBAQEAAQEAAQABAAEBAQEBAQAAAQEBAQEBAAEBAQEBAQEBAQEBAQAAAAEAAAEAAQEBAQEAAQEBAQEBAQEAAAABAQEBAQABAQEBAQEBAQEBAQEBAAEBAQEBAQEAAQAAAQEBAQEBAQEBAAEAAQABAAEBAQEBAQEAAQEBAQEBAQEAAQEBAQEBAQABAQABAQEBAQEAAAEBAQEBAQEBAQABAQEBAAEBAQEBAQEBAQEBAQEBAQEBAQEBAQEBAAEBAQEBAQEAAAEAAAEAAQEAAAABAQEBAQAAAQEBAQABAQEBAQEBAAEBAAAAAQEBAQABAQEBAQABAQABAQEBAAABAQEBAAEBAQEBAAEBAQEAAAEAAAEBAQEBAQABAQEBAQEBAQEBAQEBAQABAAABAAABAQAAAAEAAQABAQEBAQEBAQEBAAABAQEBAQEAAQEBAQABAQEAAQEAAQEBAQEBAAEBAAEBAQEBAQEAAQEAAQEBAAEAAAAAAQEBAQEBAAAAAQEAAAAAAQEBAQEBAQABAAEBAQABAQAAAQABAQABAQEAAQAAAQABAQEAAQEBAQEBAAEAAQEBAQEBAQABAQEAAQEBAQEBAQEBAQEAAQEAAAEBAQEBAAEBAQEBAQEBAAEBAQEBAAABAQEBAQEAAQEBAQEBAAABAQEBAQABAQEAAQABAAEBAQABAQEBAQEBAQABAQEBAAEBAAABAQABAQEAAQEBAQEBAQABAAABAQEBAQEAAQEBAQEBAAEBAQABAQEBAQEAAQEBAQEBAAEBAQEAAQEAAQEBAQAAAAABAAABAQEBAQABAAAAAAEAAQEBAQABAQEAAQEAAQEAAAEBAQABAQEAAQEAAQAAAQEBAAEBAAEBAQEBAQEBAQEBAQEBAQEBAAAAAQEBAAEAAQEBAQEBAQEBAAEBAQAAAQEBAQEAAQEAAQEBAQEAAQEBAQEAAAABAQEBAAEAAQEBAAABAQEBAQEAAQEAAQEBAQABAQEBAAEBAQABAQAAAAEAAQABAAABAQEBAAEBAQABAQEBAAEBAAEBAQEBAQEAAAEBAQEBAAEBAQAAAQEBAQEBAQABAQAAAAABAQABAQEAAQEBAQABAQEAAQEAAQEBAQEBAQEBAQEBAQABAQEBAAEBAQEBAQEBAQEBAQABAQABAQEBAQABAQEBAQEBAQEBAQEBAQABAQABAQABAQEBAQAAAQEBAQEBAAEAAQEAAQEBAQEBAQEAAQEBAQEBAQAAAQEBAQEBAAEBAQABAQEBAQEBAAEBAAEBAAEAAQEAAQABAQABAQEBAQEBAAAAAQABAQEBAAEBAAABAQEAAAABAQEBAQEAAQEBAAEBAQEBAQABAQEAAQEBAQEBAQEBAQEBAQAAAQEBAQEBAQAAAAEAAQEBAQABAQEBAAEBAQEAAQEAAQEBAQEAAQEBAQABAAEBAQEBAQEAAQEAAQEAAQAAAAABAQEBAAEAAQABAQEBAAEAAQABAAEBAQEBAQEBAAABAQEBAQEAAAAAAQEBAQEBAQEAAQEAAQEBAQEBAQEAAAEBAAEBAAAAAQEBAQABAAEAAQEBAQEBAQEAAQEBAQAAAQEBAQEAAQEBAQEBAQEBAQEBAQABAQEBAAEBAAEBAQEAAQEBAQEBAAEBAQEBAQEAAQEBAAEAAQEAAQABAQEBAQEBAAEAAQEBAQEBAQEBAAEBAAEBAQEBAQEBAQABAQEBAQABAQEBAQEBAQEAAQABAQABAQABAAEAAQEBAQABAQAAAAEBAQEAAAEBAQEBAQABAQEBAQABAQEAAAABAQABAQABAQEBAAEAAQEAAAABAQABAAEAAQEBAQABAAABAQEBAQABAAEAAQEBAQEBAQEBAQAAAQEBAQEAAAEBAQEAAAEAAAEBAQEBAAABAQABAQAAAAEBAQABAQABAQEBAQEBAAABAQEBAQEBAAEBAQEBAQEBAQABAQEAAQEBAQEBAQEBAQAAAQEBAQEBAQEBAAEBAQABAQEAAQABAQEBAQEAAQEBAQEAAQEBAQEBAQEAAQEBAAABAQAAAAEAAAAAAQAAAQABAQEBAQEBAQABAQEBAQEBAQEBAAABAAEAAAEBAAEBAQAAAQEAAAEAAQEBAQAAAQEBAQEBAAEBAQEBAQAAAQEBAQEBAQEBAQABAQEBAQEBAQEAAQEAAAAAAQEBAQEBAQEBAQEBAQEBAQABAAEBAAEBAAEAAAEBAAEBAQEBAQEAAQEBAQEBAQEBAQEBAQEBAQEBAQEBAQEBAQEAAQAAAQEAAQEBAAEBAAEBAQEAAQABAQABAAEAAQEBAQAAAQABAAAAAQEBAQEBAQEBAQEAAQEBAAEAAAEBAQABAAEBAQEBAQEBAQEBAAEBAQEBAAEAAQEAAQEAAQEBAQEAAQEBAQEBAAABAQEBAAEBAAEBAAEBAAEBAQEAAQEBAAABAAEBAQEBAQEBAAEAAQEBAAABAQEBAQEBAQEBAQAAAQEBAQEAAAABAQABAQEBAQEBAQEAAQEBAQEBAQEBAQEBAQEBAQAAAQEBAQABAQAAAAEBAQEBAAEAAQEBAQEBAQABAQEAAQEBAQEBAQEBAQEBAQEBAQEAAQEBAQEBAAEBAQABAAEBAQEAAAEBAQEAAQEBAAAAAQEBAQEBAQEBAQEBAAEBAQEBAQEAAQEAAQEBAAEBAQEBAQEAAQEBAQABAAEAAQEBAAEAAQEAAAEAAQEBAQEBAQABAQEBAQEBAQABAAABAQEBAQEBAAEBAQEBAQEBAQEBAQEBAQABAAEAAQEBAQEBAQEBAAEBAQEAAAEBAQEBAAEBAAEBAQEBAQAAAQABAAEBAQABAAEBAQEBAQEBAQEBAQABAQEAAQEAAQEBAQEBAQEAAQEBAAEBAQEBAQEBAQEAAQEBAQEBAQEAAQEBAQEBAQEBAQEBAAABAQAAAQEBAQEBAQEBAAEBAQEBAQEAAAEBAQEBAQEAAQABAQABAQABAAEBAQEBAQEBAAEBAQEBAQEBAQABAQEBAAEBAQEBAAABAQEBAQEBAQEBAAEBAQABAQAAAQEAAQEAAAEBAQEBAAEBAQEAAQABAQEBAQEAAQEAAAEBAQABAQEBAQEBAQEBAQEAAQEAAQEBAQABAQABAQEBAQAAAQABAQEAAQEBAQEBAAEBAAEBAAEBAQEBAAABAQEBAQEBAQEBAAEBAQEBAQEBAQEBAQEBAAAAAQAAAQABAQEAAQEBAQEBAQEBAQEBAQEBAQABAQEBAQABAAAAAQEBAQABAQEBAAEBAQEBAAABAQABAQEAAAEBAAEBAAEAAQEBAQEBAAEBAQEAAQEAAQEBAQEAAAEAAQEBAAAAAQEBAQEAAAAAAAEAAAABAAABAAABAQEBAQEAAQEBAAEBAQEBAQEBAQEBAQAAAQEBAAEBAQEBAQEBAQEAAQABAQEBAQEBAAABAQEBAQABAQEBAQEAAAEAAQABAQEBAQEBAQEBAQEBAQEBAQEBAAEBAQEBAAEBAAEBAQEBAQEAAQEBAQEBAQEBAAEBAQEBAQABAQABAQEAAQABAQEBAAABAQEBAQABAQAAAQEBAQEAAQEBAQABAQEBAQEBAQEBAQABAQEBAQABAQEBAAEBAQEBAQEBAAEBAQEBAQABAQEBAQEBAQABAQABAQEAAQEBAQABAAEBAQEBAQEAAQEBAQEBAQABAQAAAQEAAQABAAEBAQAAAAABAQEBAQEBAQEBAQEBAQEAAAEBAQEBAAEBAAEBAAEAAQEBAAEAAQABAQEBAQEAAQEBAQEBAQABAQEBAQEBAAEBAQEBAAEBAAEBAQEBAAABAQEBAQEBAQABAQEBAQEBAQEBAQEBAQEBAQEBAQEBAQEBAQEBAAABAAEAAAEAAQEBAAEBAQEBAQEBAAEBAAABAQABAAABAQEBAQAAAAEBAQEBAQEBAAEBAQABAAABAQEAAQEBAAAAAQABAQEBAAEBAQABAQEBAQEAAAABAQEAAQAAAQEBAQAAAQAAAQEAAAEBAAEBAQEBAQEBAQABAAEAAQEBAQEBAQEBAAEBAQEBAQEBAQEBAAEBAAEBAAEBAQEBAAEAAAEBAQEBAQEBAAEAAQEAAAEBAQEBAQABAQEAAQABAAEBAQEBAQEAAAEBAAEBAAABAQABAQEBAAEAAAEBAQEBAQEBAQEBAQEBAAEBAQEBAQEBAAEBAAEBAQEBAAEBAQEBAAAAAAEBAAEBAQEAAQEBAQEAAQEBAQEBAQEBAQEAAAABAQAAAQEBAQEAAAEAAAEAAQAAAQEBAAEBAQEBAQEBAQABAAEBAQAAAQEBAQEBAQEBAAEBAAABAAEBAQAAAAEBAQEBAQEAAAEBAAEBAQABAAEBAQEBAQEBAQEBAAAAAQABAQEBAQEBAQEAAQEAAQABAQAAAQEBAQEBAQEBAQABAQEBAAEAAQEBAQEAAQEBAQEAAQABAQEBAAEAAQABAQEBAQEAAQEBAQAAAQABAQABAQEBAQEBAQABAAEAAQAAAAEBAAEAAAEBAAEBAQEBAQAAAQABAQABAQEBAQEAAQEBAQEBAQEBAQEBAQABAQEAAQABAAEAAQABAQAAAQEAAQABAQEBAQEBAQABAQABAQEBAQEBAQEBAQEBAQEBAQEBAQEAAAEAAQEAAAABAAEAAQEBAQABAQEBAQEBAAEAAQEAAAEBAQEBAAEBAQAAAQEAAAEBAQAAAQEAAQEBAAAAAQAAAAEBAQEBAAEBAQABAQEBAQABAAEBAQEAAAEBAQEBAQEBAAABAQABAAEAAQEBAQAAAQABAAEBAAEBAAEAAAEBAQAAAQEBAQABAQABAAEAAQEBAQEBAQEAAQEBAQABAQEAAQEBAQEBAQEAAQEBAQEAAAEBAQEBAQEBAQAAAQABAQEBAQEBAQEBAQEBAQEBAQEBAQABAQEBAAAAAQABAQEBAQEBAAABAAEAAAEBAAAAAQ==",
           "dtype": "i1"
          },
          "coloraxis": "coloraxis",
          "symbol": "circle"
         },
         "mode": "markers",
         "name": "",
         "scene": "scene",
         "showlegend": false,
         "type": "scatter3d",
         "x": {
          "bdata": "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",
          "dtype": "f8"
         },
         "y": {
          "bdata": "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",
          "dtype": "f8"
         },
         "z": {
          "bdata": "62RwKzMFAcAVNc8jWhMFQLKWHrkKIeK/vQQWLiAc6L+SJiYCXVznP4IH2rlVXu4/abMKaangvj/bEarpz0Hmv/rr3gvtcrW/k30IwMSk9D9Sf5/H+csEwBuK+Bfli3A/YWx9xv460z+hgL6h7WD3v/PAwh1qMck/C70wgbbU0b9BJB3gw+bFv7PJU/j+7dC/hI6H2BIW8b9S/J85W6i5v/mrSBJQCP4/oGi8BfLu2L+kcQDGKXDRPxqxKBIWN7W/dTPBFyl74L+PgkRf9O4BwH3FW4fPMvA/XP5b3VeMwr9M9w9ol8jwPy/6wTDRhcG/9oAo7BxAsb/56Xlle676PwXfLk0/Pe8/U8MgZSXw5D9IsBTeXpv4v+27LXUUQaI/n8dufc5c9D/dA7hoYNvMP8Wy+h0wney/EXtVZ5jO5b9Rx2NlzdjTv7SYDCAJW8i/zRozPgaEgD9+ITETvtv+Pxhy3lrXMOu/IG4xdPDC8j+WZJx6xw/svzFVaso/FPu/+IyDGCrXwz+JZnJAzA3vv8kG4LJlTW6/Lx/qbtOB37/INr7HVa+sPxMzgi1y7ti/yNUbLPttzD+cAgIOL2C2P5LLa5bSbwPAgDmZkNn457+WSAK/aFHtP0GtXRS7f+A/WiTI3xRboj/3mFbwFMnXv0ylscgj9Oa/dAaGOaMO8T8rCT5EQHHJv7ksJr8t5Me/KmawDTegCcAx4opvZnjNP30Dz8UqROo/KE1QgS9+AMAxh8NHWF//v1fjHw/jm72/lAY9uk6m1z+G19CqZkb7v1SLeVclOeG/V27AHUghA8BgLp/FZA/wv9xUQ004O/S/K8mupsiH5z/wPpst3bf1P/sJStzYF/e/NAMoaiC99T+gbzYtuBcDwBK8wX+Cs4g/VSIPLntR7T8sCWfWTwTyv0KDQ7fk5bk/LN0z0L3h7T+7WD7+K5ngP2yhktbKSvC/5wXqZvGO+7/ht3w39ECXP5/b0QTEBOC/MfkKDBu69b81NL0kaR8MQMsU1mxpH9K/ohudscCQwb8FEpM7ogT/Pw05IgOwrOK/bnCEicgT8z8lThFDGrTcv9UvnFpyme2/1j/ujQMO2D8JgsBrByAKQFO5zY545uQ/mx04wUnbcD/fFDHofbDzvyfAAzTwBPe/o3KcrmVl4L/FScie0rHsv4JPheZjqbI/XKSZTURr/j8ooVmYqy3gP/hDFaj+oLq/dfBiIMll1r8xo6/bzzfUvx271x+l6Ok/iPPq1IGu6T9aCltOHZjtP49CoECtQ9W//WfuYcTs8L82VYiY0sHoPytkje3toOC/7y1IztQM0b+SScrO4nrkPyRcjVL1d6s/sePg1NnB97+U56+Uynrrv0KKZLNLdPE/rrTMcW785b81omWqblR0P41NzB9ewvo/TslTuCG8yz9SI0Z0BlS9PyZ3BG2z7uk/fqKI40Ie5j9hHuqmvVXgPwGH2GRSnrS/Pa9IxbWf9z+g43cA9ejMPycS6C7a0dY/z7/B/5sP2L/6SE3NWWPOP62J95iEUu+/+jRi0EVdC0CcwzYlMpDwP3UrDh6QF+U/kxua7aFI3j8QaS3YfxX8PyPKwQ3c6fA/SXu9ZiP39j8sJGG/cZ7yP5qvE9EO4gtAPAiqWbWO7z+b/lsuGeH1vyt0LmI5I/e/7pOHgvO92T9vuWkXuZ+6v7mV9rDxPZe/tdg+1zPZ37+3zEyPvofuPxoAZN/odeM//yS8ArlA7D8cPOAJMFmtP/JU/sc03AVAIsV2CFRQxr8LvTCBttTRv52PTbIbNglAvEglBbDvxz9ASX2m5cvwP4AM1zzrMRBAy+wnv+PQ9D+XaWQQ3Uvuv6zpaochlqY/EH5XhjhpCsBdU+BELSvEPznpdiPIegDAUB3epVMA4D+xRXx1nbPpP+6QPhapzdu/rjuFsinuAcCjzWYC3ATLv46EWZZa0eo/Bx3Ovrue8z8+addC+Pfqv/WmgJjnItg/oVL+63jH1j/FaGSnYwvkv7ZOTumvT24/ZdeH71Iy9T/F4KpXoJr8v9aP8bfaJOe/1DK7LnJd8j8+uVM1pBTuP4yiBtdk3OS/qtMXuXfYsL/KgIOPfCMHwJE+ltrF3ui/Yi5xXkpaAMAtlAUbXsvfv3fGUxdAZp+/d4f0HEk7DcBPTum4HejwPwcdzr67nvM/oup0r6lsgz+Oyn2p1PfRvxZMXDqRRM2/J//7PuOL5z/lwDBan27tP43YxEQ+Dd6/KRgMllBo+b/JQp29O9qZv+Dcq/rROOy/FoOpHZrB5b8bEUUTFxnhvyUYcz3hjeG/jKpXRR9SzT+dZazxG9TwP9XM+/29v9+/BRa7YAfM87+rwE/rHL7Xv7B1Yhe9OQXAdbfWwf+VAUBYssSfw+3wv2M2GATfaPo/Psy0Djj25r9OPp7i5erWv9TH7SNMWfc/xWkuQo3rAsBhn/VFHcDgPy71PGYZ+vO/4sbhknY18r8Wg6kdmsHlv3njCrgDh+c/tQUqSOeL3L/wx/uGDXDivyegOcW0bvU/D6URtFvXAEBMxyDXtNLPP5dD6hZEK+s/AUUyu81L7r+3IRBajXwMQJYjqouYQd0/y20es58/7L/IfeWE+rLwvzyusNrNQfa/eagUQ0CR4D/wfh9+euzivzbzR8pURda/pj6GsXZk7z9OxvYCr2bxPzI7mgUJDMQ/wJbr8AeI8r8/3S1E0UnsPzvClbOLC+E/okflBoJL8r8J1g+s/D39P1dLCafltee/R06QEfdI6D8fjhilVbMKwLSeNQpS0/G/UpTT/89N6z8/5t29DsfwvwPJh0WPlN0/wa8VyaU7/b8naYL5jhzcP2gjyxGfKvs/188aonQ9v79ngOBR/L0CQDPLDHJKOQVA0IWkXa865L85EAhtXN/oPxi9xUvI+9m/HgxuMIXCsL/pw1GUD4YCQFmyey03N/e/78TgPGJA7j/V8XfRazDlP8k2rfDOZdM/BMdfPork5T9MnDkEOejQv2i9LMG/ovu/k6+FUd6K4b+3Xx0V3zO+vz5fPgW14oa/MuMLMFN65r8c/JBcRO/NP6QPdonx+PI/E1xBtsJT/r/Wtjkb4UK1Pwq+Y/qnnOI/DgfIfzIx2j8oPgfCMijSP6ldBopn+b2/hB6j8ke55j/zY+RnN5oCQB7fzlH1j7U/3iLMAmw+8D8sOBf/7TLnPzBXwmrbBMq/wR4Cn8+SwL/enqd4I8uxv1ktPNDbhf+/uYpCxu5fz79UTfyGy8sBwMmuQnCAku2/2prCOvhZAECgTaYbOEL0v4eCFZSr3+o/Gy9PZgZd2T+Kiq5ojILyvxHc53E5eMm/99h68ne4qD+xLzoG2Hvpv5KvgwFdVuK/Vg6OzRT1s79Lgb4U+hTiv1EOitnLhgJAP6U5NpI99T9FODECMgzCv7WIV5xxDry/VMtRULuQ9j9YEiM1OPwNQGp7aDnIEvw/sWRytVkj7z9Eox2xyrbyv9D5jC72E+E/vrFdF9sCwj9Cg0O35OW5PxRguUQRivQ/B05kRLfY8j/Zlg0IPVbqP0cGDKQ85PC/fDDYbbdr3z+XaWQQ3UvuvwiWd6Y3+sK/j9NYnpuuzr9BiO2KwQvnvxby6M1j5u4/27BY0VKx4j8+C5NEtZzSPxMZlW6gcOy/CtFvqEzt57/svZ27vnb5v+vCzEyW1eE/JjXM5Bp/27814CD3fQfhP0y+JYBcQtw/lSxtp7OF4r+rAgTwmwDhv4PGjKBsLaG/0oyk22Z6xL9WDEKmlknkvysjy549Gvm/lSwHMMP4+r+6UYpP4x7/vypxDD8Fk+u/MRQsQGtX0j/LVtiTNtTIv3plzDaa6Oe/t39PpfMO9b8Wj9tejMP1P29ECW5nZPy/QgJ1grLD9b+rZgLkBZP6v40WAFmkw/C/3mM+hKX15D/7M3Ckvb/Xv3LVpZndNva/yZkmXxBeAECqIrorDHrDvzbbUm/JNrm/zfQg/g5I5D96Gx6STan3P1ZvtBPzDtW/nWyGUFzZ2j8f/A5N/Uulv/w+AsddvdS/NavVDACLCkBo91YjsGkGQOcwq0Xn8+a/pzXarZ/I3L8wbXHosyvVPzfH84G0LfS/AXAPhi3n7b+8cGesxGgAQDnBdPL4oqU/jVezav42+7+NpbguI3TFv4FLRh/QPvG/LBELSc6wwD+aG4tv64QBQGPC8dxdHeu/c68bjpgwzj/8R/qgr4brP4mD/esYSOI/Kii0YsN30D/GxXwaqL35vxl/QEYEBfe/oMDhUYy9DEApQIUis9bIv/Vn37/zjvA/0FQb/arK9b9eM4N3zwjyv0mPDorrXmK/qWLh8BTDsr9jfbA3id7wvyQ9Ydrgg8K/REhO32R2zD+QuPcSOJXivzSwWfDXh/I/rt4mU3LP5b/5I/vIoJrqP3SzMTKXAuO/X7AfXyuu2L/mWLSaYEj7P2m+G+vBqu8/q4N6W/Cr8j+LQKSxVBDOv9fGc8VvPtU/B9pEFc9W/L8rc+6DztHav4UB2PJv+vK/KEmgXs+UyL/oG7DJ+evFv/Qo9riuuu8/bj1n0wkZ9r+4zzif46Xwv9jf7rBF+e0/bgvFzdWIAsCzGJ1cHuvov2+BeCiYbghA55d5qkHC4b8WMQZy7Xv1vy5hRMExVPm/w+pyIzmI67+gSHfE5zrYPy3xw81kr+q/vR7EixLeyr93HD6oUpnlP2fABTg03e4/8Fsge7Tw4j+UXl/KNsL7v5GRsy6YTMm/XHPcRqRd+b/0sCAWbEvEP4/ErDGLNOm/VUcQj03a/T8to5XANZbdv/QfJxRWFdS/VPc70QCy0L8UYuDyGbb7v0XoYNKQIQtA/deRqJYjwb9Whho44mSqP2O37ErnTcq/EdjcsyXj9D/jp2yLGLGlvxqahoLSa+g/bECea+B16j/fiTiLQA3pvwVFaYtf/wDAka+jrBHkA8CTK8xfxY3ov+Hg39EYmeo/Sk/8Z2mh+j9vefFwtuLlP968LupmTvu/6V17N0q72z+r0PheAbPSP+hHwpXa2N8/FGG04ihEzL/FoO7db+n9v7ClOHlCHeE/BFWCc1tu9L95QUj71CPvP804ZwoMDd8/uu/mrM4kCEA4zSg0B//rvwJuGBsIlPq/r7CbJ3bN+T/6HoMN1ibAP/6th2qXtuE/G4OpdEOQBMC3f0+l8w71v5HQw1ckAeK/+RB+AP/S9T954wq4A4fnP/CErBPMkt0/POha1Nzo5L+XL+dGcoPov/5yZMfj5v2/l64yeDkX5T9nvfKdr3vZP1tlsLT529w/fTnkxy9mzz/xDdbAT9vgP+W5apNsLvI/eucALaUx6L+fC5xfWz/2P6wyW6ryAwXAEwKRuJUU4L9qC2dBiFnwPyCOiIuE9va/WyW8pgdf6D+WHOnXz8a6P71LT6+NF+a/Y/RyATKgBsBUb4U7WYnsPwWO55hVpvm/w8wtNp9I9b/sI7gJcmkAQGhsQltIbNI+KUK3kGTZr794iqGpWwnxvzAleywJqsK/Zi23Bw7o8b/dpr1LEGfvvz1cDibVPeg/2RywIsNH9z/nBepm8Y77v3hePk/Iy8U/+GZVJphF9r949dACeOnjP0yDc+zXFfU/UDc12e455L/nLlslzK/4v8JMuMYfWPM/T0Npp/0l7z+USaZk/rXYv32TQv2V9cY/gkSAkK1N5L8pWeR8fgjev3L14MiZ2bU/6Ye5EsA+wr+g58IWP6rZP7k85zQJOuq/7IvwK1WnrL9yRymtOnf1v/gQAwARFK2/9guDjC3X8D+BnGXODDPiv0FyMYP7cfK/+U/W++XJ97+AkevgYsb8v3cSlWsjIvM/72YUEGJ74D9QZcJMkjvSvwiRtLRzgeG/ctOqC/tNzT/DqvtqDtnxPzw7fWywgfq/8i5aLhOh3r/YnCb/T6/lvxRVAw5Ui9w/51em4NplAEBwQL7hpm7Ev0J8hw09zgLAmgri7c2H4L9DYYrcKcnqP/AoGtXlP/C/1xLcQU8Czr9M5qZs8v0IQH+gdH4ru96/qjxOTrkb9j+1Wx8lZ9Lzv4Q2pEBo/vY/9B6YRZRi9r/HLKpfB63vPx2HogJ0bKW/4ml6PvcN4b/hU+0oQ0rsP3X1wfBLNPu/7xm+lFaU0D/P87RUJQfuv4vPnQfSDPe/Ps4bF7d19z/gCqEveOTcv8Ty93fNOuw/YzYYBN9o+j+cveQgHEW4P1ptbQ7ZQvu/3oHjVt929z+H6T7Bj5jdP6PNZgLcBMu/RtOMRjAqu7/gUqwvPvngP5zo1qR91LW/lnR/pOpiwj820wJLZfVmP34y0Iznxvg/BHiXrp4F8j/iQaRL7HoBQK3TYZnWKwrA0opSx08k8j9btUyPEtPtP3d7/wb90/S/OvGnvo857D81omWqblR0PxQr5uquINk/w+uS1wsxwr9aLmliDm3wvw53Z8KJ4RFA0OpuisWe3j/2+BHuaP/uP9mlij1g6Pe/tqi2q/mm8j+jX+7WUZP3Pw3lYcmbnvc/Uu0JbKfT+b9Z3yx2DD7hPwfLIpuNH/m/Uwcz+MrkCED0HycUVhXUv/1XNfuOGPM/B+O7c1WI0r8f6T+tHd3nP3PUOjMdRvS/Y978/b+VsD8CtoLcsU7NP9QxR5LyN/C/DRZfdRaU1D/+z3GbqnH4v9uuJ5xCxPc/L9K51ZIM/z+0cB4QvJPhv2IAfTPuT+i/5N3ropRDxT9leg6BHj/dv9+S4ib7Qtc/aAQpq7Q/8D8RCeYxcyn3v2bHKtcvw/G/rNkiy4ju4L/rCYK79/TFP8ieEcLi5c2/sy8CKyuI8r9eAhzFgXz1v1HpApqxXdo/WvGFC7Xr978rZI3t7aDgv0+lIYAiKes/1gkmTPtR9z9sAiOTjpwCQMFbWASAj/g/LonTcgpXBMAK+LznKf4BwC0Puo5X/Vi/VR6ilgWK078eYEEqlXYCQJ5fJHloY/O/2XYXPBsd+j9vgXgomG4IQNT5gWFVl9e/A7XaOPkDB0B6w/G7orADwH9a/XL6mds/OPv+hpJO0j9jXLR+Kc32v0qFuKsBzeG/Owg1SpoZ1D/z2oOxMATfPzcBEi3FCec/I07KYjTz0L8p/G6bYOGjP+tsslNM28W/d3fBRkzu8r9TrqtnZvnhvzlzEe+l2vA/4/rPmU/Q4D/EyQMrTmL2P0udnQr4N+I/CtfnKwax0z8wZXgSrujwP6aiccNUGvS/9mRvmTs+zT8RPU56jwoHQEyDc+zXFfU/RghqL26l+r/0ZSuB9TL6PyrTXh68QPA/Wq+STl7P4L/pwwh0vpbivzc4JN4T7K4/cFCtwd9FAkDfBp41ZwL7P3lY1LLGvP4/mOx1WHiU+780sFnw14fyP+dUgwN9x+c/OJ/9jHsbvb/fHLN/5QPyvzzSP3i5WAnAlZ0KIHQpAMBZLbxb09L8v4mPZFUCuwLAVO/59q7P+79mLW1xJxnwP+niRJ3eF/s/CgouSKGE9b8+A5HvCmPvv5C8CBC1Ies/3OGxsrdl4L8xDw/xQ0sIQPAjS1He5PG/TdJmlnFV4T+8FyOr1xAIQMJQwEuCQ/A/Dle2q3/+1D+3cZiibOvgv19HxoMXzfS/t8z4Obcj17+0kWg4CnPCv2kCoy9aRtW/6VSGOVOCCUCFDlWdXJrgv0fKZt2GjQBADTX7KSQb3T+g5/tMTID1P/NBdxvj7Ii/fhZYIgFlEEDdsJwJiLsAQCFv9QYIVvQ/Dp5DbYZT4T/NxZDbYMGNP9grsW5BNrm/188aonQ9v78hLvpxOZreP34TGOKOvPO/ydyzAPQozj+j0d07n//yv8aVc3eS1ec/eNAXxv3/7b+VWS+KW1L5P660zHFu/OW/WyW8pgdf6D+UHgrV0B/Zv/WmgJjnItg/fyJyu1KN0D9nME7tbHz4v4Tqbv/fBdK/FaFF5+ON9D9NcImNCgbWPyN33/XEwdu/bJeswEJbvb/YUFQFBWvwvyAkV/6Aita/AD9lP+4b7b+CpVVbTmDWvwpxqUzYVcw/Oygf9yyjs79hW+5YVzXoP5dGL4dMON0/LagQtnLT1L8cHHw3+vXtPywUmQ1k4fS/Un+fx/nLBMDpEcEBUtjiP9u161VHNvu/xCy92v4J0L+ZPG0QVTvmP4XepLrNy7e/nIaMK+Fl578+6zc0iQjAP19frMz1ZOO/J54ousa31T84s9zjJ0HLPzRAnbqvra0/BhBxon6FB8Df/YZfVz0EQI88JQc0HvE/g5HUYwDM3D80EsHlG4Pzv8SWHdtHVse/PTmnwH0l0z++Tfm/eVLwv23/O2vesP4/d9q3qORu/T9rTaKc1zLev52ho/fXheq/Jcq708JWDUC7tIuHByjqP8aHhzXpPde/4P8rb6QA8r+WzwiENQb3v9drrDESjfq/1mPqgfsHAkCN4ebQV4jYv3tCrBlOX/E/oPkDGPqx8z8F196Ybwb1v7jk060bAuA/hwa/x1Cu/z9ffMHsHwLcvwbRacjMCPA/EPXjmn9G/T8cHHw3+vXtP6X0R9NNO+a/O8KVs4sL4T+sKge9gSz9P1RepJYDXfA/jJ3RNPEI4j970neP0+Llv6/aabDUHeK/1J8Bfei6AkCEXr3yN5v0v5dm2WiujQVA/7Ss3FQO5r+G+yb6zJzpv36mrDMmmvY/Js16YxLFD8Dj+KYp8n3xP08ZeYIODvY/yJhOnUbZ7z/XkbfBCYzcP0fWxTpqAdW/qhg+QTn1/r9OQGTJWP6Hv1YusUxpBbS/Owg1SpoZ1D9ee0F4B4oHQD97YgTfxd8/PfiUrLQy0T9CSmlLvqrVP/6dyPYP5+U/dVhSSBcaAkDXCGZFnqu9v38LBcpQysO/Kv0dRo+W8b9U8wsfGdHXPwhkHVkeDfw/M06oodP36z8jx25wFQ/2P6wmsLOL8uU//iMgptbw9D/qKljUFeH2vwe1ZZKjhrI/ViMq7dmp2D8EhkKl9hnBv8EeAp/PksC/ey8YCt9J3r+l5FjHLQ/oPyn9hWp0TO6/X5ryb8Qy6D8uKN5iOgHbv9DqQXDcr/I//meFkIOwBkCRNUvIXxXhP8ZJzFXlzfI/i40LD0Q/9D/1A4jRjurrvyWrAdJucvy/2yBfyWcwAsDPxFDPdsDevwthWPIY7MC/URC3kb3G5z+puyHljNDYP5bl8aS/Jui/CDOkk+WI2b/fc3L2MpT0vyVXaK8W4/S/P2RWMumF5D+fx4ltmrf1P37MQyZswPa/7DlseWdj6b8yqGr4MpXyPxtfbz/cbv8/UHEond0p67+qAH3AAqQGQN8CvVGpjsi/KHXN/GFj5L+wKoJzhRP5P1wQ0f3zMAfAb9RpeZPFAMAEx18+iuTlP7AjWwkomv0/m1XQMFXDfT+H2420moC5P4DMgBlIjuQ/wnZVeahd5b9QvZ60JBjYvzjdtW8G/dK/WDagjkaK1T/796rByU7kv6+DsY70AeS/iHejbEq03D9brhHlIyXvP0YlAy2vN86/7t9mlDCV/7+QDAoE2ijvv2Tf9OxECAFAVRrIZuj19j+dxVppByvdP9NtYRj9w9c/pBmdHio78z/NpjR5lUuzv3hYLWevO8g/2Fk4ejkZ4b+Wi81RmKryPxF7VWeYzuW/PTeHMm6+2z9URDM0+K37PwApNjqpXtS/4J42vHeX6z//7BwpIu/av3OIX4o4Fe6/qJhmtkhw9T/cZn9s0SHgv6ZXfGNtkv4/m6/eS0SA87/GbpJXl4sDwNseq6cn/do/+IyDGCrXwz+ezMlVGIblvzQbKC8JFsa/5senGhDc2L/yIWGytVjiv+GkciX+Uem/BFHG+sW7wj9bXFQrtD4BwPH1y5sikvc/jv9j55Oo8z/7zid9F+/3vwPf/JedINW/sHViF705BcAMnWx/zojZP5u2RdJcjnc/hgRDrLrX8j9g/7UabaDwP4dd4u+V1+O/+UVPtVBc+L8DCDyfL0ywv1xaI3nL3e4/gIjz3uOH9r8OYZveXIHvPwAd9R2i7cW/mbvEO9WpZj8auIgQsT/qP7YEj5gb9/E/9Hybb1no4T84Av8t9+z1Py5QeQM+pbw/Xk5BGODU5T+eXq9j5XEFwOcF6mbxjvu/5RaC6vPS7z/VxhfjxU/gPy5hRMExVPm/kV8CAHW54z/QbLkK9mrkP0TExu3NePG/XLPtfmdK3j87TcDYjFTgv2jWeho9sdo/DMU85NJq4D+aTWLRG5P0v4alQCQL3vK/Pzpnn/Pi6L8BAtznwTaqP0BQN+gsdqk/IwGhznDY7T8g205xrcIEwE7R54/f4Py/FkxcOpFEzb9r1Jja5H3SPwn+rS545dA/aptKHh+p8r92NJ7pOgvyP6zGLQx+GsI/SMxb6/m2+j+O6KTeXtnrv9jQHm6KNfu/+ZP7RrhE+7/P7oajeJfyvw9twxbXJui/poNKInVhtj/QnftFtgjWvxcIdfOjG+Q/meh95QoO1D+3UqtiGC/pvw4zNSK4TfM/AjHPsMaR7T+zGvO2JLnXv91Oyz34oMC/l2a1Cujm2r8fzqKwEMblv+ut1meni7m/2CuxbkE2ub9PQ2mn/SXvP1tfQlpaXt+/fnkLO50Tsz8edzGqpGfHPyBm86M/nPi/Y8zfCFuc+z+p7ofVOpyQv1ZBtydbid0/o54RhS/L07/2aRHugvUDQMaP8DPRe9M/U1kRJwJb4j+sGkmYjMjIv22ZDiRku/K/aKqw0iZz9L834vdWYOblP0u07fyyiN8/CYH15caT7r/kNItsJIPsP7abN71rp+I/85RLZ1QFy7+4Q0MqHBn+v9HVjXi4r/2/j+N7tuvAnj954wq4A4fnP05vX8KCaALA7OdyPcgHqD/3mjg+QtbMv+MJE5GhQ/Y/9+Bqz+UQ0b/Xe/DXbyAIQAlWLvLcGfo/xU6M6j5B2L9gB/PD6//4P6usl8AlivI/5yUaeuDq3T9uxb3BMcvlv3OvG46YMM4/aKZSjLf87j+l4rCgXp9+v+1SE01klcG/LuvO9Wmh8b+Esr5Uhbbiv7/T+AxXk/o/LzZSTHcn0r9WGmreov0CwAbdtzBaAPa/nY2b5bEh9D9l83J1y43LPzA+L9435vM/pUY/5kN5BcBe+ljVvtTjP4VQfdbTtey/g1jttBaE6j8o3Hod+jP/v/cuyUvPjtk/HPQzyufX/b+oBnUPAv3rP4yaz9FYTPa/hq2IWWqJ5b9xbX29zHjZvxlxzTDnc8U/FA+Teir59b/v5RgJs+fhv4EM2unWnuW/R2D3AlAb1j9zrxuOmDDOP7SeNQpS0/G/MXyIRBJK5T/rCURbwhm7P5/QDLPg+N2/+xDSByyW/L+CBs1m4brbPzx1C8GuZ/C/q7wqjQLr1T87ydyXp9rxP+CfBAo3MsU/SnEDP6DC/b+3wRUJjSXgv1u5mGh0DNM/VoYaOOJkqj/5u3zv+Y/uv00e3WALDew/O5wzxMmVDEA1t+O/KP3uv7432gp719M/b1exRgRC2L82FQD3tXyzP3Z0+DZlgwFAfeP0vSN72j9tTEg53Nnev5wqL76ncte/MnoeQFVt/D/AoNdExi/SvywkYb9xnvI/fwkJQDE46z/3QTBFE+kFQKGAvqHtYPe/9An79YXfob9K2wysHKkFwIS/1+yHGeI/m3OGjHBbfT9RZkmfvBz9v9ZqnIjmhec/AxwRRfjBBcAnkbZ5HKb0v8kS6Pn6jPe/oSJ/t8TY9T+3nwH7UoABQN3LeNsZQcq/q1VQqdrfur+jMINKvvLtP5K643HdWgPAAAeFZJpM8r+X3xlip+nzP3Y+veyKltE/DYrVUBjb87+rXhVk93nxv+aTo1iw8dO/I+Hq5yMU4L/fpNVFHXy3P4poph/THOo/sOwY+GTY/z/AiWvH67kCQDwv3Y5x3Nc/IwGhznDY7T9NEZb4WYpxP1/R+9qi2tA/ghkhu6kZ6r8YMpd2h0PiP8XnJc6fWc4/2dM06JHC1L8TyBv6ImLnvz1z97gj5NE/AwZ9bkfZor+byuOxNNzAP8etzMEBXpa/RTuXYclbsr/Pe+/ia4nPvy5aS9aWR/I/dFlU3HfZ6j+v4ItX8W4EwO/r/FJd+fm/G5Cr96Ci0T9LIVPn1cDfv9nTNOiRwtS/QIDtDNHo979IOwrog+ynP0aeh6i9RMI/6skfmpUR479/gb7eieSRvxZw9Y1+9tW/6CKamRd87L/+NH6kzV/tv4XD3udGnfi/7g6RDPLmxb+WQ2YPVzjjP8MxOEyYqve/Km6i13vT/L+MuYBNGjriv9KxrdJbMvE/dDeNT3Ls8z8ZElBXf9oAwIQkiVDrPfS/Rhl8AKJs479ASIVtO0D+P1rS9eL+E9e/KYPS7cg4zz8plNKEDalsP6IqnwRqs/m/pTAnK3IR7L9SrSItWLi0P9VD5mm3+eQ/Is+a7rAp6L8dmW1O4ykHwFVYMF2gquG/54BpAAzYAMC8LTW6/QUDwGvbq1xy3Ou/K4k2PfHW7D8PHNr4eDrxP1qcZ78t8wDAjVUoOVU+1j9BCdEbWH/fv1TBchhwa8K/UJquP/PrBEBZUIEjbfLEPwRqX5H0pghA2BQ9+XFoAMAJOe9Vey0CwJD4En7c7sg/MKjR5Kp+6r8IlGI49Bnovxhy3lrXMOu/ExAdC7Z+4793Fm171oPmP2CrtNtjE/i/LTQZxXKk17/+MD9kanDlPy45XXx25PW/C11uCo1Z+z+nJeQKFWPjP426UFshO+Y/Tn241fc1BkCtFF4irnfQP6nuCvyZePs/qtC22GZi5T/otnJQoLzXPzNkQWsiXvU/6qc46Ira/r9zuQfm4w3ov/aTvQobFQXACYH15caT7r+cyFC+LsHfP9ysj9Q3Lee/7JnhNOsd7b/4jokzQsT+v0kuT++7Nt8/g06igA946T8NaaxQLK/VPzxCf0zOHALAw+psf07C9D907YABEm7vP85ssqRpNf+/XkILYe4w+L/KnTXRBloDwBZOZjM547s/Sckg4hbOkL/s53I9yAeoP7MqH+mxqPU/NeAg930H4T9kA51gSG3pv+NCD8McONw/34JxS4rZ4D9YLaxwXWHbPz8i9CLSC8e/1BG4o8tYAEBMg3Ps1xX1P3engn1z0OK/wgxAMXD2/b9aVOW/5XXUP+9LPMe+d6S/wDEVVB3n+T/yBGDRVfvqv3njkX3bMtO/ouuRbJrf5D9nWWpgfI7Kv0xqKwJla/A/zNQNHldtvz+mQbyGe4n1P4Ordn9wFvk/vdAE/Tfu7r9Lgb4U+hTivxVYY9vU7s2/Tdpes7wl1j+AQaUAfI8AwJWoDWdya76/aw4Bq1Bt4L+m8YHi6G7Tv34TGOKOvPO/enhd7GNr+L8C6VLDDnfYvxYsAvU4yva/Sc1s+0lV7j+DrMxY6rnlv29z99r6m+w/72JYqE1u8D9jwvHcXR3rv0MN4llXs+0/GrtUKjAM9T9117n9X8jfv90jHnOxBcw/F2vr+IFqAkB+/twt5fLBP/eTUAOByeo/JXhiaJp+0L8L0ZtoRq/8v4Ydjr5b7/U/hzb0rwNHBkAUd/k2tj8AwNBrquKC5Lu/gRfAuYix1b8/cEd6kITnv4w1r/hh4d0/A1fLQk+u9L+PEqsyOorhP5k8bRBVO+Y/DVZ9dVAu2T8K45lN0hANQIiSOeE/Su0/CFaw5+pG5L9w0pueosH4v1rVR72F+rk/Q2hSrZ0W1z/++dRPnZfSP4YGShzR4Lo/m9pHCwOScT8kktsJmkalPwn4F/2gWNO/s4ocYvbU5b/WYEkxOaT0v+C49sGyafI/MwsTxrWn17+Ahn6BGNr/v85f163kxf+/ZIcjcmhR8j+SkbyDYTHIP0ib9OBA/gBAFZ/oiEPw3b+UyDgdaOYEQFJZ0fUoI+e/dKGm3JqJ4r8zdWYITtQDwCjJ8zKWtQLAt8iNBTMW6T9mHGBar5D5P8EQldEPs/Y/xyyqXwet7z+hXU2Nb3ngvyRJDXkV3q0/8+cjZgINAsCAOZmQ2fjnv8mmgNXOBgVA8ITbFVLS9b+vG5g68k3ZP6ev1mI+Nuq/9zmpmJ1S/z/52Jp821LSP1KU0//PTes/B05kRLfY8j9b8cKkWWjHv4eOt/Ap9uC/EyOj2iEsAEADRfpdu9emP3beNeQpO7m/3sk/fG2Btb+tFF4irnfQP3k8E4mbqPU/ATq6UQ0S+j9dqOWpBVvxv+diQhhmNgbAnEx29u8BEECwI1sJKJr9P4rHYpiQAvA/E4NCAXDQxz954wq4A4fnP7hbxGWjdfG/hE2xIyxfxL/Z+bCFOFH7Px7uXkO7SQHACEmxchYJ97/N5xHJCF3QPynT4hzRUP2/Ppw1+GOt/r/d6fjNP9ztvxR8EDAdAtW/k/9AwiVJnr85iN/FAZrnvxaDqR2aweW/SlJnP4Kl4L9TrqtnZvnhv/mqGNZR6My/I9EGh00E1z+SScrO4nrkP+ldezdKu9s/wTrf4cchwz/HhX+bjZ/CPxMfs1BMUua/T+Cvm4Wq8T+X38+kS73wP5DmTKSwBdQ/PR+n8LJlEEDRsV25Mhf4v5fpp1QZ4eS/U9blXvdG2z9aw91yvPYKwAXX3phvBvW/6MOFgPAnyL9G4HMrNobbv3n6z+0Bl9+/j2hitpik8L+YRq2YayLIv4e8uBtWr+W/azTL5pER0T8XuLgZXELxv82V7ksCENm/6QxdWzcz8L/8w3JCKe73v3COWdiRDfO/S/ebveVdq7/DMu0Q1YfjP1R0kh9Hmeu/s9EUuk+j6j9eNpmYOdW8vx2HogJ0bKW/C53ZY0SS5b+5K9KdsYjtPxMHpK0U9OA/L0LdmSnQ9b+Z1MDW6gHkP40YNsnleeo/Uie6Xv35/j/bIF/JZzACwILX8O/8zwLARFuQ8ZyC8L8AB4VkmkzyvwCyecICqwDAgjsHugq+uj/s2tmz7Tv9v4t3lCD/w+q/PfAmqu/WDkBHWQ0oy1ToP/KNEU0gCKM/SUrLKsfN2L8lV9yhmSrhP8EPbovdruG/ZLjzlHYd879AP33orNLTPyhJoF7PlMi/5yw+NU/GnD8xmK6zun/gP5scA85xjvu/f7tw7kOn9T+ufqyILy3kv5GWm3626+u/5OwrYvUvAMCHa/RbBo3xv9UXfLo4VBNAkg7BUlzY6D+GOdvSbaTjvz0fp/CyZRBA588OlnmO+T/3D8dn6UPvPyjD+o8WOOU/JkStCYEg279Rb08NGSDqv/s4G4ptnN2/AY+O49cO4b/ISTSV+L73v5vE6QMZa+s/m0qVK2j37D+fxIsllt7Uvy7P+gQoB/m/yaQ7Akk7AEDwlh5NFrvlPwHZW3Uixco/e7EFJ1h/vb/8yw7QiQT+v0GFNnc+wvE/EaWo4hzI97+FUE3mTlDmPwchHSttEMu/A7lGoyUB0D/bh5XpVA/kP0iTTJJ+puk/15G3wQmM3D84bFUVaNH0vyxwI0qn1QRA7bonSDhn9r9cat8IwpT7v0v82xR3rOS/JNoW9Sw60L/Lkqa5WkbfP+EIdRbEub6/syFjoRUO6L8boxKXuSbov73vQVOKWvM/EJkGGA1qAECNYk5/JTjiP1iPr/+ZlQhAlWQU0F6wej/s92OCqMXRP4jcVphHb+G/7k0DV6nSsj9KYUn2cnvCP1YIr/jF8eC/v/2j6izfA0Cz6wjDwHHyP06JxugciMg/GqP5gUa90L/G7QG57IHxPywwYgVrzNc/2SetHWMYu7/HY8F4HVDGP8Beo6v3hw9AbVYeg03T9T9231X3y23UP8i3O8zOA+E/vzAn6bxX+r9QDx1lwY7NP4pWkEV5O/a/aS1VsHxB6T8kj/g21WTbP/c4oazfO+C/oOfCFj+q2T/PYFC4a3IDQLRo6FH0u/M/CkaLhSZk/r+N/4MZCwDwP2O1kxYfwtK/vicW/P8R+T/jP1UpXdjcP269kl9GJN4//Ak9jXMh9r/L91M7KP75P10gH8L78fO/W1iwkkuU2b9Rb4woj3jdv55UUCs+gOm/zl/XreTF/7+slvvMh8Piv+sQmkLpM78/7tLcPrO0C0CeKt7xFm/3v3hW54WoffC/EvSNhXOe3L8RxJ3kIcfMvx7fzlH1j7U/hUeRlvUk8r8DBn1uR9miv5Z0f6TqYsI/SWI8eVTG6L+hhxommOjdP7hDQyocGf6/P3Yi1huq8T9aWl5FkLfuP7EvOgbYe+m/+os9AFFl8L+LCkMK1v7Xvwk571V7LQLApsNVG/EB6L+bWHktX3Hyv5qf0mw1g9Y/6GIrXZDV5r8bUe2eEg3lv5Zh90UE2sk/sZtb2xAWzz92Dnj2jh7Sv1+beQ+Efg5AH/OkdTvc7z98G1Q+HRHXP27W7xXG1cs/Uu0JbKfT+b9G/PWvoN3uP5AA2sTnG+s/upEKwDGe8D8bJvvrFyf1Pz0wCqVfLei/VRrIZuj19j8e7l5Du0kBwE7R54/f4Py/fXR9SrpX4L8WOP/LH2ztv9ZgQvdlQOe/NFfyM7+i8T/axQRGPWr/v6DnwhY/qtk/mWZCtIsw8j/z0G+/iPfuvwiy3ENaIuA/IUjv8acvn78XFb8Yz/LZv1OsHjBNx/C/nXql5ZJC8z+2wnn0sz/gv43vfQBFSNO/ee0514wI378wl+ogPdz7P3fk9pzEYtw/V0NWma746b/7ky75YcrYv3Fuslvhebq/bq1SwaC78T/4bSQKinfav4QKccigdua/kE5excU217/xCVsvraG8v5yWiQgJEvc/KlDxp1f+8r9gE/S4wA72vy500476i9m/zlwFbORp4T8AiUvWkkvpP7eaMfiX/sW/X2+VjiRR4b/5KDSFkDXVv2AnWXHpzvQ/mAipcBwt+D+UPP9IaIiiP6uy9GCvFP4/UEI1v8dBBsDKYMWlt/jpP6bfChiLDOA/SuxKOrLx9b+IqD5Dylr+v5k8bRBVO+Y/bDas7l6lBMBdefvnHoDhvx3vKHuxXfA/jUadOcqH8r9W2yV1QlrVvx2FfzswstG/0hy++CJY/z+zYrB5Ld/xP6kPJf32t+M/HmHK65n14j9Zkon7AL3Bv1v2TQmr18S/phYjbFiR9T8yj1sfjiG0v7apdxGlNdu/1FTxLA8/+L8BoqADQH/uPwqgY47wBP+/oJw2j1VR5r8NG6gCyTbsv0Cq+e4sM+q/kd2vUos637+VUCKC/XO7v9Nn/ZNkI8i/VipTTgiq2b+887Paoz/wv7dYDiMLGsu/2/GsJq5B7T9nitP9vCTqP9XDJ5InG9Y/2DKLoN/A7T9Q1KOsIOnIvzsHq3V7/eu/ak4cCTC78D/bGuWtbLvQv2xMmoDuovS/yMva0XH71L8tviCZ0y31v3vF2dsSZPA/CHe1gLA51b9NzvtWT2/dv9Y2uLdCmPG/bECea+B16j/yA2YiRzHiP2wzsYJsItI/+BADABEUrb/4ehUf3bfDP2YtbXEnGfA/6i5yip6i5b9W1Vhufhf2v+3G5xzBMO6/536vfsr78z9fsPEdspLgvwk/Tqh2s7s/wV0EoTYp3L8iTRZqr6X0v4cHveM0xsq/FNPdRatB4b9ZS6nvSwXdP6mwtVfRt/E/2JW1sesboj+WFebP10y7P8Y9C0PwH/c/oz1MAFhlvL91yGiX/xACQLt1RPMbaPS/rqbxal6G4D/zff+IZW7lv4fHlltK8ty/dxZte9aD5j+sxi0MfhrCPwMGfW5H2aK/H3pg9udr3D+uL4FEvt/AP0OMCCqUGsw/kQ7NSL/NB0C7lxM4WHXov1rS9eL+E9e/TDnmQvAmzb/pZrxyjyiTv6g0cD98s+g/scMsKCDz1D8HgXlin87Ov09KVQfi0wjAgw8vy4TN9T/tCKfmpmfdP14wh9sGfPs/9UYJfYY+9b9AZ0UeB07PP3MPkN4XgAbAJBrwtQ09AcAxJjSnlhH+vxVjZaaGC+A/P6+b6H5K+b8C+jS/w4sHQOwB83ggVPa/5ZcWybh09b+t4ttn3TbBP8yuGp0WutG/A735/IYz47/IrZK5UooMQAvPfOzXXfk/QMzYmm18xz/YoVn0F1vov0U6V5yNCtQ/U6weME3H8L+2t/E1FJplP4ONayxWB8q/6iIOPQlW1T8k6KQOHjDjPwksMUWTkei/74kUcWSQ6b+5CAPcPgEAwG6pg9NGM+0/Ex1Y1JJHub9WyhFI/Qe3P/v3qsHJTuS/ll+efCgB8r8IHQkpVKT6vxY/YUDXo++/WBQf5ubR1r9Zdjmx7gngv/T+1h/u7de/W1aiEwTv1j8ndk0taPX3P2ref3y9qOO/4CQfDOst8T8/CSxtBBT3v4J5gQWusd8/gYCCagRa8z+7IARJ/1IFwM3XhwlTkdm/6KApskyq8D/c6NFtS4Whv3i0tIbRGv2/tYhXnHEOvL8Re1VnmM7lv9jxCsxpS/g/jpByouxguz/NjtU2zD4BwE+CWhGDUO+/C9k4sRHa9z938JR+jizpP66q7+7xRMs/f9n6gNti8L/p+aQ34daRv3PX9iJnYeQ/1HzF9KeR8z8LlhPqbK3Ov/4e7DWIBQBAZlRSD8F5+7/Op18FACa7vzHy0b9ZBMg/Soc4XZ21zr/GThex49D3P1gSIzU4/A1AWq+STl7P4L/HJItweBuzv4W+l0IkoQRA9u4hp/7Y9T/bxmIS+NDQP4mD/esYSOI/2sFfAzdZ+7/V5m+2ss8AQD8JLG0EFPe/qFazsNs/xj/InhHC4uXNv6KlMQUcbu4/2UrnREWY4j83nTxGCFjVP6FdTY1veeC/FLKyzi/U+D+CXRhTujm1v1HgvD7jPvA/YPNdsuPK0z9tTEg53Nnev/BFjd3S3/S/1MveJ9+3rj9XBHMfPDDIv7kO8RjmiaK/aU+e6h603791FpGd5w0IwAMhcDiTx9C/MCxQBvQk/L9h5XdOLsMVQBsTGLlAv/o/kODj9rOu/T+NcdRjdfDwv34GFBbucsI/H3YBphlf078l4+fb5E0SQIcJ7geNdABAc8aGzsWmAcD1poCY5yLYP4QAukxSge2/xCy92v4J0L8NG/DSnQEGwO8ZQwweL9y/RzVd/SmK9D8u09IFePn1vyoRvTbAy/e/PDt9bLCB+r/PNKi4cZLtv2E11BkYpu4/Ik7+rgyj1r8+G5kyj3HxP8IEfjwPPvY/0uHjpZ1E9r/F6skzg9ADwPJFmSdrAvK/byKlrmxU7j/Phos0dgTRv+crNQke/+U/AhW5X8yn7j/nSW156+fPv6Y+hrF2ZO8/Ieq5F/N9779nrHtbmdziP0ZHm46wYLM/dMf5cSsjzT/Dtvr0hNMDwNl2FzwbHfo/rY44YCwZ0r+roRwIMsDpv0PyH3s2DfW/0L9a9fZs5L85b6cM7pzov69cHrpcR/2/WqhYcnxw5D/KAgW1KQQAQAOOGy/ETPQ/eZNgUojr4z98G1Q+HRHXP70KAyXMx/K/ARwwdl4M8z+2WVMkGD3lP/ZNBRA3I/Q/o8dbh/9f8T9dyI0gUWTmP0qJ8pL+od+/UCDzOET/qb8Jwec8lw/hP493PSri9sO/R4Y8BYWs8z/BnpX8p1XbvwofKIkSleq/W35/w2huBcB20A5dQXYNQCEhkwnzudk/vuICivEivj9MteTB04z+v5MT0YHa0e8/Dp8+Kbxz0L++zHQlhobwv+15PO20mNc/Uk67sZF62L+kB2znvCoGwLsdpuI9q+s/8/wozZvr8b8zFN4539PQvyPYT5E6kri/CkLxNITO4T9yukHnhs3pP7E0ETN+k9q/sDtoMr+5BEDLtVKh05jsv0Bw/YuoRNG/N8680vI50r8B2Vt1IsXKP0beXT+YCgdABZ8I1I7U1L8L+NQXwNvjv4Fm8k5QWLe/yelX2Ej2yD8l086YsenWPxVyIx9KG9Y/TMsvy5rk4D9dEJrhxnX6P57wFLyLi/U/HZVN+tXL5j+kFNXV3oXiP2pOHAkwu/A/1Rd8ujhUE0BcGJdmDvvav6zvRoaa99o/GhkzMhyn9L9apvavEhnpv/xVGcjlQ/W/O538b/12+D96cRZuUP35v9/9hl9XPQRA0dkT7zf53D+4ctgDzjD1vypRSlgqbOI/8u4wQcBICcCGy8Cv+lj6PwcrfNdOqbo/Ywx0Pzx/5T8oY12msALkv/633I9/Y+o/h353TGqbA0ASF4rWgonwv69S0JlZc+6/qJ8rclDM8L9z+pz6Qdrfv0el+okgu5Y/KfPv43aq6b9kmdJRY9jEPxHdcVclQ8q/55KwB4Sc9z/CWKZ5m2T/vwtrJNgeeu2/43whiMB13D8RYeX7jWXqP/yvDMukDu+/QTukeI3X8D8YWZ0W6MnEvyR3EnZDGQTAXKbJ9EtX7j8/IvQi0gvHvwYvS+zjEvM/1qtrY7lf4D+H9hO7CgnQP/upziMJ5eW/IjXoNKlN8D+i1nxGMIIAwESXmokrbcO/bocpjcTw67+pAb1osvjbP1SCzY7oHKu//SiGKyGX5b9CEujBNxvUP7RgfWK4wQTA5wXqZvGO+787vhK8UPjsvxOyqPKs8qu/eeMKuAOH5z8urb5VnEIBQDGHw0dYX/+/n0I1qsK037+R3kO1J1Thv8WSFAbnU/q/luj+3Yk16z9tSmGUhB6+v0EhXVMl5PG/NJxNh9uhCUD1xAIicrfiv9PiESLO+cG/IdO1Isiv2D+KkP48nBuwPyAVTPIJ9O2/A62vvZ4d+r+E0sxVWVugPwdkwTqbW+G/fYjplZSF9b8fLKVQqFPbvyKdn9Gmofc/AOLntDBY3D8ql5QOmJzZPzblmyUUt8W/DVlbjhkq97/LyCx3H4/wP5XUuILWo/S/jklCLxiK4L9UGM6oqwnYP1zxBhbVIN+/6PCJeFw+CkDz5oO+FnP9PzYp6vYZEtc/kPjF2nWp+L+zHgf1fS6Uv4PtRVxmwcK/UnqTsj2y8L9U1ZoEmyHOvwiueR3x18E/wOc8GrHD87+fCJP9h+Hjvym45AoNB+u/pPG+urRp2D9LcDSs0Ivov9kSJrcO+vA/vcQ8dEKqAkB3ZgmhVA/wvwO5RqMlAdA/LN+Vw+mk7T9kdi/xqG51v5lmQrSLMPI/CPzv6qcXAMDD86RSv5D4P4HWZyDT9wDAVM+Dos8P1r8DT+n900Duv10gH8L78fO/eeMKuAOH5z/hAEUCtgfzv4prIJvXFO2/1SH7V14cyb+LAkVjmp/sv6g0cD98s+g/yqgZZYzd9T8jAxE0Oqj6v3gNuoeEfeY/ujNbI7ZltL9hHuqmvVXgP0YmT1P/rMS/pY/b7het2T9u63UeKSnGP0d/CoeNwe8/JQAXIREV77+4PQAZPgHlvxvNyEDRyOQ/8op8qwJd4j+4tnxDVwDAv3ws40dk9+W/gwTAixggAkACAFFocOr9P8rsPrkEcfE/GriIELE/6j8fwNFDw+IEQPLCRkB8jvE/KYPS7cg4zz8Xdwx/+pnkv7xUbUABmPQ/XW63EIwk1z9BNqhKkZPiP6CFYnnoDwnAMnoeQFVt/D/XzxqidD2/v3TAmXslZ+Y/lNGXYIZh178x+QoMG7r1v4tI9V50TM6/55KwB4Sc9z9C7GIBLurnvzgL4lY9a9y/oge80/8Z9D/CDEAxcPb9v8hnKrYvO+w/zcRaDEwu9r/8clb3ptH3P4g+TESvzM6/wHiZuzyZ8r+3zEyPvofuP0Z1z9oVz+m/FGUBSfxdpT9OvSzss8Xqv+IE4XQ9buw/7eJktOAxgD+qL/lJldPov3EoaRmeyfu/LqGDKjxn/7+wqYzDaPDnv1z239naqfE/Y4R3k62b3T+RLPneXgrwvwjafD22yMg/bX8iZnvY6j9T4qIO69vQPxm6K1smUeC/u5cTOFh16L9yL1Tl8lv4P/PdxXi9aQBAsJFD7zLU8r+d4rZuMxf4v8C/Cg3Gle0/aUfJP+oF2r/oTR24lS/xv1FtXzIJocQ/G5P76DAA8b/eAv+maDcEQLC35mWIZuU/5OHafRFt8z/IwBL6Ja7UP9jVN6idQPC/PWF3GMEMz78tD7qOV/1Yv90q79H/JtK/XZYJfuVRAUBeRISXADn1v2NvWmqcrdW/6/1g+xkr+j8vQt2ZKdD1vyvnNVCiiuW/Q/IfezYN9b84geQAfVLlv7XOlvC7ju2/Mc8oikSFAcA+gWeg8TMDQAycD7FvqK6/raO3gp8Y9T92QOkFPoLUv4dnD/zBdJa/hCSJUOs99L9Sf0zwxW4AwAK0qIbrnOq/By3G0chBxL/ne3NyS/OZP/qsfatrcuW/P9cOT5m44T9JNgg/D0fqPx1n+XRsPAVATYRDupMTxb/C8wfUdPnwvxfg4w92JqO/HCuNMRYI4785nl1bECQDwG3FbOdx0PQ/1cYX48VP4D/utNOs8eHlPyR3EnZDGQTAUb06CCtLu7/dpr1LEGfvv+GQ8qc6PAtAxfc0sE876z88TcNdlUrtP5xMdvbvARBATLrArZS46b/iWZBHcTfkP6lnbrgv2AHAiE4pCinkuL95hOv5jXjkPykNAKU4crO/N354s+ds+D93NfiNKFm0P615YMJUKfU/JFvy+ZCoz78wvddx/r7kv2icd6DeHOi/IpOgkaJjzz+gjfmZIZjavz03uCSEaANAY2dwoHElBMACMl8tZ1vwP29q8Ff+4/A/ugfD0rcq/T8Tg0IBcNDHP5uYH8UaCfe/N2H8lBYwAEBd7iwiDlPbv9D9vc0PL/a/2dM06JHC1L/VNt0ytwLkPw1MEiqtyfI/ewwMrm359T8BEK9VffqtvzwNn0ai3fm/OzhVPJfgpb+CW9IJHU7jP9Xqbq+28Pe/BlbUAd1V9j8/CSxtBBT3v5AqbYkJMu0/jxKrMjqK4T9cs+1+Z0rePwqWKl+la+C/SO2DvqKw7r/nSpRT5ZL6v0eIQIfFP+u/G8q7MZ9dm7+fYrnlff/KvxluFsQcReY/4tQ1tQq+AMDfo3nwB3XDv1fGo3ArtNm/wspLiH708D/HWKJ1N/2RP7FOhANXofo/l3JB2roF4z/BEJXRD7P2P/lUbIbVc/c/XJRIB/NP4T8EWkssapr3P7hrhfyMwwbATBYsOOkAC0AEZSWnd6YNwD1Ko1E9Xta/fNDEfIN46r/qpzjoitr+v+ax2bEJo+q/JOy1opu2p7/M1A0eV22/P6gGdQ8C/es/ImLDRZAs6j9culMmX1/xv4z0JdthBQHAY7mBvJVr1j/32v/lRt3mv4hVg9XUiP0/LpsuCu5M4T/cmv+8/yujv0bNasCF5fQ/9Yx4dt2u878Y3KZ18UH9v+81VEY5IPi/LjDD2LAn+D+5D31j7hrTv6xGvsGdhMK/1qtrY7lf4D/FVefu5iThP1ufEDRMdu0/ndU/ip92AsBJMvzTDJQMQM/Gjyzff+k/v4mvKXgr6T88sntyLH/2P58COln4K+q/cxz2ABRX5r91WxcM+FT4P93WjpJlkPe/UQ7T7jc46z8WNVcai8f8v/Ou1zlBIu6/FzQwQMjuDUDe3ZqIFKcCwOubaYaqm+O/D/czmg1t4T/FhwCmnsnXv8xI3LXbr+C/SyFT59XA37/3mpPdCBfVP6zejw9KFPW/tV3+nzsU679vuWkXuZ+6v6FVldiz+AVA88DWMrsB8T8PRDfNiK7RP+C9Y0GHJss/SXz44Fb28T8sI442jD/0vxru1nSkz/u/VMaxaLVk7b/M8JZSQjPLP4coawBpXNc/8of+W4RxAkBplZwsqqvuP5036TZhyuK/rk5La90rsb8kATbc3v79v/oj8ajGGfe/1TOAVfgc8D9y6hCme8Huvw7mgBGM98y/GtcqY0NoAkBGQTnRHQgEQIYEQ6y61/I/CX7ON7dK+r/bInHL5BgFwNg4hLxv9dU/AzQdyd9G9j/R4PdMK9noP7IqouvlArg/blJ4HzZH+79Qp8iIz3P6P2a6KkG6O8U/TqqMdCtnBcAVgCd3sxXsvzLjCzBTeua/5ZcWybh09b/ZPnTBmtP/P7NnQbvdKvS/ov/NSfGU9r+ZHAuf7sLcv7cJXgjDYfo/YvEvIA2jAUC3dkBst1jYPzNsOMqa7dY/FBwp4FG39b8CB8cghJ3jv+5i4drSWAhAoQ+2Z0iW0z802z3qN+jzP7ZhnYtO/Mw/zFTlZ3UB3z/vGUMMHi/cv+15PO20mNc/mr/tNkua/b936XMdU6PgP5x5gRjTe+w/NI2Ll904xr8RV5DlV7QDwFJ6k7I9svC/Pa9IxbWf9z9vJis3yG/iP6n9tyemKti/lAdhDwuK4T9PHpZ4DFcFwKDRF7pKlgTAUf/EN7Ig278VZ9DFFGPKP4crnAzNy+E/Vf7fbhGt+j81k3rsI3nzvyRb8vmQqM+/RwVl6SD13D8dD7u46pLcv0LXV5CDhPK/H5ULmX+T5b9Soj1Ew3uEP9o7YdgZ8QDAL0LdmSnQ9b/w1QSCUeEGwIURUyTTu+4/xcZhJsiI4D/z2AS6aNbov0qHOF2dtc6/3W7bwlad1j8dMoY6Ey/wv9T5gWFVl9e/Yxb4vfvT3T8qF96GKei5vzr1Nlvi2/K/88l1mrkz6L+GBEOsutfyPw05IgOwrOK/TL4lgFxC3D98DPXzFq7WvwbLr5trytc/9OIhc+tp57+aMLhwq6jwP42Hc4S3efc/i3PD6zsD9j+4Usc/TSXFP0Nu02w1LfC/uR7Oy0zb6L+muq2gnpPkv0NhxSyFewTAr9ppsNQd4r8x4opvZnjNPzz0LXfhMdk/TspNUqT28z82Ker2GRLXPzsqoEqflPk/0FQb/arK9b+I6cTb+1kDQELeZU/FUsA/kSRLaH6j0z+SmgXVuJfxv5UsBzDD+Pq/ENr5gj7izb+NVSg5VT7WP0Il++QhdPA/2UDAqkjrBsCuzumxFwjuP/nG4l7q26G/CQWlJ9j55b+USaZk/rXYv/+HKCvVjPI/FvLozWPm7j9ojSTfskLrP4PtRVxmwcK/7W7Qe+YZxr+8S7y7ps7uP/u5SzFDi96/krtUC/et8r9vkrJTuZgHQFhOfi+vUde/ypcjFPgB7z9xDLyROIEBwOnA0gbL45S/8k0pis7q9L8rIGDbFofLP+ey5UbMLeI/7eJktOAxgD+NtQumkz+HP5TfCyeQ9ps/gAY3OLR64b/9SfrmSozQv74QGDq14fS/LdInCemJ8D/dsnczP/XLv1jXIJvf6uI/7AYD3Idwwb8yO5oFCQzEP00iP8vGpdG/+J1CjK/b6z8VqaZdfIX+v4QAT8Sk5O8/4P2++SPs379aMDgGmi7tv6zZIsuI7uC/2G1KDU0w8D+s3o8PShT1v+sQmkLpM78/pSqo2Zma5D970neP0+Llv1XAMtGArOS/Jh5rtLjf7L/Kf1CXFwDqP/EoRIpBbgHAWzHRuJBh5j9niQaOgefKP0tt3o54evY/EMwQlzkA8D9HYPcCUBvWP/2w7cm//vE/d5lYbZdGAkBAqZsmWTTyP43QdslvSd0/hFDyMcW327+GCvB1gZj9v+PlHWrJvQdAMwlYD2mawj86L4tHchq4P6DgycrgdOW/xuD2GXe0wL86isUDQCCnP2bRcvoIFuK/4OlDjIqT4r/iJjzxXbvyP7ruXXk8Xui/V1rlFyNT4j/8w3JCKe73v2oAfqsR9Ly/Ts0W0Jqz8z/VNokJdab9v22VJ1ql6+O/IsBLgulH9b9Sf0zwxW4AwAiUYjj0Gei/2XN6TmdS5D/OCRD3F/31P77MdCWGhvC/5enPsocv8T/b8DUndxbQv0/mEUr6ZvW/uqhZh/Ro+L9fmUnbzdv5P4hcLXMucvi/OUcuGSWL579Wx7wFiH/8vy3TNUswSvS/Xb2vEOUIyr9mi4TrXcvnPxTyJTZNDPC/IBj2EWIq0j+5c9pQlEqnPyD8fLyUpeW/N2H8lBYwAEB7QqwZTl/xP+HGMIO+7ME/jCnZhLj11r9yQb6HtCzlP6namrmhnr6/NsfYrHvnD0C4OoJ4MGzxP2s5Y3IPQPS/cxyG9cFe8j85EAhtXN/oP3cJsLd1eAXAt75+RxMzA8AEd/NO4MrZvw6eQ22GU+E/ai0pPXUM9D8wRvMZJz0JQG9TY2nFTsy/kZabfrbr67/qBX17Nsn4v5KRvn1vb/w/yvbA7em52z/Fx7j4yJbFvz5vp5oYOfO/9u4hp/7Y9T/GbpJXl4sDwJX0oSXBIvm/c8Bu0w8b+z8eOUp+L8YFwJfpp1QZ4eS/Wrn9tjSt8T9v2o/kD8kLwEVYVEwzivE/dPXhEL325b9CbZuj30L1v8vNWpvQDsi/DTQ4iK4z6b84rdMVksr9P2T3lNvpP8q/4tLqZsG18D9cmlafScXFvxi9xUvI+9m/6HNVxl/WCkC6pcxoPd36v8eNe7YXAOk/byKlrmxU7j+j0d07n//yvzSp4hxMb/c/DMU85NJq4D/vGUMMHi/cv+mq+r8jXPo/caEkDqUM7j/YErKIeC7tv0WHYY03YN6/iPjraFa96b9fUrK7oCa2vwjzufrU0O8/RmKUhFHP0D/qQiccmVYQwNWfNAS45uA/LN2SbRqFwj8JkbT3nM3UvzMODuwn3t6/6rZjEPqdAsBPFjOiYxrTP/hnM2PoJQhAtDcoVWqPzL/JKlQ3DHHqPwYUxYTzL+k/XE4atbHX9b/UjD6iTX/xPzx1C8GuZ/C/WmB9Bh3+4D9CSmlLvqrVP15WIKTPdtm/0dfzyPcO2L8xFCxAa1fSP0rkOCm6/ba/st5MuBet5D9YP1ZTuogDwDyObvAbG+G/AT9Dafu60z/zjGX6pHTwvw5GQoDuadi/c5XAVKwy+z8qUUpYKmziP1JW+6Rputa/kcqRjuNt7D+KnDc3MxbwP0V1aZfNxvm/LHAjSqfVBEBlVjpWVaHhP4SnkOvab/u/ZV3FDAkv0z97nDub5rrrP7/FNgOukPC/HeZeqtB1uj/0fJtvWejhPz7OQpmxd/E/uCR2DxLN9D+O6KTeXtnrv8IEfjwPPvY/5a1lDG7x/T9dw3EWQX7pvz8JLG0EFPe/WzmxHo+/5r/58xYSHJ7UP33FW4fPMvA/9+cabZM97z+6Tdyw1gPVP+Y7Eo920/U/8JYeTRa75T8m5tHObUmAvzzUPBnEO/i/y75j2mvF2r/AMRVUHef5Pz0RYBYZbgdAluXxpL8m6L9Za6/etO/kP41VKDlVPtY/VDt/Ebgj7T/aez/2WSD8v+qkFgZYVuM/OtkGyomXB8Cvs8XErHeZv3dTX6dgAew/5JgJvC1Aob+DYdMe0IICQLQ+mhcApa0/ow3hap65+L8q2HSULiD5v36SjGR5dhJAqwIE8JsA4b+qIrorDHrDv5xcZmhxG/W/b5caGvIO6z8DTpchq2/rPw9o89RbFfa/SJNMkn6m6T+9Kfc26KHzv3TSl5pi7so/y4rWxvh72r9ktEU5yI4FwHB6ueimN8w/poOzBj6NA0APPg02+jGoPzpK+Mlm+bo/739cLJ70AUDnMKtF5/Pmv/4gF6zg2wdAr7CbJ3bN+T+CcsZZisC8P8aP8DPRe9M/LLFSaCHozz/MdX+tw2Xkv4alQCQL3vK/CyQ0C7v9A8CxQ74woucEQPYX90CkgMG/p+gM+HR+y7/6QHlhMHsFwN99LTgZDOa/n5GludesDEAmbtnRvGfsv4cnGIpIcfW/NcF79z0q8T+J0jrwYsncv5O4E5BqBc6/3B3L3zQN1r/lzrgyfxHOv48t9szlt/O/9ag89UPx/L+vYqujzcLqvy+7l8kbotc/KVpTuX9l37/hQamn9kXMvxUb+B7gbvS/WhX7Vres3D/28iihtL3yPzzcmZXay/q/Feqr7F8X+z8RRQbeEz7uvzZbBbFF5wDATmzP/bil1z+xFlSeH4vgP5um61a3Sfw//h7sNYgFAEDvZc+lSTzyv50/0CzvZO6/xo9pcj/I/z9a0vXi/hPXv+8P2PrJo/u/YDtXsBUA4z970neP0+Llv+daSWARihJAPus3NIkIwD+SScrO4nrkP/YLg4wt1/A/wnP9tMju8r+yDD65kDvxP0a506FugPI/uMLKlyr28j/daw3fOQj1v37I6YrEdgBAjZNQOhPQ8L/yLlouE6Hev69HnHs/A62/nXAr/IKP17+BnZ94JXLvP6uVRgGLAt2/+HoVH923wz8vuwfSAbYDwDCq2Z5kJ+q/nL14s4FlxL+mJgsjxNjRv2a+K4rJT72/ytczsSa39L8+22sfJrDhP312B+f8BwHAiPyLHHGi/j8Z4rMr1Ifjv2XNwcoRZeQ/Kfxum2Dhoz8/3S1E0UnsP+BnrVBxaqa/SOU7v9jR0D8/sMXm8fyzv7lz2lCUSqc/rYG9vd2i87+M1OIYhYznP8QyviChiQPATH6jlK9Zwb9X5ZAz2mmivzvAqb3wFvU/v7z61o5887+az2cncooGQBioXfYgPgzAT18n610spL9y3K8l/5/KP9ZsmKH4eOY/bs+aB/jq3z+xfWdzRqvYPzyObvAbG+G/lMg4HWjmBEBWb7QT8w7Vv63hidGaVtc/gYzUVEgCqz9lyl4LyaXhPw5AgtT4neG/2wcsQcAB2r9wBqJbNY7kvyF+QTGtmu6/XjaZmDnVvL+R3kO1J1Thv038lhg0WOM/X3TeKXWk7j89Ku4pbArnvw+OLpK3Ydg/pCiyCGx7+T9l56dgprHqv9g5LVIUf/0/Qgq6AV9jCUDr6pICXsTvv9+ig+9Sf/S/pDBvo+LQ5r/f0otW5Zf3PxL7acCMOug/+jCM69zZsj/lxSyfbuHSP6+yNx2IDQFA36vyJjhJ4z8dlGUHlynzP8dKUCsWlALApMga7nXR87/4d/0zPuvdv/ZNBRA3I/Q/wo1gsvtXBEB+oojjQh7mPzZGT/fs/OG/Gw6hBotK17+3dkBst1jYP7C35mWIZuU/Zu2IzA8ixr/7xRKM+gqRvwHZW3Uixco/hBWnMmJXwL9IIMHrbCnwvxcVvxjP8tm/mZy2wRiV8L9JCtyq9y3zP6BVUim7JvY/lQQDvSny57+jNWllu1ABwN6rWfT4vPA/TwWKVC5NCEBiYL5+3ccEwCwUiy3FWPO/mGuiW3aZ8T9GVdorn/Tgv6xGvsGdhMK/V5YX7nGVmz8H3/5b6RXgPwSMM37RWfO/28uoFYzqEEBnWYM2e1j1P6cQMDMq+fG/VAsfF+Kfw78UsbVOSaHhP4CQn1egTMs/gNXY6Ion1r+Y9o4U+eH6v/3gENmguPO/MGMSRX1j8r/aIDDOF8LgP+gDVjjWV+u/HNeo9Wza6b9V0A1N80nCP1oV+1a3rNw/JubR8PFHAEDszgTjK4bzvyup274zuvO/K9QweDpE1T84p9Xv37/wv2lgk8DlT7w/Tu4SUoW65b8IZStvTT3mP9kn6tObNu4/ZroqQbo7xT9yRymtOnf1vxljyiYRg+2/AcHI+UM8zT8xftgPR8/5P7mnbMHsb9M/U+KiDuvb0D9/dTLBLRX1v5ZknHrHD+y/3QXUn1KJ8b/ZYTAjag+nPyHTtSLIr9g/NlWImNLB6D9V2iw9al3XP8FLm5UNWvI/C8vHjDW78z/+IyCm1vD0P8AMzVYnufW/XJpWn0nFxb+BUC19aE4MQMfn7kI/5uk/Mb01rirz9b8HEIsrcUUBwG/A555oTOk/9BWTsIvxx79fXQL1yX77P/8qV51OQdW/czC7beVz6T+68BEAM1PRv9+pUO1d1QBAj3c9KuL2w7/KcgkyNrXkP4zmfWPk2vq/yGcqti877D8t7e+1t1/Zvytei6+IAOc/xN2tYvWu0L/Uera7Alr+v8pAUvo7fPm/WuNBjeFt/T9rDgGrUG3gv2QJ8Y0nC9Y//XMNgIwK8r+jN/WjUxjfP6zFKazhwBZAny/mVMlGBcCLyGnLWkziv+oHHAhvrua/EXxdGQg14D/8qWjAg2zyvw6fk32VDcE//w5wplo1+L/5Fi7eVBzav0b95EBTef+/f/5pOko/lD//hJ4EXP/mv7kT5o/aP9q/8Uwt4I2M5784geQAfVLlv+1u0HvmGca/c68bjpgwzj8diLNnZa7hv25RZkHkaQDA3PW2/Lqz+b909eEQvfblv+cVaLVnxfE/PhuZMo9x8T8lhLhMnln4v3aTChzDRvU/wrsDSq6Ky79mjYNECuPev3Hv0X3LQ+g/1cSvN6tl3b9WIt83ram0PwtzDDFm+/K/VLfV753A+L/0vL7/QqX2PyDe1BkUTgTASW0i+HXP37988AE9LMr1v9S9WQhp5QbAazljcg9A9L8O9mJtvHnGPzu0U78E8fI/uKOC0iJq3T9/zzSSWfsHwKP4HtmyKec/J9jw2RSo6z/kcCex3onBv0xZ5qhWAtS/Y9NAQczr1b+pcc6xXpf0P4e6SsAjt7C/cpgTnKtF+b9YlWoo6uELQA0yi99tGAJAqJZmEliB8T8qj/VMYxoGwEtBwJz7oK+/oSJ/t8TY9T+MxoT9SUKlP+8zJx5TJOM/OkebWm614T/BTjciD5j9v/fYevJ3uKg/5nE1b1JF0b/SE8Z2mDPAvx9LuIabHQvAugWTvx4Ztz9mVk9Q09Hlv2KxYrMA8cS/Qopks0t08T9/6ke2zvDtP6FnbshrIPA/p2cgXVyS9D+ZBrew8qnOv5VZywDGDPO/tiYYI6ogxr8hwj3Kmsr7v4lV15WbRQpAK1bhnrBMAsDsncXEISD/v7PafRHlJvq//5TIeK106L/5I/vIoJrqPzrJnl/Z0v+/OpsakmPw7j84hDcWesPyP+dJbXnr58+/tHTkiMBf6r+F0jxCpULfP4+msv5N0ue/qP9vDhSv9r9u7U+5/07eP2AxtpPLbvS/L6UdcBrbAMBJwEh1HTr9P1hOfi+vUde/aKZSjLf87j8gZvOjP5z4vxakCsMJFem/gZjNDBeuAEBEqT1BSzkEQBHd+gjLUwDAqZT6HEM0+j8udNOO+ovZvwVBA10cuOO/Y5glj2Mg+z9Ain2eos8CwHWkSckzMgxAwVmp6ZI4AsB4fV6Y5M7zv55jNsI8tPc/BIpDlh0t7j9I7YO+orDuv1eh2DQ8weM/15G3wQmM3D8YdLg2KeoJQDwyNVIRoKE/+9Os10Ig6T+jsOgT5fvpPzR/DOUfO9G/t0HNIAy8979401EUTf3nv5+KTWrVIvE/XJKVa7Y/AcBnag5N/n6zv8rXM7Emt/S/9g88QdQQ+D/GeX8s6L3wPzJClc5O7fA/VgB39ukF/z+pCA2pwML4v+TbJrQGVf8/L0LdmSnQ9b8C9UUC2/iGP+pGRsTyZfG/bj98Y6+u4b9O0eeP3+D8v0MN4llXs+0/RZD0wUIj0L8n83vxlB0DQHBzmQsBs++/fgh5Byvg6D9bY0KXLYXYv5FHHP28i60/0r6r21dxwb+FvDW73KfnP9KnkWDbUei/dt0/zZ25/D9ZoDf32d0FwJPOk2qh6fs/LZD1dqhQ/z+MS/1fzMv0vxwcfDf69e0/CQU1uPo++r/XkbfBCYzcP6tZv89Ew90/ZroqQbo7xT+WJgjXYkQKQPXQESpdJvQ/u+35y1Ml479r26tcctzrv6iYZrZIcPU/Ksh7ylaOtz+NVSg5VT7WP4tzw+s7A/Y/S4G+FPoU4r8rNhGo25S3P1rS9eL+E9e/nF3Ize8MAEAQvcviCEjMv+L95AZP+Ow/SXSFceMr4j9Sf0zwxW4AwPDhPwGZ36c/WHlt0nAnwL9W6UwgUhn0P5VHOKKXwvY//XMNgIwK8r8CdpAm0NgAQOOnbIsYsaW/KJw4guxEwD/7tTA5zuTpPyKToJGiY88/D8fqYzA11T8BZGk92+beP5kC8iRyOQnAG6RzXP1CeD9rk8uoyoP3v0E5kq6M9vG/ggOKhTw15D8XGX7pUvT7v174RLS18vy/Cn85+Wxd5r/iZuxKmMTWv7hbxGWjdfG/X5oaTO2+7D/k4dp9EW3zPwOurjClc70/ez/7rbQNu7+NSzM+y3Dwvz+vm+h+Svm/uZX2sPE9l7/RDxV2/HriP1cdpB4oY/A/xwwJPSEU1z+FdU6nQG30v7NrJQ4B8OA/KSVEqUj+5b9LdVvLRSwHQOIhVxhqZATAWeR+HLrJ+D8CuoTO8hHwv48qIc04m/e//WC5Mj4r8D8gpXKWeNEJQBM2OeS+tA5A1cYX48VP4D+ZLwIG/B0EwN89HyYHzuk/OGnywQ0s8b/KQFL6O3z5v0B4MM21ZPi/QkppS76q1T9TZ8Max9Dpv0v3m73lXau/DGc3S6wV978WcPWNfvbVv6xtM1qmWN+/mRs6C85X4r9tU2wZo9X2v2eZBW2/CMi/idI68GLJ3L/1sDKpV7vpvzHSEqFYEuc/TbGsbPPl/j93xlMXQGafv9gSsoh4Lu2/phYjbFiR9T93fZe1wqzyPz0Hjwj47t6/2nhRVg708D/xSaSabCoAwFYIr/jF8eC/A8VAeKhGBcCpc/06Npf0vzqdq1J3egBAsAvVPPq7/r/MlT2XkP8BwElIzEkCCe2/Sq4cBCFbC0Bl9uv0/o/yv7fp3ukGI8+/1cYX48VP4D9onQrywFQGQPkWLt5UHNq/9b1hTv4i0j/XufscVWD4PwEC3OfBNqo/+DAbIIFA+79xFx/AOhHXv4NqxnYh8c4/pTypzbAmCUDoJgZDER4FwAO5y7rxZfS/GJkyP+N+w7+i979f1cQCwGyyngqm0/E/M/z9Wwk9yj+G+yb6zJzpv1J19MnXMPE/VfVACdPF6z8riTY98dbsPxiHn0LZl96/Eri8pBGb8r9PI8Eq9kPdv6IWcI8I/P0/w93IrNTxrT9ZqMekorfuv2eSwokkMsu/D0GmfxkC8D9Z3KIn6mLvv0ujJe2qp/y/g5rhKK1M7L/uD28ijLvcP2thmtPo1sm/RsYELG8T9r8p+LL7oYHbP3c8ho4treu/3p6neCPLsb/B0Yt2gn7Lv8ghA8l+p+k/MJfqID3c+z9Mf2T9hj/rv55TV1/0se4/lBjgS21s9b/ahA3D/gjmP8c/E7MpIeu/4XPFUMgRsj9l4DQRl2Pwv4dG6C3Gnuq/kLFPGzeFwT8Sd2N0Skbtv56+oxhpmNW/v0NsO0MD8787VDK0Z/7WP8bgjhEipvW/dhQMAksIBkAGGsnP2A3tv9lSIlmeNum/u2N1xhRf+T9w/WOdzVnsP62jt4KfGPU/MdguXEcc5r+vRpI1ne+qv1fa7Er5McI/5bPTuA5h4r+5ZhVHnVytv0OMCCqUGsw/MgDmc8J65j/n27cLmJYGwF48Mliyora/Q+iJiiJn1z9MBNky6BrdP2exRAOBucG/mTxtEFU75j82GWYwNDPgv5kndxGqWte/s8lT+P7t0L8aBh5137m+P6cl5AoVY+M/1k56ZlcNAkD5xrOKNbzbv1ZgTqCcAbG/h1Kq95ye2D/CTqFYKQ/tvxmBkVhqMO+/Qg/z96Z9EkDEtwREbnzQvymVcdWh8uu/ndU/ip92AsDutNOs8eHlPxsEpAC6aZM/JQ6Mo4974z9MpZuIbD31v6Tb7oBrkOm/QWf9WLKr5L+6e6CVedUEwPRyYSlP1OC/PwkUJY9j1r9//mk6Sj+UP225M0WPeNW//47ehBcH9j9hoWdEEiXkP0k9eDBDqds/BdnYgucN7D/rv+8chnDpP6rPbcKno+C/ePXQAnjp4z89yNRYHHnUv9HZE+83+dw/uuccUDcrtD+0v1O6NGDHP3tqZpjIfeY/OUcuGSWL57/Jlp9Fd2P3P4ksVEU7E+a/quXacd5yqD8hlFsGwkHdv/mJ4kBvPvQ/YuI3l9SM4j8z49EuBKn5P7e/obAWgLu/LW2nY+97+z8T1c3iEKX0v6LsQNsfNwZA+x2cUpUA8D85N8hM3R7zvyypukNT99i/Az940J/w5T+2oG3/VwW5P3OBQkWVixJA4lmQR3E35D//rR0cVrTuPwmM0fW0+vS/Ue5B7CLp8T9k12A3XD7lP9HL7CyNAt0/IyMBc2+O9r9KYUn2cnvCP3OE4DMAc8U/2dM06JHC1L86mMfgyEnyPyLX0wj5e+2/fs485HLj9z8zNIre+KT+v+OnbIsYsaW/TqKTQNGP5b9pLe3C1tEDQOOnbIsYsaW/BBfWdjNWD0Bv8pK1umWRvyXKu9PCVg1AvQyVddwT3r8dqhXsyAnUP1ouCjFjIfu/0qsANBvGzT+WH6hRh4HgvzeR9s2+kArA4HxgU4aa8793aDZR98TcP0dmLzJv2PQ/e9NdifJj0z8igNXJg7MBQH8cPdU2QQFAAYNv8sKV6b+AmIWosWnpP+gimpkXfOy/CSwxRZOR6L/fpTOvRuDtP/RBoKUxTqe/3ZD6kyv38z/yyETVAILlv/L2OhrpReq/pQ/h1jUF9b9UO38RuCPtP2kt7cLW0QNAgHwvUhAY7D82qNyg2b8BwKuywm8FwvI/08555zA18D9/Nn7ukInfv9EeiAhv2Pa/wP69FOZN8L9cSMufwKcBwOvcd8qg9/Q/1YCpzVXk77/LitbG+Hvav1bbJXVCWtW/34JxS4rZ4D+XJaMI0Xn6P+rArxSc1OU/VdANTfNJwj+8V0BX/C/mvy/6wTDRhcG/mXIahs7+6j+bQL5/GFLxvxZi2M88rOK/pQFA6hB18j95fOWc+PvaP5eoL6wKs/K/vdAE/Tfu7r8l3t2uut95v+j9n7/tFNY/pYrNpLuQs78Vxli80JHsP4J+EMNGHvW/SXBQ/hUOC0DFfUQKiejpP2KjqqErQ/w/Oh9tqYDr1D+cnq3Avbfav4ZxP01WK+e/uKFBerDH9b9Z2c+ZnETdv1UayGbo9fY/VK4bwyOVqD8x9jTTH9j3v7xxGBcFouU/lnG2qKGMsz/yRZknawLyv/djhzePGAnAWzn8s07b8b89PBka4Qvavy3piFHp0ua/p6/WYj426r+3yI0FMxbpP5FnPOWHkvI/ydwAs61KCMCLhb7rpy0PQHOguDXz/Og/b6O6N8pX/z8XoCWMH4/3P8v9Km4C16q/RJ//MKi87D9xMKL3EUH4P1rVR72F+rk/jPQl22EFAcC1iFeccQ68vwkaCu7SJfQ/RaYoU7nInj9WY9wLbrfXv42cpDw3vcc/ysODKerV8b9PgloRg1Dvvy2p0HvoC/U/n9ht/WW03r/3wa7Bkpz5v1J7wcxn8/S/bMvr6Xom1j8n/zmlcg6lvxSHoPnaP/W/MMLhBdQ4BsDs7SZqxZT4P5IxmwqYRNY/qu4Lve4TBsD7QhvcvaHgPzpb6BTSlP8/JOG/YxY4xj8r/ld0dKnnPxFh5fuNZeo//aNTKC4VAcAp4D0jje/SP/xXlS4/OMI/79bgArmT6L9T0zuK28L1P82CH9uUAQDADLIVDc684T/s53I9yAeoP8T0EO1lVsE/6BUaLn4F+r8U1WWhwLzmPyAGbsHn+eA/wRlanBEB8b/XkbfBCYzcP0ITKCoQ+rU/Gasq1tF3mr+QtuFqM3v6P/vjPdapwuG/VDW0x/VtuL9opnRtN8TPP9nm2pVZXeU/3wa/1EBs8D8WFhLcQocXQE9O6bgd6PA//YxTNKoU9z/GyTRYqm/qP0TfWlYOJu6/QhLowTcb1D+XckHaugXjPzPl5dxvTglAZA0kF9S2/79Soj1Ew3uEPwL1RQLb+IY/k8QuHp4R2b90vZjd3UL4vxNk3R+IEPm/HtZK4vxV57+J0jrwYsncvx2dVISb2Og/liOqi5hB3T+zrQilJjPWPybIU7+kk9K/b7cBhh6wAUD5Q4+n8lPsPz+vm+h+Svm/qV3K+Dxs878plNKEDalsP55hMbRXbri/6GIrXZDV5r8vZTgy8ynnP3ABb5dSlNq/MynflO7z7b9KDMJEn24AwO0laTJ25eI/gx1Iq7Rc9r/KCoiTf/djv9BSCAc+WOC/UcdjZc3Y07+YTQzmAk/tP+1t7riU1ea//xoPBsIc7j8z6gOhV1Pdv7OfP7cLjew/dj697IqW0T9A4wZRKhbQv56lE2KH8ve/E+68QHsRm7/z5oO+FnP9Pwh3tYCwOdW/3nzvR2ii5T+0qog/6Q/3v48qIc04m/e/CZG095zN1L8IJzHb44vFv9eYX7sVpdU//opzOlEQ8L962doYWpvzv3ztIV5Z2ee/6Po7t+TT9D8KOt/6tSbEP2jn1yRYDwTAIBVM8gn07b/Gk4O5vg/mv19HxoMXzfS/X6326kZw5z8JUNPr3SQAQME3mKlUtNA/KRHevKa89T9UQnxu0X7jv3CGuxZ1o8Q/QkppS76q1T/E3A9N4I7iv4JL7H4BZOG/TcgRpISc7r/xwViL6MnXvwBSvhUYuPA/VB4MNVjgoD+uHm2qFLjjvy8/GBxbOOU/Nk7gnzEt8D9+t6sNkavnP3ULarmi5/O/Gg8U8d6Nwj/fsB8S9fTGP3BzmQsBs++/sT9C4iU08b87fWszA3jsv+oho0gQ09m/0iVygl7K67/aYeKQazm9PwyRz58j78a/yDA1yH5C4j/fZa41TRb+v3Xv1P0oMvi/yvf6mOXobr8Kbvdawg7iPx4EHDt17PA/uxhSulJC2z+H9hO7CgnQP82v+bHQdve/SgMypGwE5L8elQhCHz70v0nxpRcimc6/eYTr+Y145D+PWDJ0M8bMP3uqYHrTzPc/VHeu3+Q/zD+J19V6WSjpv4bfUNUrm/0/aaWEHGaL37+IPkxEr8zOvwabhm8HA/S/iRvyMxdB4j+yKUh0q175P1paXkWQt+4/ra87r92k5b9c4xTbg5J8PxB/3z5J8dE/YqV2oGfJ6D9MhZn9bi8NwMwYKaEgRgPAWcSYaLzR0j/q63SHLnfSP3hvJdoxP9o/GtoXFOsK4D+hUv7reMfWPxUrJsX3qda/7/HRs/xE9D+vzFe8J/fhv1pLR/PR9dO/zRyQw4MF6b94koQJk9vzP0pP/Gdpofo/9chYU6c58L954xUOvyD7v2QAkN51bM2/h30iWhT60T/nIyY1ZUr0v1nEmGi80dI/dljJv0+h2L9muipBujvFP9jmCp6FCwpA2SokGzlq+T/OuDlHpknzPyVcckvfBgDAXu3K6XkXsz+6G3Ru2or5v9UqVbg/3PK/jXTUdD5N1r+4JHYPEs30P+IEwBN51tK/46dsixixpb/OpM9jhUTYP4Dk3H1oxtG//a8+QFoDz7/K3u5vWUW7v3JR5CAUMABAyKNTo56jxT/Pe4FCqij1vyPIiamanuW/HYsRXir39D9UrKsdErH6v5WIr9rKKN0/BjdbtBfvDEAbJvvrFyf1P5+hpePtB/8/N1WLzKTf1D/Z+bCFOFH7P9pLO+YOAEW/axqEPhhgC0CIG9Oht0DcPwSnHHByYPM/T/zrX86N4L9+1GeRSdT0P56dx5CGTAzA5O5UcTfb/L83GXyxlgbVP1/ZJSazJfc/Dyarm4ahlz8EFb0bGRz1P48Pxxg3CwDAKKFZmKst4D+9Lpgm1IP6v7CnWJKzIvU/3oYhcSWb5z+UXl/KNsL7v7ZYre3OEvu/5KN/tcxd+D+RAmpNs8b5v/MHRR4o88s/9An79YXfob8HodimwLcAwKmCYWwp1vC/BPxcnIEs/T/aez/2WSD8v9WsT/qaPtO/LABHKkEKA8DNk4UKqnMCQKnDyPeTKN8/WyOWBWXH6T/1H73mIJjxPxLSNAn8ftc/E2UACY5G7r9VM2MSArSkv6w9ndIE4t8/fTpSoHx0pr93Fm171oPmP+VshOKAB+6/jYkQHFSu8j/N9sBHgU3hP4vkYLBynNK/jlMGQ/j+8z/mk6NYsPHTvyn4svuhgds/aYN2WgMT+r/QVBv9qsr1vwWO55hVpvm/5aH0Kroltz+XckHaugXjP1tCGM1BQn+/Acl4op+I/r+X3iUY4G3vvyTNQHB4/eI/CMD6VxZOwL+1p2UXhk/hv3sMjTKWdP+/4wQVmgYp7T9gY6gJ1A/nvy7eXO4K7dG/hZJkCQq6/r/iJjzxXbvyP0trHAPcruG/Mba1GD6Zx7/BGuM41mzkP5ImgCzLydu/S3Z3O1AQBsBa8YULtev3v4QS5fdzStO/yDA1yH5C4j9UCSY2emrVv1rM+xIsUbi/G07lgyo8478eOfyex/LCPxAqKfVRKfA/FPIlNk0M8L9VHqKWBYrTvwF96tew6dQ/ZK7Q28niF0AXooMUqWbTPxEQ1fv/rfS/yTFUfnKc/r+1p2UXhk/hvwR4l66eBfI/+f2rCr92DMBnFWdR7Ee6v3njCrgDh+c/B3YxcdaSBkAnJGuXhtUBQNhLu5fhgeg/2azabIku9r9+RouQJaf/v6RRTUti0OM/f6WV5UukBMDwYHy/99b/P+fRncZ9Hfg/rsZMF56Y5r9IkEi4LGflP5vI09SLIME/4Nyr+tE47L+3XaZZQ3zdP8TJAytOYvY/wa3eTBZX4T9H30AXK+LWP5uaAFTJae8/t9FApgUc6L944mNEJXzGv01fAo4GlOW/LW2nY+97+z8amoaC0mvoP8YpbJsOQ/C/FYAnd7MV7L9E+YBWAVkGQOn2hdoXsew/XKbJ9EtX7j8amoaC0mvoP3Lp7gRcQPq/I+Hq5yMU4L+wF3wp47XVv1zK5tiRHQHApMSuL94W+j9NdOOz42DIP8QwCXiMQde/0XvqU68Pyb/5lD+RprTnPx32aF2aiQBAHv50eqNyxr8K+LznKf4BwIvFFXAbihBAgB0n8Jdy/T97XNtoArvlPzjFSlU7yue/UnKzLSLY/L9PQUo1ENfgvyBm86M/nPi/Mkn6Oacc4T+Xx6eDANr3P1PJrWoJVeM/SSpwvdH5978bVijtMWnoPwNPe/RTUtK/0hy++CJY/z+GeRdIWCHePxfCQYBoW/u/g2t0zZJq4T/EEeK7GY4YQHiK0kPoeME/Q2GK3CnJ6j/1jHh23a7zv3z9Zj3kdOW/NUFbfD7Vxj/K4iIKpvPEP4SEgGRjM+m/SsBeGHc36z/hAc5dIO7vP/7k7wSGZPC/bklYUBtr9D95gg+DGvDzPxDIz9Vxe/U/+jWjgehF5b8MRcmMgyz2v5hc4VZT3vs/7SjRC0l+hD9Vi4DPw3LSPxtNwrjh/fs/BGko8ahg+r8MidOe6jb6P+wK5DLSjPA/AUUyu81L7r/6qrCHTN4IQPBt/uaKuALALjldfHbk9b/Zo5XqraTFP0oAw8V+kfS/Pjrm9DYZ67+8a/A+cXrqP/W8eZtev+y/+J1CjK/b6z8tWnZM3RrnP6JC27cpkuA/1KbEw4OEoD/xnbVHeszvP/D8VV+pu/Y/n9ht/WW03r+lCgO2Xa5yv7JZ8ssrneS/9GWxnwac3T8rY94FHjCpvyClcpZ40QlAQnyHDT3OAsB+gGEmuILxP17Ai8Z/z9O/LfcEwe2u6z9Kblem6YG0P5DP39T2HM4/2ggf/zlu3r+CUDFrxV30P+ZW9f2x+Ps/jcSqQJvT87/cpFd53DTmv2btiMwPIsa/Kth0lC4g+b8BlqNeUOL1v3plzDaa6Oe//YxTNKoU9z9ghx3N9Q7+P4jSaMFRa+a/3kuvzxpXAkBLwK/ZalTYPz7yBPR20NM/7xMHUrFL/b+lnjpx6EbuvwmEyzupMvI/cAFvl1KU2r9MDMJqpYviv36LBZOYvOy/T+r9QMbXB8AsFJkNZOH0vwM/eNCf8OU/ElW6DUpn/L9l83J1y43LP/2vPkBaA8+/kFuntDGgxz8uFiaYC0jjP2+FME92heK/VOFG3dSQ5j8cQG51q2HfP8EPbovdruG/DJ1sf86I2T8u3i0S9SHWP0PHONBNmdM/fYyPXw2oAMAAPpZQfHHYv3aPhcSFVfG/uPrRkBfG6T9ATi+90gPOvwZpz/KLw9q/bAIjk46cAkDWYEkxOaT0v+clGnrg6t0/3yusFLTT5j/MBoX8tJb1P4SFMnfYPwRAlBb/6XCHvD9Eb7wvI0/yPyeRtnkcpvS/liQLH17b+79CqyUBagH9vwrKcJjl7su/nnnzMzR+vz/4FKIKFkDyv+dtBrsFTuE/aZVG34IL8L90aOzx4aj8P8/W82cOito/jNvHtAEG0r9Zfqxp7Z8AQOax2bEJo+q/ZlmAmLLlzL+OSUIvGIrgv5vVE2LlwfC/s2p/1ezr2L9bEDgr5JTLP/xDLfBWAQBACl01W0aAu7+KSs58CxbnP4+udn9/gtg/CCcx2+OLxb+Ya6JbdpnxP96VQ1waNr2/m9mDaIns7r95FawpsA/zP3nZJw08dto/5jgW2qmG6z/bh5XpVA/kPznwJiQHYADAU+Gc5muX3D9UQTH2Q9YIwA/Xle6NcNo/de6KDcO6BMD+UJag7YLlP4+qgF7nh6m/psafYKVkBcAIfh5B/7rjP1/exAcRbuO/yZGlKuJC8T9Fh2GNN2Dev+lhyhcMegTA8P9tEV0m8j8p/G6bYOGjP3LISeIliOe/TjveKGmO3L8IrQw2zxoFwDxhWSUL4NU/1g6i5lP9h79AgO0M0ej3v+UNy5/gfPe/3psXPaIEwL/4HtSQjj7Cv0QMhcsztO4/ZhetuhA+sr9Y1yCb3+riP/uzTiKqupW/J2jEoF2Gzb/Pg5lrX5zvv2LxLyANowFAo9HdO5//8r+laFAtjC3Kv8CJa8fruQJAWF/LB9fj1r9g7uqZVqPnvyv4k+a1GN4/eUcBSyjblT9dJ+FFZjr9P2K+iSANVPo/4+8kwymj0r/nhJHsnvADQDxg8KPHa/A/E5g3wW7U0j+iWNYjdjOzPz92ItYbqvE/Z0Q8W200lb9C7GIBLurnv9OkUsktegpAa0XybrxvyT8f0nEd46oCwFIoOQI4uOU/OpyFllgN0z8aqdHbsqDpP6qjyj+t8QTAH/ODf6pI/L9sK/2+v3/gP+CfBAo3MsU/oODJyuB05b9QYFJ3DG3WP+bY5UosEsw/qatiF3aS+7/lbITigAfuv0Zlh5+kKeK/yBKcLYDXEkARu/OxMqPTP119u+fXmcS/XJGAPMbM8L+M28e0AQbSv1AGw5BZd/u/Pm+nmhg5878nW9fddkLcv6W11kpF/+w/zo7flNxk5z+o3sIy9pXQv0etlbcGINA/iVG/zOx9+T+wkUPvMtTyvzVdLUDLf/i/W1d1KMCZ6b+8vp6fo/T7v43/P5gLrf0/bCC8HwjV9L9sxLEexlrmvxukc1z9Qng/deixBL+JDEDFxmEmyIjgP/ckJFJIFZ4/Cr5j+qec4j+e7oI5eJm3P0YKzlBtQdG/LhNnjEOU4j9DqijwpXXSv37wWGWTq+A/H9g/cGEY779anj02kSjwv7SeNQpS0/G/PasSxOIH9L8NTBIqrcnyP3lSNOCZ9OE/o+1HX8PRAUBxWvI4W0DrvzRog6ECe8s/utE2SCP14z+gjfmZIZjav/MRfolf0/i/eZEhl4S03b9MCGWsKfcAwITvY7NbevU/wriHTKdbsj9L7nOBkIvsvznBdPL4oqU/lddMDnZo2r8Wm6uMhY7QPzpto8pdiOS/8LtdRU9+1b9hrSTXtFbuv5wUg8U4IPg/ybcHq65xn7/jZNMnT4HUvwRZO7sDs7W/twc+SnrjtL/ssEbk39Hjv5iggnZnbeU/ECYSJkyzyL/87r3qfBz5vzMcnHHwavE//Ef6oK+G6z/tGvcvakjuvwF96tew6dQ/8yrDoGyN9z/WeFVnMGvMP81RL/T8V8Y/I9EGh00E1z9tJaWOX7jlv/gAGOPAKfy/cI5Z2JEN879c/dO2SUACQCmIWXRYSf4/ogSNSCqq4b/ELL3a/gnQv37z3hwS2Oe/EtH1X8DEvT8QRurjfcQNwNMY93TaJa8/ZNdgN1w+5T/6ERsMPKT9PzzCz6RinOs/SCh1tGw7vb8u09IFePn1v/oU1rFRf8s/s9EUuk+j6j94V58Fvh32Py5wmpwuwgJAInoDfPauBkAnG+Zz6I73v8b90NKkbdU/xWhkp2ML5L8C02wnrToDQJagvr2DO/A/8ELCESYz/L9ILwS8mpDdP0m3tT1Hfeq/xWnsJrHoCUDUQUseBoTjPyhqix5Y6vi/0oyk22Z6xL8hYBx3ua/dv5NJls6ukfc/k0yoYUFh879UbLkkIP3lP8oyBtz2RwTA9a/Wlwu7xb/8rwzLpA7vv5xcqyvlOva/FFyvthMSyb91dqN7ouLbv1A63N1JsfM//Yr7wfoK0j/gT25RoFjxvzQYQFhcYvg/xIJV1ZDis79ifa4PoXvnP5fUVgQ74bG/shxieQio1b+T5rGArq7Mv7FqwujSxc4/EbGlb0KL37//hJ4EXP/mvwqAGGwtCvS/9zDiVTe68T+NsUWsBO7JP7rKU+v4t+O/F4Liew1g+j+DHDGG2Lz4P/Yau0ThM7O/1mikwRLC5j+axGNAmHreP6cl5AoVY+M/W2NCly2F2L+VU2smxhrrv4eZKj8aPe+/o7VhgeSb7L/HE8VeLSfwv3OguDXz/Og/ONtpcobNwD+rKCoicELxP9HVjXi4r/2/O9q0/IXK9L8o+WzKoU2qP/VGCX2GPvW/6qyaEDTI+r/E9BDtZVbBP1KR+NsX1QBAP6+b6H5K+b+HozvSBVzrP0FAtbTU7q2/DVlbjhkq97/fqVDtXdUAQDyZ3v3IcPk/k/W66+yC+j83fdb3aR30v8rXM7Emt/S/CqkTh3n51b/3xZ7JYsPpv3XwYiDJZda/d/GB2bwC/78StBY5e8e2P5PDh0twDPe/oOfCFj+q2T+oNHA/fLPoP+//C9VFcrS/DRvw0p0BBsDd6fjNP9ztvyVCSnNCKvA/IsOejI7szT+Y5CWFZSHgP9lq83KjY92/KUCFIrPWyL+KKaOVvc/SP/r/FnhKjbG/ykOI1hy+ub+ooh6H9IDXv4vPsMxNHvQ/qqOpLdjbtz9bDQgy1dzwP6r0dJBjcf6/42TTJ0+B1L9QErqsgHvxv39e9obmU8g/jFsXN794/785pq+yhNPmv2cdmr0CSPg/3KMqpj1z4j/smdD4FiPxv5waXUVuOfM/9LqnUV/rw7/iWZBHcTfkP3hW54WoffC/TvSuvaHOBsASfX2Tg5rDv0lMQxWeGue/joRZllrR6j96iaQfy0mKPzLZPRwUQNA/ArqEzvIR8L8DwIMePAS8v5YjqouYQd0/rA67QdQd9j+RvfQUsArxv1P3MQqjS/g/uAG2tcnV9L+CS+x+AWThvyXWEja1TJg/LBSZDWTh9L8pWeR8fgjevx2lA+OHlt8/w3eu4qVylD+kMG+j4tDmvywwYgVrzNc/jJ3RNPEI4j+Hs1oEbOXbv6OtsQVk3dk/eJkp5Z5J9T8slmq+4RD0v3/7rK/OaQVAaPiohoK6/j/pvCOCfuHWPyMDETQ6qPq/YMJvKr+i5D/ZdeVyO9LrP4mD/esYSOI/VtVus91M8D8kHYBGwxH0v7gkdg8SzfQ/lfqM1I3S27/AoNdExi/Sv5oK5x4kK98/lqC+vYM78D/9Dc5gKAEIQLtUP0E5DdC/9LAgFmxLxD9GudOhboDyP+gHYyejMfi/vFsmZs5qwb8ueIn/yvuuP4uzSSF5wvU/3FJhwSRB5L+LjQsPRD/0PxKxEp3nU8S/sSTiL528A0DYoVn0F1vov7bIC9PuhPe/mTxtEFU75j9a1he48OKzP56tnzdYOPO/M4yTcO115b+Hx5ZbSvLcvwkaCu7SJfQ/Nf2WB1epAMCHfndMapsDQJJ59hEv/uW/yhk469OmxD/FW2mLd1/fP2e++72L2ta/Okr4yWb5uj/plfE7HDz6PwUe6sSw8wJA5KRr/NELqr+ezMlVGIblvxxVrpqo/3I/DtGqLZTHwD/0HgHPn3znvxRhtf07S9a/Ug+j44rx5r8yYwVfj6/pv+H9Fi6FAeY/Vak72v0V4z/a0mT/OP8EwBIZnhbBgbA/WtCCfshMpz+fYrnlff/Kv1H0MPy1SuO/OwerdXv967//qzJCgCkKwArS/hvhzOc/eCMqefkL8r8EHNCOoZenv+OOezxSYdS/OOaeaSiG3L/VxhfjxU/gP2DcTJKSGwXAPmebuQgT6j8upUL/S33jv2Hv7wMn//e/rh4qD//D6b+iQMcxGlzYPyeRtnkcpvS/zsIhk2PZ8b/Zg3M8kV7sv5k8bRBVO+Y/2SokGzlq+T/DqvtqDtnxP2a6KkG6O8U/u3D1WNBP6j9ckpVrtj8BwO591nKT0ec/JeXuckL76z+dk5z0m8sBwGi9LMG/ovu/43jsC8CS9D+t5x0UL6TpP2VptfP6LtO/HwFwAviV9z/XkbfBCYzcPw+HYuSuBeK/MaV0668v3D/H6Biv3Brqv6UTmyGn7qW/ivk66EiCB8DIj5T95EPav1tXdSjAmem/qItgvuaO8D9+sEfL6eHsvzU2wlgxS+E/tnw3wWsU+T8puOQKDQfrv/PJdZq5M+i/011coomP2r+7oAjicHvEv0ax6P6UlcE/x1vbkZoO479bDQgy1dzwP7e+fkcTMwPAvpGqFsELwL/Zh5P8grvqP70ICetNt3k/PYBKUNYT2D/IN02dpboCQAC+lwJ5Wvi/CaZtU9LC9D+wkaRgJ/n0P3l85Zz4+9o/LKm6Q1P32L8Rnu36th22PxAFBTgKyuI/Da75wYwC4b8rc+6DztHav8f/8MGgVsu/rSgGkxL/sT9LYzFia5DSvzJJ+jmnHOE/5piq51ZWC0AtFPiGrdzVv4v6KR8r8ri/cTrVf99h9z9ZiNNgBFDwP0YlAy2vN86/RCW1t0667L8uOPdfoPWzv44qd5rxqOo/1Hf6v1Mm/79+khzcgPHZP9GCZOos6OC//ontcgEB9b9tmaaCIrPcvyzcZYL4+ea/GTHYI4En4z+/oi+dtFbxv57BoE7LlP8/U8MgZSXw5D+6/UCVdPQBwHMzn6C02Ow/YSFwV8A51r/ixuGSdjXyv0GqO0H92+S/BBnjMyAB8b+xqRe3hTfQv931xdGI//E/lAdhDwuK4T/PYFC4a3IDQLaLJHD/Mes/LmxY2bID6z/1AOl5TxbSPzbprPBlDfA/uxbAB4/gA8AxmS4FAGr0P0eQ5kdbAsg/9B4bPByk8b8kPWHa4IPCv0o41M/d/uA/8V1VMoeE9r9xFx/AOhHXv9mluUv6IO4/fjSFgz5Q0T/5u0YHTKP0P0yzAJ0++Lc/upT3gjmt9r+VC8BOSpz3P+YbHp9jBwJAfJIwfBb/97/ihVVRPOj1P1izmYYsgvO/VO/59q7P+79Nv2Ms4BfcP65HLqaJh/6/1fF30Wsw5T+bT5MxVA0GwL432gp719M/clAY2mUOAMBJtNH+S7Txv5ie4P9ooe2/5W2KA2V91L/RbCgcu2oBQAn9p/kqAu0/XmHT86F08j+QxFnrSEDmPwS/EmLQ4sW/+uveC+1ytb8VGNkwLUT4PzvoEVO4nNY/4Rz+581G6T/0jMZoFNi2PzbTAktl9WY/rJhN2rGlAcByyEniJYjnv5b4sgPZYPc/uQKsIEt09b9BJB3gw+bFvyTXevYJpvU/wX8nhrWG7T95EyLR9Gryv6hFCA8ZUwlApxAwMyr58b+Bv7+GUXLdPwfiDKIhpvC/ix0D+fZn5z8UB6do2ZnOP3xK1NbcHua/EPXjmn9G/T/H5+5CP+bpP3vSd4/T4uW/GNG4vZvpB8DzQbUeq0HxP6c12q2fyNy/u/lmy5y+AEA97AUe53Lwv/1guTI+K/A/72HG0JAW+L/TtvQCGtwEwBbmdQ7pK+y/d5qNITtC7z8xAdiqWoS8v+Xfd6rbKc2/l/WCVHb73D8GxpI0htgDQGIAfTPuT+i/+aWpIFSD8z86isUDQCCnP+SZtbOYOOo/o9HdO5//8r96UNNHcMfBP/h6vqZCdu6//yS8ArlA7D/qFIDO0Obbv3xrHBmZbPK/x4V/m42fwj9vuWkXuZ+6v+yZ0PgWI/G/BIpDlh0t7j8xVWrKPxT7v4bbRcTLEATAKbqIPlUC6j+5E+aP2j/av4MhhwLcDOg/LG+nS+gcqT8n/zmlcg6lv13uLCIOU9u/b2WaVa50CkDFxmEmyIjgPyOD6qG2tOE/mHxsR5Vj8T9I7dPHjkLDP9jf7rBF+e0/xx7T3lQvAkAv8eCkzWvRvyVYih9FMvI/hkoWzmZ+tD+pdbuiz3mZv1/LJDf4ydo/PrlTNaQU7j8naMSgXYbNv4Qh2JAgiK8/TBKQp61bAMCVxmqNc0/2P9Nd0d1Ae9m/O6gfen+43L9fpDBayEL1P1xOGrWx1/W/PSXqYEmosb9+/F2yxQrlv7lQ3KG8+/S/OwerdXv9678d6a9rWrjqv+zncj3IB6g/3TSiYlB+0j9PCVlz55jev1Su0CV9ROG/jf+DGQsA8D+j+B7ZsinnP57ugjl4mbc/u2/2n4h7yL9Oyk1SpPbzPzctQ7l7KA/AoiqfBGqz+b/6syODNozkv/WmgJjnItg/QUC1tNTurb8oaWeTvETbv8NFF/RWcd4/VVgwXaCq4b/lsrMjvfnwvyh+yr/tUuq/eNNRFE39578vPxgcWzjlPx86pFg2Mss/atCsxUS68b85Z6Htq63WP0b6oIzVN/g/qXHOsV6X9D9aukAZqHzhv25SeB82R/u/fnkLO50Tsz8s85MRlnXxv76eYgzzcO2/+MMFIpsiCMDXCGZFnqu9v6VGP+ZDeQXAm2mPb2Js9j/bEuWbl2rnvxOgcSBs0QlAkoJnx01M4D+fkoCjfJHyv+ey5UbMLeI/3CaxI0GC+b/YtqtGeIXyv0tBwJz7oK+/nrrsb6iY1b9g8sEZw9fNPzE3j3M5kf6/8C4i8NYB878bBKQAummTP29q8Ff+4/A/Y8gQvFBJ7j+pCA2pwML4v2L0UuuMRek/t1zwy0sj7b/hYeik72HkP6uGCVvHGPe/98GuwZKc+b8uvikptRQAQA3PARpup+I/HOLH+LT+AcDWrK0U7bsJQBbcPjd68bg/dEghEhm27T/pXXs3SrvbP/uC9MIhq62/Jtg6dZFh8T9gfQnR88jgv/FJpJpsKgDAbsW9wTHL5b8oUkqAsDzuvyhqM25Gg+e/L8N/vRih8T/psc7WpQXLv1TXdv/uV/g/hlU3kSkZ4L8KGVWmavjVP1TBchhwa8K/A3VoWQOQB0AbHx0AvRf/P6qHLplVLcW/Z7iddgyzBEAM6pq+M5kEwJECak2zxvm/BHfzTuDK2b9fm3kPhH4OQGGM5ASrJ/g/FnbC3CK10b8amoaC0mvoP994Vt4rRRTAcHI+x7a81T8NGIoCDnQBQAhW2MOBhrS/wmNWr/FM878GN1u0F+8MQMyVbHc3VQhAK/iT5rUY3j8xrHGRIXsHwIB8L1IQGOw/R39eZQUy/b9l5iOVwMqYP82YzkW9Is+/UBN8CB8G7b/Op18FACa7v4oBeugS7Pc/6sFki0Xr8T/K6l1zKiUJwNM23Sok1/K/xVtpi3df3z/9MIp/yUTYv572/t2xStc/9VD+mTa15T9I7dPHjkLDP+dCxkIkq+s/ZdU2vVUp+D8WQSVSXpQIwLtv9p+Ie8i/DGudUjt+AUAYU0tjB9zLP647hbIp7gHAjYkQHFSu8j8O9mJtvHnGP4WzH58ADeS/sTxp9JaV5L8ALBor3u3eP4Q3r4FU5vo/yKNTo56jxT9E+YBWAVkGQFL8nzlbqLm/ny4dHeYT1j+2AWG2MpTRPwVzW4wxyQXAQ0T7hwp43j/3bHCSzhLxP8Beo6v3hw9ANR1lVZNiAMCA5Nx9aMbRv0rAXhh3N+s/BQ/Zynn//j/cfoFDAyzlP1En2bWBqvQ/+m1X7NZwuT8U1xjWujrCP1CWoQh3oOk/tmmkcOfn8L+NVSg5VT7WP1oV+1a3rNw/CPXFHKtt5j8D/l3qcfXcvxy/uzcIj8w/ESCwlivVAUCqFqMFUyXzP0j8rIJS7OK/IN+LberH0D8EzU47+MuhP+7kDKdeS8g/T/QPqQgg678amoaC0mvoP1hqEjwxLfW/r4E/5NSlAUCzjYKHRiryv99zcvYylPS/q+l5Bqff27+uScr8oOHXP1mqb3wIC/W/aT/OWk/91r9ZpCWQ6e7dP1wwPSy61+Q/Up8Ixe9z579zM5+gtNjsP3njCrgDh+c/1Z4TDS9K8z8AX16cG9jEv+I9cO0HYNI/VO3kaYizBUBEl5qJK23Dv7VwK3Jx3/Q/I8/t1VtP87/XkbfBCYzcPxINDqTAcuO/PmnXQvj36r9aw/6JyrDXP84JEPcX/fU/DJfcyGoV4D8lrc3Z56rNv3tqZpjIfeY/34JxS4rZ4D+/nr+Cle/UP8bgjhEipvW/rOt/Fa3sCkA/GezcIPbbPxNnxUzwstI/8Fsge7Tw4j+NYk5/JTjiP5XjRliBTeq/8F+tWEHL578EkdZROijsvx0LHOEG9MS//QcOmEmbAMAJQLSerNCTv0zRTKfaN/6/cO1nmVXezz8lqwUMyiXhvyeT/nyUUgdAXf/5otLnBEBrr/x7lLzDv6Law1J/DLQ/yNa58LiV9D+7WD7+K5ngP2jBXkWvjd4/1MHmrC24BMBeAhzFgXz1v9LVOyiX0gDA+7NOIqq6lb/WP5DRcSzWvwWfCNSO1NS/Iw9F/BPV0z+0/cpsa+Xlv+5mrYvyYug/o8dbh/9f8T9Iefm8zyT3P8S3BERufNC/vyYuJz5T8T+pAb1osvjbP4PKkfd9TuG/qZL++NNUlb99PobTsvXsv30ZyHidK+y/TOq83rft/j/y4gFzWmDyP/jrUr7kvOk/0lIDQjcAAEDh32X1oon1P87IjuGDUO4/pKNhXyH04j9OWnSlab4CwAMIPJ8vTLC/h2piPml2+L8wzrd/tAPiP0eVDDPJ/cw/FVRjwA+D5j95TPavHqnSPxqahoLSa+g//4zEBMC9/L/s53I9yAeoP3nCDv1ZMgVA7c7qDH8V47+7oAjicHvEvxGeu8KSdPY/r8WHcKzW7j+2Q6bLtcb6PypRSlgqbOI/0T1MXuDZxL8I4VcsVaj3P8cLNAdTd/m/QfT26Px05D8HyyKbjR/5v1WJzZUFmbe/shq14Ku1xj8cd/rIBDL3P+igKbJMqvA/mPW5xT9rAEAmGlwVDA/dv/8F7ynA7/8/LW2nY+97+z8Yed+5vTjqv2BmUrjDusA/yokoRKrKt7/9Dc5gKAEIQG4HmOgNuPS/jWkIwq0777/tMAKrKf3XP/QbtkQB+PQ/qS4tuMWBAUA/pPmsh6bpP3wGFGHLNP6/Mf2HoLTm5b+48Eggq4/2P3ZYyb9Podi/PXUGPJLy6j99jrs2PAvxvyebVuNRdcu/eLZg6lke3j9axrYlnaT1P1h5bdJwJ8C/va+bVwk+AcCVhK7UEhfrP5rANYVU1OY/I+NPbfZYxb/QKQsClu/zvwhW2MOBhrS/nYa4oKnxBcCq0LbYZmLlP375Rn1kLQFAcQy8kTiBAcDE5AyakDziv6KA+1rX7fI/Qe7IusQszb9dVdbUxQrRv7DX3I/naO8/VWA431Nh8D8VLqu/4S/Zv8KibxpS3wBAbBpo/LCX8L8a0YEpA1LnP05AZMlY/oe/bKDLaYTb8D8Eal+R9KYIQJgMmQNnXsM/Df71KWKfkz+1MAsPwPjxP1jQ837eA8M/jUszPstw8L86XMvrEU7UP6p0tOaYd/w/jgDNgi5GAEDKLUOtfUbyP9lzek5nUuQ/7JnQ+BYj8b/Kf1CXFwDqP1P6KQ8u5g1AaXqZuS8I2L/ESER6PvoFwITSzFVZW6A/xfc0sE876z+xFlSeH4vgP0wWLDjpAAtAk83DUoQH6j/CTGzfS2/2P2Xt01PC8wDAm3DQS2c0/r8tlAUbXsvfv6r0dJBjcf6/YgB9M+5P6L9TqrgoJyvzPwQnBRHxpbC/IVBt7lhK9z+pA3ghX3PgP7aLJHD/Mes/aZPL/EgOAsDFslKWR1L8P6+vuuOKlsy/PwksbQQU979LVNBF1tb0P3T0ix+0Y6k/ERmEtBfQ2D/tYAA8Hcz7PyV3PA1cmPG/tBOIEeEZ5D8fwNFDw+IEQLm8gzCGnO0/fH9kmtsZBsBQ0ssDVjYBwNHWeMrC+fA/LCMCwylw4T9AhwNL/aj+P9uys0Y8qwfAw6QP9ZPj9j+XqjcvKj4BwOUhPK9Y5gJAH8w+9I4/078tejcw/isGwD34JpjFEfY/dFJ9fA5i3r9N8IQ4mVTyv2h/5A3fZeK/wV/d1BhbBUD8/VDmy9ClP1WJzZUFmbe/EKbYygis+L/V/o/O1lj+PwFwD4Yt5+2/xGjuCsg/9j83nTxGCFjVP112BNJbZd4/8Cz4IiGp5r+EfkfwfVIEwI6VtVxj+u6/5YG8mW85AMBAVeA31jT0vz3/UxY/4+4/tql3EaU127/ZkZA7BWnLv/MZm6TcSgTAMkYfSXIA1z8Y1+W+XoDNP0s4Q39RZN+/wXkaKOY0/L/H//DBoFbLv1FvTw0ZIOq/nrFaIsH9/b+GFqp29w7aP9pDx+/U29O/k86TaqHp+z/RJnb7vlH7vzx1C8GuZ/C/aChG1GA8A8C5DGk0stPzP2NS0HQWVus/WyHWtkFEAkCyDD65kDvxP/LyML803NQ/8qjkAeqx4r9LBob6XNv4P/kW6iFOQby/y5mSFNfrxb8xFCxAa1fSP7jnyXn1W+M/vsIBjocQ9D/6PEf8qGHavwKjmZ+jWQVAWyHWtkFEAkBS6EVRX6b2P4JdYE9xbuY//BkYEty/6b/Sgr/Z62X1v1YOerreVeU/7uaVO1Krzj9KYUn2cnvCPxmFdJumbuC/GpqGgtJr6D8bUO2VJAXVP1+CIHZXtgLACV6zAMe09L9AXJiHBX7rv1cPxE+dggrA1fD51JSf6z/7zid9F+/3v5Jm40QPdvA/PNdpXlC0478f0nEd46oCwChE2VuJGvS/0iVygl7K67/XlpJD27L4P6stYuUJTHW/DxN0Hdtm7b/DB+iibAX3P+8bamGRiOi/XP5b3VeMwr//oG9R9DTmP/WJUS1Pb9U/cQAVPkUC6j9wKZZmhij0v0DHhO1NAdA/uSAtJqOQ47/YSf1nF1r0v+boKeDZmNY/poYAKtiyAUA9N4cybr7bP1Tt5GmIswVALM7DMqa44L8xpXTrry/cP6PKX6feS/O/SyL945v30T8EUcb6xbvCP8PfTpyg3fC/p/jzjOuW0T9N5DJDQ2rjP+P42Vjxs/W/4P8rb6QA8r8EjDN+0Vnzv+rNMmz/mfO/c1JsW7ls3L+EfkfwfVIEwDgmt4cv8v+/E2b5Lbw10T/U9ORqmYbFP/eVT8LTYcK/YEMhOnNcBMBdrVKgceDrv255Q+VWtPq/5x0XCTQAAcCFB72q4Rrzv1I7jfNywvE/PWF3GMEMz7/yjRFNIAijP6P4HtmyKec/Ih1GMpDV/r9iAH0z7k/ovxciSd7Oles/pjBp8uOMsD/Uw/YydBb8v5lmQrSLMPI/hDakQGj+9j/rm5xxY2YCwPCmxSawNgJAi3TgVDV/9b+dleCmDI7ov09fJ+tdLKS/qQN4IV9z4D+fr7xKGqr5v6javPxmG/M/NkZu36ERtz8VVGPAD4PmP8taZpc4vM4/nMYeWk5lBEDI2F5RyenUP44LZ1IrAQJAdOAKozQv7r8wISYCyWD4PwL7cdOBHOA/Nf2WB1epAMAtZIjY6jbiv8A5ZGTHPALAjw9YOXLR/T/UV6rZBmzsv8em7k92a50/4dtSczQr7r+x9y5aLCwFQBYZpr+y5+q/QE0FvGRIAcDt8Zv7mkfgPzRQB1ycvALAZA0kF9S2/78KCIdynjHvP09BSjUQ1+C/1L1ZCGnlBsBC/Rs+zPL5P70EFi4gHOi/46dsixixpb920bbT6HTiP3vF2dsSZPA/EcPuut4a9r8WP2FA16Pvv4qLlXJbLOk/KlFKWCps4j9LllEnGy7rv5iggnZnbeU/EjYRoHqOsL/YEvL/tpIKwNXGF+PFT+A/MFrfRyjI4b8gss4gc5aqvwR1aWSjPOK/QLWWh0VR9L+i65Fsmt/kP/4gF6zg2wdAOtp0f8Zb6b8DUGFTLaWmv7bzxJJ4EO2/KxbdGT27z7/fCLcuNyTXPyeyNMEHfvK/Nl6/a6YU67/rnPH1PtvsP3s3Z5NLqt4/GT59a6D68L8+uVM1pBTuP0pSZz+CpeC/2YqiejCA9b+8z40dpnXmvxx9aBV6ZNE/wQOTNB3Q6j8BZpbLfvPnv/M2aUQhRwzAbxIx6g4l679KtMYQmoYHQAQIr4EPVKi/dtJZSAzR7b/FPlf3+Pz/vwjpju+bSf+/y4YgjQ0e+L+elmLVa6MEwM9zhg0MetG/qdy8CCZO4D8wuwkTC2wHQAaN8sGuCfi/gdZnINP3AMDD5n0MMfLjv1gfRGyhNQLAQsuTRfpI6L8sPSLUKguov41VKDlVPtY/4457PFJh1L/9q6opIy/Hv5eOFm5BcsW/FLsSYAQK/z8leGJomn7Qv8SCVdWQ4rO/Iw9F/BPV0z9aq6v2317Vv156vW12I/Y/Km6U62N25b8ayhmsuR/5P1FvjCiPeN2/DJwPsW+orr8VtWlF/QDUvyBuMXTwwvI/+zgbim2c3b8rFBRLdj2ePwlAtJ6s0JO/Ebb1lPJnsL+YEXUhRqcDwGXzcnXLjcs/6a3lqSda6b+oO7Ls6ADxv37oAFZhNfA/ryZxcSrA0D8usatILFXyv3jTURRN/ee/8uIBc1pg8j+LJ+uncEXVP/TN22wV+OI/5osBjHGv1b9C4yEOOrrbP+SQVmh6vsA/yBe6rbGT2r/fzrReQ+71v0iQSLgsZ+U/Q6oo8KV10r+pqlXFTT3BvxGecNDCJfu/yetYt5zS5z/lVuJH0/UDQFrVR72F+rk/bfwR4w+Y+b/QbLkK9mrkPxRguUQRivQ/3c5+koQj5L+5kvqqsfPrP9Focghn5+2/vDPa66b6rT8V2lPwU0/wv9HYDquyRfe/VBHbFhuJub8Qz6lwa5+wP12bL4mVVd0/8QlbL62hvL8Kk2Y+G8rgP104TQEFstG/qnLF5o2i1T9BUJOT4PTxP3NvDp+7xQdAXuNo2b0O2D9sl5vTnFGxP5qrqmqkaPC/t0V4wpVz8z9a8YULtev3v0xqKwJla/A/x2PBeB1Qxj+10ezFfQT2P/0EGpeuBuu/TVZJyb1JCkArqdu+M7rzv+3G5xzBMO6/S4G+FPoU4r/A/r0U5k3wvxqWLcazWQHAqTTBFyiD6r89W/wnc639P/Hgb39yDfM/DrZ2pE5R/r97QaGr5CDYv6GHGiaY6N0/F+2D48KE9z9f3sQHEW7jv8ByBfcQkui/47WiJuif3r/lsrnMxTvdv+WG2GhGL/C/0Lao5Ih9pL+5glp0rlXkP5CxTxs3hcE/893FeL1pAECkppsgS/X1P9f9UpaH+Oi/1FTxLA8/+L9UPmFH1RH6vyClcpZ40QlAbAPSiTei7L+ZNnMoXZHOv9RBSx4GhOM/2aW5S/og7j+qJnWagw++P4tI9V50TM6/Dq2Kg+VO9b/vZhQQYnvgP8JWj1iO47Y/+hKlxKcisL8QooIZPD8BQMnpV9hI9sg/mlSsv/vZ6z/yi+C8ixnkP3/307vXZfy/TWRrloXL+L8xX0QvQQoCQHi0tIbRGv2/bNpLuX9lAsA/fX3u0X7kv6uywm8FwvI/OnjQ4qOj7b+Xj3ldqQblvyl7HtGTkwJAfTWM2mXTB0C4KDaaWEnov0B/1AgXdf+/SCDB62wp8L82Xr9rphTrv6Wm72Jy8Hu/nRAMRReLAkCmlU4cfQPxP+04RmTjic+/tnMrRgzn2r807dciEiGrPx4EHDt17PA/PAD5wxb6zD8LDnCTYx/6v/FRf3nJtAHATOq83rft/j/EKIMmubCkP9oeJj/lL+C/7c2AB8Dl7j+fQjWqwrTfv8d0f6lx3Je/QY/AsZtx4j/yeWyjg8UFwArjmU3SEA1AyaauexzFB0DCVjQAaBT+PwuWzbiFv9Q/M/cyN9uK6r8LiYXObdn8vw0yi99tGAJAsnCAX/pg+L8uKSKMLzriP9lhMCNqD6c/kV8CAHW54z9cisQoeqzrvxCPRgvdh/O/oWyZmZjI4L9Z+qsPqKPyP/KKfKsCXeI/Kth0lC4g+b/ZwIDm5f0PQCXyjdLMoPQ/bumbg+BVx79ZrU3Ry4b2v8ejDU2l/sk/PHO1WZEK5D+BLq92DEL9P4ptm+baUtq/5E0JIqIzoL/VvFQrxmL8vzcV9czzIc2//+s9RUaUA8AiwEuC6Uf1v4cnm6YtJ+8/l6gvrAqz8r9U6QMXpjTYv3UF16hCqO0/daQIu5gg8z/i10HCk2vgP1fQBSi8SPQ/qSm/0KKWqL8pQreQZNmvvyjqnl0jiee/CW0WfmJw8T/YoVn0F1vov8C2dOcrNvU/vqIMrFMs0T/2TFA8oRv/P0vuc4GQi+y/aQKjL1pG1b8WpArDCRXpv3DlxQWEDQHAg2HTHtCCAkBhIXBXwDnWv4B1tGu0AfM/1fHMDKoA+T/whKwTzJLdP5tT7oZEaPY/YrJaqaEt1D+CMQ0XG8HoP5XGao1zT/Y/5B2Zph519b8Iu1Eg3KDsvyQ0IyxQ7+a/PWq2kFK/579AqvnuLDPqv4JyxlmKwLw/r4aJKKtR7r9V2iw9al3XP62J95iEUu+/OjwkGqv4+b9MSTcw5iygvytm9s8yIgPAMaV0668v3D+9TtNOO0Pwv8yMZNL9Kqw/bKGS1spK8L/diUOs9qPpPzHPKIpEhQHAyZafRXdj9z9tJaWOX7jlv2eSwokkMsu/x6MNTaX+yT+sz3kFZXjCP1sK9nPasbg/5dKaII7T9T+Z6H3lCg7UP0moIz7VR+U/X/b/lE6A5r8cyVNRQwLwv0ioasU1BOy/8HqWyQj2rr8e385R9Y+1PwZk4wQhNLo/FAm4fDMk+b/MP1K1X+7Vv9XGF+PFT+A/otrDUn8MtD8X+/GX4TjJv6eglrNrn/M/SIN4HbeKpj+clCIoXIzyP7/DmbgAVea/h7TDb8O31b/UPyzrsVbwvy+GbpzL5rm/2yJxy+QYBcDlqDJXOvv2P0MagQyxuw9Adi94okgQ3z9IbL5kp3XXv2ezGP0wf+g/1o/xt9ok5787rw5sMRT5vypZgig/0PC/bfHygnRm2j/XlpJD27L4P3ucO5vmuus/+Lf11QwS+7+U+PSFLMvjv+Hv0dhwdPi/VJSgEMdZC0CTHNsFqDjvv3l3oVwrRuq/npZi1WujBMDPTAyGylf0Pz92ItYbqvE/MA4CJmUm079i+GW730YDQLnS86wqtf4/y/VLJL4R8j8=",
          "dtype": "f8"
         }
        }
       ],
       "layout": {
        "coloraxis": {
         "colorbar": {
          "title": {
           "text": "Target"
          }
         },
         "colorscale": [
          [
           0,
           "#0d0887"
          ],
          [
           0.1111111111111111,
           "#46039f"
          ],
          [
           0.2222222222222222,
           "#7201a8"
          ],
          [
           0.3333333333333333,
           "#9c179e"
          ],
          [
           0.4444444444444444,
           "#bd3786"
          ],
          [
           0.5555555555555556,
           "#d8576b"
          ],
          [
           0.6666666666666666,
           "#ed7953"
          ],
          [
           0.7777777777777778,
           "#fb9f3a"
          ],
          [
           0.8888888888888888,
           "#fdca26"
          ],
          [
           1,
           "#f0f921"
          ]
         ]
        },
        "legend": {
         "tracegroupgap": 0
        },
        "margin": {
         "t": 60
        },
        "scene": {
         "domain": {
          "x": [
           0,
           1
          ],
          "y": [
           0,
           1
          ]
         },
         "xaxis": {
          "title": {
           "text": "PC1"
          }
         },
         "yaxis": {
          "title": {
           "text": "PC2"
          }
         },
         "zaxis": {
          "title": {
           "text": "PC3"
          }
         }
        },
        "template": {
         "data": {
          "bar": [
           {
            "error_x": {
             "color": "#2a3f5f"
            },
            "error_y": {
             "color": "#2a3f5f"
            },
            "marker": {
             "line": {
              "color": "#E5ECF6",
              "width": 0.5
             },
             "pattern": {
              "fillmode": "overlay",
              "size": 10,
              "solidity": 0.2
             }
            },
            "type": "bar"
           }
          ],
          "barpolar": [
           {
            "marker": {
             "line": {
              "color": "#E5ECF6",
              "width": 0.5
             },
             "pattern": {
              "fillmode": "overlay",
              "size": 10,
              "solidity": 0.2
             }
            },
            "type": "barpolar"
           }
          ],
          "carpet": [
           {
            "aaxis": {
             "endlinecolor": "#2a3f5f",
             "gridcolor": "white",
             "linecolor": "white",
             "minorgridcolor": "white",
             "startlinecolor": "#2a3f5f"
            },
            "baxis": {
             "endlinecolor": "#2a3f5f",
             "gridcolor": "white",
             "linecolor": "white",
             "minorgridcolor": "white",
             "startlinecolor": "#2a3f5f"
            },
            "type": "carpet"
           }
          ],
          "choropleth": [
           {
            "colorbar": {
             "outlinewidth": 0,
             "ticks": ""
            },
            "type": "choropleth"
           }
          ],
          "contour": [
           {
            "colorbar": {
             "outlinewidth": 0,
             "ticks": ""
            },
            "colorscale": [
             [
              0,
              "#0d0887"
             ],
             [
              0.1111111111111111,
              "#46039f"
             ],
             [
              0.2222222222222222,
              "#7201a8"
             ],
             [
              0.3333333333333333,
              "#9c179e"
             ],
             [
              0.4444444444444444,
              "#bd3786"
             ],
             [
              0.5555555555555556,
              "#d8576b"
             ],
             [
              0.6666666666666666,
              "#ed7953"
             ],
             [
              0.7777777777777778,
              "#fb9f3a"
             ],
             [
              0.8888888888888888,
              "#fdca26"
             ],
             [
              1,
              "#f0f921"
             ]
            ],
            "type": "contour"
           }
          ],
          "contourcarpet": [
           {
            "colorbar": {
             "outlinewidth": 0,
             "ticks": ""
            },
            "type": "contourcarpet"
           }
          ],
          "heatmap": [
           {
            "colorbar": {
             "outlinewidth": 0,
             "ticks": ""
            },
            "colorscale": [
             [
              0,
              "#0d0887"
             ],
             [
              0.1111111111111111,
              "#46039f"
             ],
             [
              0.2222222222222222,
              "#7201a8"
             ],
             [
              0.3333333333333333,
              "#9c179e"
             ],
             [
              0.4444444444444444,
              "#bd3786"
             ],
             [
              0.5555555555555556,
              "#d8576b"
             ],
             [
              0.6666666666666666,
              "#ed7953"
             ],
             [
              0.7777777777777778,
              "#fb9f3a"
             ],
             [
              0.8888888888888888,
              "#fdca26"
             ],
             [
              1,
              "#f0f921"
             ]
            ],
            "type": "heatmap"
           }
          ],
          "histogram": [
           {
            "marker": {
             "pattern": {
              "fillmode": "overlay",
              "size": 10,
              "solidity": 0.2
             }
            },
            "type": "histogram"
           }
          ],
          "histogram2d": [
           {
            "colorbar": {
             "outlinewidth": 0,
             "ticks": ""
            },
            "colorscale": [
             [
              0,
              "#0d0887"
             ],
             [
              0.1111111111111111,
              "#46039f"
             ],
             [
              0.2222222222222222,
              "#7201a8"
             ],
             [
              0.3333333333333333,
              "#9c179e"
             ],
             [
              0.4444444444444444,
              "#bd3786"
             ],
             [
              0.5555555555555556,
              "#d8576b"
             ],
             [
              0.6666666666666666,
              "#ed7953"
             ],
             [
              0.7777777777777778,
              "#fb9f3a"
             ],
             [
              0.8888888888888888,
              "#fdca26"
             ],
             [
              1,
              "#f0f921"
             ]
            ],
            "type": "histogram2d"
           }
          ],
          "histogram2dcontour": [
           {
            "colorbar": {
             "outlinewidth": 0,
             "ticks": ""
            },
            "colorscale": [
             [
              0,
              "#0d0887"
             ],
             [
              0.1111111111111111,
              "#46039f"
             ],
             [
              0.2222222222222222,
              "#7201a8"
             ],
             [
              0.3333333333333333,
              "#9c179e"
             ],
             [
              0.4444444444444444,
              "#bd3786"
             ],
             [
              0.5555555555555556,
              "#d8576b"
             ],
             [
              0.6666666666666666,
              "#ed7953"
             ],
             [
              0.7777777777777778,
              "#fb9f3a"
             ],
             [
              0.8888888888888888,
              "#fdca26"
             ],
             [
              1,
              "#f0f921"
             ]
            ],
            "type": "histogram2dcontour"
           }
          ],
          "mesh3d": [
           {
            "colorbar": {
             "outlinewidth": 0,
             "ticks": ""
            },
            "type": "mesh3d"
           }
          ],
          "parcoords": [
           {
            "line": {
             "colorbar": {
              "outlinewidth": 0,
              "ticks": ""
             }
            },
            "type": "parcoords"
           }
          ],
          "pie": [
           {
            "automargin": true,
            "type": "pie"
           }
          ],
          "scatter": [
           {
            "fillpattern": {
             "fillmode": "overlay",
             "size": 10,
             "solidity": 0.2
            },
            "type": "scatter"
           }
          ],
          "scatter3d": [
           {
            "line": {
             "colorbar": {
              "outlinewidth": 0,
              "ticks": ""
             }
            },
            "marker": {
             "colorbar": {
              "outlinewidth": 0,
              "ticks": ""
             }
            },
            "type": "scatter3d"
           }
          ],
          "scattercarpet": [
           {
            "marker": {
             "colorbar": {
              "outlinewidth": 0,
              "ticks": ""
             }
            },
            "type": "scattercarpet"
           }
          ],
          "scattergeo": [
           {
            "marker": {
             "colorbar": {
              "outlinewidth": 0,
              "ticks": ""
             }
            },
            "type": "scattergeo"
           }
          ],
          "scattergl": [
           {
            "marker": {
             "colorbar": {
              "outlinewidth": 0,
              "ticks": ""
             }
            },
            "type": "scattergl"
           }
          ],
          "scattermap": [
           {
            "marker": {
             "colorbar": {
              "outlinewidth": 0,
              "ticks": ""
             }
            },
            "type": "scattermap"
           }
          ],
          "scattermapbox": [
           {
            "marker": {
             "colorbar": {
              "outlinewidth": 0,
              "ticks": ""
             }
            },
            "type": "scattermapbox"
           }
          ],
          "scatterpolar": [
           {
            "marker": {
             "colorbar": {
              "outlinewidth": 0,
              "ticks": ""
             }
            },
            "type": "scatterpolar"
           }
          ],
          "scatterpolargl": [
           {
            "marker": {
             "colorbar": {
              "outlinewidth": 0,
              "ticks": ""
             }
            },
            "type": "scatterpolargl"
           }
          ],
          "scatterternary": [
           {
            "marker": {
             "colorbar": {
              "outlinewidth": 0,
              "ticks": ""
             }
            },
            "type": "scatterternary"
           }
          ],
          "surface": [
           {
            "colorbar": {
             "outlinewidth": 0,
             "ticks": ""
            },
            "colorscale": [
             [
              0,
              "#0d0887"
             ],
             [
              0.1111111111111111,
              "#46039f"
             ],
             [
              0.2222222222222222,
              "#7201a8"
             ],
             [
              0.3333333333333333,
              "#9c179e"
             ],
             [
              0.4444444444444444,
              "#bd3786"
             ],
             [
              0.5555555555555556,
              "#d8576b"
             ],
             [
              0.6666666666666666,
              "#ed7953"
             ],
             [
              0.7777777777777778,
              "#fb9f3a"
             ],
             [
              0.8888888888888888,
              "#fdca26"
             ],
             [
              1,
              "#f0f921"
             ]
            ],
            "type": "surface"
           }
          ],
          "table": [
           {
            "cells": {
             "fill": {
              "color": "#EBF0F8"
             },
             "line": {
              "color": "white"
             }
            },
            "header": {
             "fill": {
              "color": "#C8D4E3"
             },
             "line": {
              "color": "white"
             }
            },
            "type": "table"
           }
          ]
         },
         "layout": {
          "annotationdefaults": {
           "arrowcolor": "#2a3f5f",
           "arrowhead": 0,
           "arrowwidth": 1
          },
          "autotypenumbers": "strict",
          "coloraxis": {
           "colorbar": {
            "outlinewidth": 0,
            "ticks": ""
           }
          },
          "colorscale": {
           "diverging": [
            [
             0,
             "#8e0152"
            ],
            [
             0.1,
             "#c51b7d"
            ],
            [
             0.2,
             "#de77ae"
            ],
            [
             0.3,
             "#f1b6da"
            ],
            [
             0.4,
             "#fde0ef"
            ],
            [
             0.5,
             "#f7f7f7"
            ],
            [
             0.6,
             "#e6f5d0"
            ],
            [
             0.7,
             "#b8e186"
            ],
            [
             0.8,
             "#7fbc41"
            ],
            [
             0.9,
             "#4d9221"
            ],
            [
             1,
             "#276419"
            ]
           ],
           "sequential": [
            [
             0,
             "#0d0887"
            ],
            [
             0.1111111111111111,
             "#46039f"
            ],
            [
             0.2222222222222222,
             "#7201a8"
            ],
            [
             0.3333333333333333,
             "#9c179e"
            ],
            [
             0.4444444444444444,
             "#bd3786"
            ],
            [
             0.5555555555555556,
             "#d8576b"
            ],
            [
             0.6666666666666666,
             "#ed7953"
            ],
            [
             0.7777777777777778,
             "#fb9f3a"
            ],
            [
             0.8888888888888888,
             "#fdca26"
            ],
            [
             1,
             "#f0f921"
            ]
           ],
           "sequentialminus": [
            [
             0,
             "#0d0887"
            ],
            [
             0.1111111111111111,
             "#46039f"
            ],
            [
             0.2222222222222222,
             "#7201a8"
            ],
            [
             0.3333333333333333,
             "#9c179e"
            ],
            [
             0.4444444444444444,
             "#bd3786"
            ],
            [
             0.5555555555555556,
             "#d8576b"
            ],
            [
             0.6666666666666666,
             "#ed7953"
            ],
            [
             0.7777777777777778,
             "#fb9f3a"
            ],
            [
             0.8888888888888888,
             "#fdca26"
            ],
            [
             1,
             "#f0f921"
            ]
           ]
          },
          "colorway": [
           "#636efa",
           "#EF553B",
           "#00cc96",
           "#ab63fa",
           "#FFA15A",
           "#19d3f3",
           "#FF6692",
           "#B6E880",
           "#FF97FF",
           "#FECB52"
          ],
          "font": {
           "color": "#2a3f5f"
          },
          "geo": {
           "bgcolor": "white",
           "lakecolor": "white",
           "landcolor": "#E5ECF6",
           "showlakes": true,
           "showland": true,
           "subunitcolor": "white"
          },
          "hoverlabel": {
           "align": "left"
          },
          "hovermode": "closest",
          "mapbox": {
           "style": "light"
          },
          "paper_bgcolor": "white",
          "plot_bgcolor": "#E5ECF6",
          "polar": {
           "angularaxis": {
            "gridcolor": "white",
            "linecolor": "white",
            "ticks": ""
           },
           "bgcolor": "#E5ECF6",
           "radialaxis": {
            "gridcolor": "white",
            "linecolor": "white",
            "ticks": ""
           }
          },
          "scene": {
           "xaxis": {
            "backgroundcolor": "#E5ECF6",
            "gridcolor": "white",
            "gridwidth": 2,
            "linecolor": "white",
            "showbackground": true,
            "ticks": "",
            "zerolinecolor": "white"
           },
           "yaxis": {
            "backgroundcolor": "#E5ECF6",
            "gridcolor": "white",
            "gridwidth": 2,
            "linecolor": "white",
            "showbackground": true,
            "ticks": "",
            "zerolinecolor": "white"
           },
           "zaxis": {
            "backgroundcolor": "#E5ECF6",
            "gridcolor": "white",
            "gridwidth": 2,
            "linecolor": "white",
            "showbackground": true,
            "ticks": "",
            "zerolinecolor": "white"
           }
          },
          "shapedefaults": {
           "line": {
            "color": "#2a3f5f"
           }
          },
          "ternary": {
           "aaxis": {
            "gridcolor": "white",
            "linecolor": "white",
            "ticks": ""
           },
           "baxis": {
            "gridcolor": "white",
            "linecolor": "white",
            "ticks": ""
           },
           "bgcolor": "#E5ECF6",
           "caxis": {
            "gridcolor": "white",
            "linecolor": "white",
            "ticks": ""
           }
          },
          "title": {
           "x": 0.05
          },
          "xaxis": {
           "automargin": true,
           "gridcolor": "white",
           "linecolor": "white",
           "ticks": "",
           "title": {
            "standoff": 15
           },
           "zerolinecolor": "white",
           "zerolinewidth": 2
          },
          "yaxis": {
           "automargin": true,
           "gridcolor": "white",
           "linecolor": "white",
           "ticks": "",
           "title": {
            "standoff": 15
           },
           "zerolinecolor": "white",
           "zerolinewidth": 2
          }
         }
        }
       }
      }
     },
     "metadata": {},
     "output_type": "display_data"
    }
   ],
   "source": [
    "import plotly.express as px\n",
    "import pandas as pd\n",
    "\n",
    "# Convert PCA result into a DataFrame\n",
    "df_pca = pd.DataFrame({\n",
    "    'PC1': X_train_pca2[:, 0],\n",
    "    'PC2': X_train_pca2[:, 1],\n",
    "    'PC3': X_train_pca2[:, 2],\n",
    "    'Target': y_train\n",
    "})\n",
    "\n",
    "# Now plot\n",
    "fig = px.scatter_3d(\n",
    "    df_pca,\n",
    "    x='PC1', y='PC2', z='PC3',\n",
    "    color='Target'\n",
    ")\n",
    "fig.show()\n"
   ]
  },
  {
   "cell_type": "markdown",
   "id": "1a0f19c3",
   "metadata": {},
   "source": [
    "Now lets Find Out How many pc is required to capture 90% variance"
   ]
  },
  {
   "cell_type": "code",
   "execution_count": 121,
   "id": "88a38699",
   "metadata": {},
   "outputs": [],
   "source": [
    "pca3 = PCA(n_components=None)   # leave it blanks or pass None , both will give full dimension(12 PC)\n",
    "X_train_pca3 = pca3.fit_transform(X_train_scaled)\n",
    "X_test_pca3 = pca3.transform(x_test_scaled)"
   ]
  },
  {
   "cell_type": "code",
   "execution_count": 124,
   "id": "15cdcb1c",
   "metadata": {},
   "outputs": [
    {
     "name": "stdout",
     "output_type": "stream",
     "text": [
      "[0.25317044 0.21865362 0.13622006 0.09021639 0.0712126  0.05563041\n",
      " 0.04716989 0.0420543  0.03849992 0.0253665  0.01902702 0.00277884]\n"
     ]
    }
   ],
   "source": [
    "percentage_explained_variance= pca3.explained_variance_ratio_\n",
    "print(percentage_explained_variance)"
   ]
  },
  {
   "cell_type": "code",
   "execution_count": 125,
   "id": "1bf8f2df",
   "metadata": {},
   "outputs": [
    {
     "name": "stdout",
     "output_type": "stream",
     "text": [
      "[0.25317044 0.47182406 0.60804412 0.69826051 0.76947312 0.82510352\n",
      " 0.87227342 0.91432771 0.95282764 0.97819414 0.99722116 1.        ]\n"
     ]
    }
   ],
   "source": [
    "print(np.cumsum(percentage_explained_variance))"
   ]
  },
  {
   "cell_type": "code",
   "execution_count": 129,
   "id": "b504ec80",
   "metadata": {},
   "outputs": [
    {
     "data": {
      "image/png": "[encoded data removed]",
      "text/plain": [
       "<Figure size 640x480 with 1 Axes>"
      ]
     },
     "metadata": {},
     "output_type": "display_data"
    }
   ],
   "source": [
    "plt.plot(np.cumsum(percentage_explained_variance))\n",
    "plt.xlabel(\"No of Principal Component\")\n",
    "plt.ylabel(\" percentage of Explained Variance\")\n",
    "plt.show()"
   ]
  },
  {
   "cell_type": "code",
   "execution_count": null,
   "id": "a54895aa",
   "metadata": {},
   "outputs": [],
   "source": [
    "# So Ideally we should Choose 8 PC in order to capture 90% of variance of the data and accuracy\n",
    "# Will also imporove if we take 8PC"
   ]
  },
  {
   "cell_type": "markdown",
   "id": "98fa1e9f",
   "metadata": {},
   "source": [
    "PCA for non linear data ( Kernel PCA)"
   ]
  },
  {
   "cell_type": "code",
   "execution_count": 144,
   "id": "b5c6e849",
   "metadata": {},
   "outputs": [
    {
     "data": {
      "image/png": "[encoded data removed]",
      "text/plain": [
       "<Figure size 800x500 with 2 Axes>"
      ]
     },
     "metadata": {},
     "output_type": "display_data"
    }
   ],
   "source": [
    "from sklearn.decomposition import KernelPCA\n",
    "from sklearn.datasets import make_moons\n",
    "import matplotlib.pyplot as plt\n",
    "\n",
    "# Example: nonlinear dataset (two moons)\n",
    "X, y = make_moons(n_samples=200, noise=0.05, random_state=42)\n",
    "\n",
    "# Apply Kernel PCA\n",
    "kpca = KernelPCA(n_components=2, kernel='rbf', gamma=15)\n",
    "X_kpca = kpca.fit_transform(X)\n",
    "\n",
    "# Plot the transformed data\n",
    "plt.figure(figsize=(8,5))\n",
    "plt.scatter(X_kpca[:, 0], X_kpca[:, 1], c=y, cmap=\"coolwarm\")\n",
    "plt.xlabel(\"1st principal component\")\n",
    "plt.ylabel(\"2nd principal component\")\n",
    "plt.title(\"Kernel PCA (RBF Kernel)\")\n",
    "plt.colorbar()\n",
    "plt.show()\n"
   ]
  },
  {
   "cell_type": "code",
   "execution_count": 143,
   "id": "15ffe1a0",
   "metadata": {},
   "outputs": [
    {
     "data": {
      "image/png": "[encoded data removed]",
      "text/plain": [
       "<Figure size 640x480 with 2 Axes>"
      ]
     },
     "metadata": {},
     "output_type": "display_data"
    }
   ],
   "source": [
    "import matplotlib.pyplot as plt\n",
    "\n",
    "plt.scatter(X[:, 0], X[:, 1], c=y, cmap='viridis')  # or 'plasma', 'coolwarm', etc.\n",
    "plt.title(\"Original data\")\n",
    "plt.colorbar()  # optional, shows color scale\n",
    "plt.show()\n"
   ]
  },
  {
   "cell_type": "code",
   "execution_count": null,
   "id": "54dbe091",
   "metadata": {},
   "outputs": [],
   "source": []
  }
 ],
 "metadata": {
  "kernelspec": {
   "display_name": "myenv",
   "language": "python",
   "name": "python3"
  },
  "language_info": {
   "codemirror_mode": {
    "name": "ipython",
    "version": 3
   },
   "file_extension": ".py",
   "mimetype": "text/x-python",
   "name": "python",
   "nbconvert_exporter": "python",
   "pygments_lexer": "ipython3",
   "version": "3.10.11"
  }
 },
 "nbformat": 4,
 "nbformat_minor": 5
}
