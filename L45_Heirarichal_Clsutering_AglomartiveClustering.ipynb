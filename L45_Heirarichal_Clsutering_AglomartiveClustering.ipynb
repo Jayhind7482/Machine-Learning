{
 "cells": [
  {
   "cell_type": "code",
   "execution_count": 1,
   "id": "9e26eace",
   "metadata": {},
   "outputs": [],
   "source": [
    "import numpy as np\n",
    "import pandas as pd \n",
    "from sklearn.cluster import KMeans , AgglomerativeClustering\n",
    "from matplotlib import pyplot as plt "
   ]
  },
  {
   "cell_type": "markdown",
   "id": "579562b9",
   "metadata": {},
   "source": [
    "# Agglomerative Clsutering "
   ]
  },
  {
   "cell_type": "markdown",
   "id": "82721638",
   "metadata": {},
   "source": [
    "Initially each point is cluster , then we start merging two closet points(or cluster) \\\n",
    "closest distance is calculated by 4 methods .\n",
    "1. Single Link method --> (Minumum distance between two cluster , calculate all possible distance between two cluster and select minimum distance , repeat this for all cluster and select minumum of all calculated min distance and then merge  corresponding these two clsuter ).\n",
    "2. Complete Link Method --> , Calculate the distance for Farthest point in two cluster , do this for each cluster then select the minimum of these farthest distances for clsuteres and then merge the corresponding clsuter .\n",
    "3. Average Link Method --> , calculate the all possible distances between 2 cluster and take the average of these distances , repeat this for all clsuters and then select the minimum of these average distances , and merge the corresponding clusters \n",
    "4. Ward Method --> it calculate the centroid of 2 cluster then calculate and sum the all distances for all points from centroid to points in 2 cluster and substract the inter clsuter distance , repeat this for each cluster , and then select the minimum of these distances for all clusters , then merge the cluster corresponding to minimum distance . \n",
    "\n",
    "By default in SkLearn , the method is ward , all the method is computationally expensive , beacuse initially we are making n*n matrix , where n is number of points , and each entry is distance , in each iteration two points\\clusters will be merged .\\\n",
    "This is not suitable for very large datasets \n",
    "\n"
   ]
  },
  {
   "cell_type": "code",
   "execution_count": 3,
   "id": "c286cd3c",
   "metadata": {},
   "outputs": [],
   "source": [
    "customer_data = pd.read_csv('hierarchical-clustering-with-python-and-scikit-learn-shopping-data.csv')"
   ]
  },
  {
   "cell_type": "code",
   "execution_count": 5,
   "id": "8c46b356",
   "metadata": {},
   "outputs": [
    {
     "data": {
      "text/html": [
       "<div>\n",
       "<style scoped>\n",
       "    .dataframe tbody tr th:only-of-type {\n",
       "        vertical-align: middle;\n",
       "    }\n",
       "\n",
       "    .dataframe tbody tr th {\n",
       "        vertical-align: top;\n",
       "    }\n",
       "\n",
       "    .dataframe thead th {\n",
       "        text-align: right;\n",
       "    }\n",
       "</style>\n",
       "<table border=\"1\" class=\"dataframe\">\n",
       "  <thead>\n",
       "    <tr style=\"text-align: right;\">\n",
       "      <th></th>\n",
       "      <th>CustomerID</th>\n",
       "      <th>Genre</th>\n",
       "      <th>Age</th>\n",
       "      <th>Annual Income (k$)</th>\n",
       "      <th>Spending Score (1-100)</th>\n",
       "    </tr>\n",
       "  </thead>\n",
       "  <tbody>\n",
       "    <tr>\n",
       "      <th>0</th>\n",
       "      <td>1</td>\n",
       "      <td>Male</td>\n",
       "      <td>19</td>\n",
       "      <td>15</td>\n",
       "      <td>39</td>\n",
       "    </tr>\n",
       "    <tr>\n",
       "      <th>1</th>\n",
       "      <td>2</td>\n",
       "      <td>Male</td>\n",
       "      <td>21</td>\n",
       "      <td>15</td>\n",
       "      <td>81</td>\n",
       "    </tr>\n",
       "    <tr>\n",
       "      <th>2</th>\n",
       "      <td>3</td>\n",
       "      <td>Female</td>\n",
       "      <td>20</td>\n",
       "      <td>16</td>\n",
       "      <td>6</td>\n",
       "    </tr>\n",
       "    <tr>\n",
       "      <th>3</th>\n",
       "      <td>4</td>\n",
       "      <td>Female</td>\n",
       "      <td>23</td>\n",
       "      <td>16</td>\n",
       "      <td>77</td>\n",
       "    </tr>\n",
       "    <tr>\n",
       "      <th>4</th>\n",
       "      <td>5</td>\n",
       "      <td>Female</td>\n",
       "      <td>31</td>\n",
       "      <td>17</td>\n",
       "      <td>40</td>\n",
       "    </tr>\n",
       "  </tbody>\n",
       "</table>\n",
       "</div>"
      ],
      "text/plain": [
       "   CustomerID   Genre  Age  Annual Income (k$)  Spending Score (1-100)\n",
       "0           1    Male   19                  15                      39\n",
       "1           2    Male   21                  15                      81\n",
       "2           3  Female   20                  16                       6\n",
       "3           4  Female   23                  16                      77\n",
       "4           5  Female   31                  17                      40"
      ]
     },
     "execution_count": 5,
     "metadata": {},
     "output_type": "execute_result"
    }
   ],
   "source": [
    "customer_data.head()"
   ]
  },
  {
   "cell_type": "code",
   "execution_count": 7,
   "id": "615a7081",
   "metadata": {},
   "outputs": [
    {
     "data": {
      "text/plain": [
       "(200, 2)"
      ]
     },
     "execution_count": 7,
     "metadata": {},
     "output_type": "execute_result"
    }
   ],
   "source": [
    "X = customer_data.iloc[:,3:5]\n",
    "X.shape"
   ]
  },
  {
   "cell_type": "code",
   "execution_count": 8,
   "id": "9f281bca",
   "metadata": {},
   "outputs": [
    {
     "data": {
      "text/html": [
       "<div>\n",
       "<style scoped>\n",
       "    .dataframe tbody tr th:only-of-type {\n",
       "        vertical-align: middle;\n",
       "    }\n",
       "\n",
       "    .dataframe tbody tr th {\n",
       "        vertical-align: top;\n",
       "    }\n",
       "\n",
       "    .dataframe thead th {\n",
       "        text-align: right;\n",
       "    }\n",
       "</style>\n",
       "<table border=\"1\" class=\"dataframe\">\n",
       "  <thead>\n",
       "    <tr style=\"text-align: right;\">\n",
       "      <th></th>\n",
       "      <th>Annual Income (k$)</th>\n",
       "      <th>Spending Score (1-100)</th>\n",
       "    </tr>\n",
       "  </thead>\n",
       "  <tbody>\n",
       "    <tr>\n",
       "      <th>0</th>\n",
       "      <td>15</td>\n",
       "      <td>39</td>\n",
       "    </tr>\n",
       "    <tr>\n",
       "      <th>1</th>\n",
       "      <td>15</td>\n",
       "      <td>81</td>\n",
       "    </tr>\n",
       "    <tr>\n",
       "      <th>2</th>\n",
       "      <td>16</td>\n",
       "      <td>6</td>\n",
       "    </tr>\n",
       "    <tr>\n",
       "      <th>3</th>\n",
       "      <td>16</td>\n",
       "      <td>77</td>\n",
       "    </tr>\n",
       "    <tr>\n",
       "      <th>4</th>\n",
       "      <td>17</td>\n",
       "      <td>40</td>\n",
       "    </tr>\n",
       "    <tr>\n",
       "      <th>...</th>\n",
       "      <td>...</td>\n",
       "      <td>...</td>\n",
       "    </tr>\n",
       "    <tr>\n",
       "      <th>195</th>\n",
       "      <td>120</td>\n",
       "      <td>79</td>\n",
       "    </tr>\n",
       "    <tr>\n",
       "      <th>196</th>\n",
       "      <td>126</td>\n",
       "      <td>28</td>\n",
       "    </tr>\n",
       "    <tr>\n",
       "      <th>197</th>\n",
       "      <td>126</td>\n",
       "      <td>74</td>\n",
       "    </tr>\n",
       "    <tr>\n",
       "      <th>198</th>\n",
       "      <td>137</td>\n",
       "      <td>18</td>\n",
       "    </tr>\n",
       "    <tr>\n",
       "      <th>199</th>\n",
       "      <td>137</td>\n",
       "      <td>83</td>\n",
       "    </tr>\n",
       "  </tbody>\n",
       "</table>\n",
       "<p>200 rows × 2 columns</p>\n",
       "</div>"
      ],
      "text/plain": [
       "     Annual Income (k$)  Spending Score (1-100)\n",
       "0                    15                      39\n",
       "1                    15                      81\n",
       "2                    16                       6\n",
       "3                    16                      77\n",
       "4                    17                      40\n",
       "..                  ...                     ...\n",
       "195                 120                      79\n",
       "196                 126                      28\n",
       "197                 126                      74\n",
       "198                 137                      18\n",
       "199                 137                      83\n",
       "\n",
       "[200 rows x 2 columns]"
      ]
     },
     "execution_count": 8,
     "metadata": {},
     "output_type": "execute_result"
    }
   ],
   "source": [
    "X"
   ]
  },
  {
   "cell_type": "code",
   "execution_count": 9,
   "id": "2b0e1a3a",
   "metadata": {},
   "outputs": [],
   "source": [
    "# First we need to deside the no of cluster , that we can decide by making dendogram \n",
    "# The largest vertical line which is not being cut by any horizontal line , select that vertical line \n",
    "# and then draw a horizontal line passing through this largest vertical line , count the no of cut \n",
    "# made by this horizontal line for each vertical line , the count is the no of clsuter "
   ]
  },
  {
   "cell_type": "code",
   "execution_count": null,
   "id": "69031603",
   "metadata": {},
   "outputs": [
    {
     "data": {
      "image/png": "[encoded data removed]",
      "text/plain": [
       "<Figure size 1200x500 with 1 Axes>"
      ]
     },
     "metadata": {},
     "output_type": "display_data"
    }
   ],
   "source": [
    "from scipy.cluster import hierarchy   # hierarchy is module , not class like Kmeans , or LinearRegression\n",
    "plt.figure(figsize=(12,5))            # Modlue means a python file , which contains functions\n",
    "plt.title(\"dendogram\")                # hierarchy.linakge , will call linkage( ) function from hierarchy.py file\n",
    "Z = hierarchy.linkage(X , method='ward')  # compute linkage \n",
    "dend = hierarchy.dendrogram(Z)     # make dendogram and plot   , this is aonother function in hierarch.py file which takes linakge and return denogram graph\n",
    "plt.show()"
   ]
  },
  {
   "cell_type": "code",
   "execution_count": null,
   "id": "68fe5844",
   "metadata": {},
   "outputs": [],
   "source": [
    "# from above figure , no of optimum cluster = 5 \n",
    "\n",
    "# In Kmeans or anyother class imported from sklearn , first we made object of that class , then call \n",
    "# the method inside that class , here we do not import entire module(like hierarchy.py file is a modlue)\n",
    "# here from import a class from a module( i.e. from a .py file)\n",
    "\n",
    "# if we are importing class then each method ineteract with each other methods , by self. \n",
    "# but in module each function is being called independtaly , each function need the correct value to be passed\n",
    "\n"
   ]
  },
  {
   "cell_type": "code",
   "execution_count": null,
   "id": "c2b7d29e",
   "metadata": {},
   "outputs": [],
   "source": [
    "# For scipy.cluster\n",
    "\n",
    "# scipy/                       ← main package (a folder)\n",
    "# │   __init__.py\n",
    "# │   ...\n",
    "# └─── cluster/                ← subpackage (a folder)\n",
    "#      │   __init__.py\n",
    "#      │   hierarchy.py        ← module (Python file)\n",
    "#      │   vq.py\n",
    "#      │   ...\n",
    "\n",
    "\n",
    "# Now lets see for SkLearn\n",
    "\n",
    "# sklearn/                         ← main package (a folder)\n",
    "# │   __init__.py\n",
    "# │   ...\n",
    "# └─── cluster/                    ← subpackage (a folder)\n",
    "#      │   __init__.py\n",
    "#      │   _kmeans.py              ← module (Python file, contains class KMeans)\n",
    "#      │   _dbscan.py\n",
    "#      │   _hierarchical.py\n",
    "#      │   ...\n"
   ]
  },
  {
   "cell_type": "code",
   "execution_count": 17,
   "id": "5c08504c",
   "metadata": {},
   "outputs": [],
   "source": [
    "from sklearn.cluster import AgglomerativeClustering , KMeans\n",
    "hc = AgglomerativeClustering(n_clusters=5 ,linkage='ward') # By default it is ward\n",
    "labels = hc.fit_predict(X)    # it cant predict labels for new data , kmeans can predict for the new data"
   ]
  },
  {
   "cell_type": "code",
   "execution_count": 18,
   "id": "2d6a2080",
   "metadata": {},
   "outputs": [
    {
     "data": {
      "text/plain": [
       "array([4, 3, 4, 3, 4, 3, 4, 3, 4, 3, 4, 3, 4, 3, 4, 3, 4, 3, 4, 3, 4, 3,\n",
       "       4, 3, 4, 3, 4, 3, 4, 3, 4, 3, 4, 3, 4, 3, 4, 3, 4, 3, 4, 3, 4, 1,\n",
       "       4, 1, 1, 1, 1, 1, 1, 1, 1, 1, 1, 1, 1, 1, 1, 1, 1, 1, 1, 1, 1, 1,\n",
       "       1, 1, 1, 1, 1, 1, 1, 1, 1, 1, 1, 1, 1, 1, 1, 1, 1, 1, 1, 1, 1, 1,\n",
       "       1, 1, 1, 1, 1, 1, 1, 1, 1, 1, 1, 1, 1, 1, 1, 1, 1, 1, 1, 1, 1, 1,\n",
       "       1, 1, 1, 1, 1, 1, 1, 1, 1, 1, 1, 1, 1, 2, 1, 2, 1, 2, 0, 2, 0, 2,\n",
       "       1, 2, 0, 2, 0, 2, 0, 2, 0, 2, 1, 2, 0, 2, 1, 2, 0, 2, 0, 2, 0, 2,\n",
       "       0, 2, 0, 2, 0, 2, 1, 2, 0, 2, 0, 2, 0, 2, 0, 2, 0, 2, 0, 2, 0, 2,\n",
       "       0, 2, 0, 2, 0, 2, 0, 2, 0, 2, 0, 2, 0, 2, 0, 2, 0, 2, 0, 2, 0, 2,\n",
       "       0, 2])"
      ]
     },
     "execution_count": 18,
     "metadata": {},
     "output_type": "execute_result"
    }
   ],
   "source": [
    "labels"
   ]
  },
  {
   "cell_type": "code",
   "execution_count": 19,
   "id": "62b44bec",
   "metadata": {},
   "outputs": [],
   "source": [
    "X = X.values"
   ]
  },
  {
   "cell_type": "code",
   "execution_count": 20,
   "id": "b7c5b80a",
   "metadata": {},
   "outputs": [
    {
     "data": {
      "image/png": "[encoded data removed]",
      "text/plain": [
       "<Figure size 640x480 with 1 Axes>"
      ]
     },
     "metadata": {},
     "output_type": "display_data"
    }
   ],
   "source": [
    "plt.scatter(X[labels==0 ,0] , X[labels==0 ,1] , c='r')\n",
    "plt.scatter(X[labels==1 ,0] , X[labels==1 ,1] , c='b')\n",
    "plt.scatter(X[labels==2 ,0] , X[labels==2 ,1] , c='g')\n",
    "plt.scatter(X[labels==3 ,0] , X[labels==3 ,1] , c='y')\n",
    "plt.scatter(X[labels==4 ,0] , X[labels==4 ,1] , c='black')\n",
    "plt.show()"
   ]
  },
  {
   "cell_type": "code",
   "execution_count": null,
   "id": "50826df6",
   "metadata": {},
   "outputs": [],
   "source": []
  }
 ],
 "metadata": {
  "kernelspec": {
   "display_name": "myenv",
   "language": "python",
   "name": "python3"
  },
  "language_info": {
   "codemirror_mode": {
    "name": "ipython",
    "version": 3
   },
   "file_extension": ".py",
   "mimetype": "text/x-python",
   "name": "python",
   "nbconvert_exporter": "python",
   "pygments_lexer": "ipython3",
   "version": "3.10.11"
  }
 },
 "nbformat": 4,
 "nbformat_minor": 5
}
